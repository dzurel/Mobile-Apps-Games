{
  "nbformat": 4,
  "nbformat_minor": 0,
  "metadata": {
    "colab": {
      "name": "App-Store-XGB H2O AutoML.ipynb",
      "provenance": [],
      "collapsed_sections": [],
      "include_colab_link": true
    },
    "kernelspec": {
      "name": "python3",
      "display_name": "Python 3"
    },
    "accelerator": "GPU"
  },
  "cells": [
    {
      "cell_type": "markdown",
      "metadata": {
        "id": "view-in-github",
        "colab_type": "text"
      },
      "source": [
        "<a href=\"https://colab.research.google.com/github/dzurel/Mobile-Apps-Games/blob/master/App_Store_XGB_H2O_AutoML.ipynb\" target=\"_parent\"><img src=\"https://colab.research.google.com/assets/colab-badge.svg\" alt=\"Open In Colab\"/></a>"
      ]
    },
    {
      "cell_type": "code",
      "metadata": {
        "id": "3d3aNulPTOdz",
        "colab_type": "code",
        "colab": {
          "base_uri": "https://localhost:8080/",
          "height": 221
        },
        "outputId": "e463eb5d-1528-4a86-976b-43d9a8aafa2f"
      },
      "source": [
        "! apt-get install default-jre\n",
        "!java -version"
      ],
      "execution_count": 50,
      "outputs": [
        {
          "output_type": "stream",
          "text": [
            "\rReading package lists... 0%\r\rReading package lists... 0%\r\rReading package lists... 0%\r\rReading package lists... 7%\r\rReading package lists... 7%\r\rReading package lists... 7%\r\rReading package lists... 7%\r\rReading package lists... 65%\r\rReading package lists... 65%\r\rReading package lists... 66%\r\rReading package lists... 66%\r\rReading package lists... 73%\r\rReading package lists... 73%\r\rReading package lists... 73%\r\rReading package lists... 73%\r\rReading package lists... 82%\r\rReading package lists... 82%\r\rReading package lists... 82%\r\rReading package lists... 82%\r\rReading package lists... 82%\r\rReading package lists... 82%\r\rReading package lists... 82%\r\rReading package lists... 82%\r\rReading package lists... 87%\r\rReading package lists... 87%\r\rReading package lists... 87%\r\rReading package lists... 87%\r\rReading package lists... 88%\r\rReading package lists... 93%\r\rReading package lists... 93%\r\rReading package lists... 93%\r\rReading package lists... 93%\r\rReading package lists... 93%\r\rReading package lists... 93%\r\rReading package lists... 94%\r\rReading package lists... 94%\r\rReading package lists... 95%\r\rReading package lists... 95%\r\rReading package lists... 98%\r\rReading package lists... 98%\r\rReading package lists... 98%\r\rReading package lists... 98%\r\rReading package lists... Done\r\n",
            "\rBuilding dependency tree... 0%\r\rBuilding dependency tree... 0%\r\rBuilding dependency tree... 50%\r\rBuilding dependency tree... 50%\r\rBuilding dependency tree       \r\n",
            "\rReading state information... 0%\r\rReading state information... 0%\r\rReading state information... Done\r\n",
            "default-jre is already the newest version (2:1.11-68ubuntu1~18.04.1).\n",
            "default-jre set to manually installed.\n",
            "The following package was automatically installed and is no longer required:\n",
            "  libnvidia-common-430\n",
            "Use 'apt autoremove' to remove it.\n",
            "0 upgraded, 0 newly installed, 0 to remove and 7 not upgraded.\n",
            "openjdk version \"11.0.4\" 2019-07-16\n",
            "OpenJDK Runtime Environment (build 11.0.4+11-post-Ubuntu-1ubuntu218.04.3)\n",
            "OpenJDK 64-Bit Server VM (build 11.0.4+11-post-Ubuntu-1ubuntu218.04.3, mixed mode, sharing)\n"
          ],
          "name": "stdout"
        }
      ]
    },
    {
      "cell_type": "code",
      "metadata": {
        "id": "75_1W30wiue5",
        "colab_type": "code",
        "colab": {
          "base_uri": "https://localhost:8080/",
          "height": 340
        },
        "outputId": "644644e2-3b7a-4600-a030-7d9440abf563"
      },
      "source": [
        "! pip install h2o"
      ],
      "execution_count": 51,
      "outputs": [
        {
          "output_type": "stream",
          "text": [
            "Collecting h2o\n",
            "\u001b[?25l  Downloading https://files.pythonhosted.org/packages/75/4a/6fd8e7f60c8b5401852a73fc48bccf8a97e7a65d1d748bd1ecc7abcf3bd2/h2o-3.26.0.11.tar.gz (123.7MB)\n",
            "\u001b[K     |████████████████████████████████| 123.7MB 92kB/s \n",
            "\u001b[?25hRequirement already satisfied: requests in /usr/local/lib/python3.6/dist-packages (from h2o) (2.21.0)\n",
            "Requirement already satisfied: tabulate in /usr/local/lib/python3.6/dist-packages (from h2o) (0.8.6)\n",
            "Requirement already satisfied: future in /usr/local/lib/python3.6/dist-packages (from h2o) (0.16.0)\n",
            "Collecting colorama>=0.3.8\n",
            "  Downloading https://files.pythonhosted.org/packages/c9/dc/45cdef1b4d119eb96316b3117e6d5708a08029992b2fee2c143c7a0a5cc5/colorama-0.4.3-py2.py3-none-any.whl\n",
            "Requirement already satisfied: certifi>=2017.4.17 in /usr/local/lib/python3.6/dist-packages (from requests->h2o) (2019.11.28)\n",
            "Requirement already satisfied: urllib3<1.25,>=1.21.1 in /usr/local/lib/python3.6/dist-packages (from requests->h2o) (1.24.3)\n",
            "Requirement already satisfied: idna<2.9,>=2.5 in /usr/local/lib/python3.6/dist-packages (from requests->h2o) (2.8)\n",
            "Requirement already satisfied: chardet<3.1.0,>=3.0.2 in /usr/local/lib/python3.6/dist-packages (from requests->h2o) (3.0.4)\n",
            "Building wheels for collected packages: h2o\n",
            "  Building wheel for h2o (setup.py) ... \u001b[?25l\u001b[?25hdone\n",
            "  Created wheel for h2o: filename=h2o-3.26.0.11-py2.py3-none-any.whl size=123721708 sha256=9676f60a3d956be5518158a9001f87863792f151ed8da6fcf21f9707fcbd99ae\n",
            "  Stored in directory: /root/.cache/pip/wheels/71/e6/ed/fb9be80ae2eb0bef9deada74fc370b2532f578d8b00bc1a8fb\n",
            "Successfully built h2o\n",
            "Installing collected packages: colorama, h2o\n",
            "Successfully installed colorama-0.4.3 h2o-3.26.0.11\n"
          ],
          "name": "stdout"
        }
      ]
    },
    {
      "cell_type": "markdown",
      "metadata": {
        "id": "maI6dTjnVNkd",
        "colab_type": "text"
      },
      "source": [
        "In this kernel, we'll go over the following topics -\n",
        "\n",
        "1) Preparing the dataset for regression (i.e. encoding)\n",
        "\n",
        "2) Using scikit learn's linear regression to predict the rating\n",
        "\n",
        "3) Using XGBoost to predict the rating\n",
        "\n",
        "4) Using H2O AutoML to predict rating"
      ]
    },
    {
      "cell_type": "markdown",
      "metadata": {
        "id": "PI99D6fDVg49",
        "colab_type": "text"
      },
      "source": [
        "### Preparing the dataset for regression\n",
        "Import the neccessary libraries and the dataset."
      ]
    },
    {
      "cell_type": "code",
      "metadata": {
        "id": "z4hzjHwpVOMw",
        "colab_type": "code",
        "colab": {
          "base_uri": "https://localhost:8080/",
          "height": 632
        },
        "outputId": "e8e56352-31e9-43c8-be08-9fe050cd6df1"
      },
      "source": [
        "import numpy as np\n",
        "import pandas as pd\n",
        "import matplotlib.pyplot as plt\n",
        "import seaborn as sns\n",
        "\n",
        "data = pd.read_csv('https://raw.githubusercontent.com/dzurel/Mobile-Apps-Games/master/appstore_games.csv')\n",
        "data.head()"
      ],
      "execution_count": 1,
      "outputs": [
        {
          "output_type": "execute_result",
          "data": {
            "text/html": [
              "<div>\n",
              "<style scoped>\n",
              "    .dataframe tbody tr th:only-of-type {\n",
              "        vertical-align: middle;\n",
              "    }\n",
              "\n",
              "    .dataframe tbody tr th {\n",
              "        vertical-align: top;\n",
              "    }\n",
              "\n",
              "    .dataframe thead th {\n",
              "        text-align: right;\n",
              "    }\n",
              "</style>\n",
              "<table border=\"1\" class=\"dataframe\">\n",
              "  <thead>\n",
              "    <tr style=\"text-align: right;\">\n",
              "      <th></th>\n",
              "      <th>URL</th>\n",
              "      <th>ID</th>\n",
              "      <th>Name</th>\n",
              "      <th>Subtitle</th>\n",
              "      <th>Icon URL</th>\n",
              "      <th>Average User Rating</th>\n",
              "      <th>User Rating Count</th>\n",
              "      <th>Price</th>\n",
              "      <th>In-app Purchases</th>\n",
              "      <th>Description</th>\n",
              "      <th>Developer</th>\n",
              "      <th>Age Rating</th>\n",
              "      <th>Languages</th>\n",
              "      <th>Size</th>\n",
              "      <th>Primary Genre</th>\n",
              "      <th>Genres</th>\n",
              "      <th>Original Release Date</th>\n",
              "      <th>Current Version Release Date</th>\n",
              "    </tr>\n",
              "  </thead>\n",
              "  <tbody>\n",
              "    <tr>\n",
              "      <th>0</th>\n",
              "      <td>https://apps.apple.com/us/app/sudoku/id284921427</td>\n",
              "      <td>284921427</td>\n",
              "      <td>Sudoku</td>\n",
              "      <td>NaN</td>\n",
              "      <td>https://is2-ssl.mzstatic.com/image/thumb/Purpl...</td>\n",
              "      <td>4.0</td>\n",
              "      <td>3553.0</td>\n",
              "      <td>2.99</td>\n",
              "      <td>NaN</td>\n",
              "      <td>Join over 21,000,000 of our fans and download ...</td>\n",
              "      <td>Mighty Mighty Good Games</td>\n",
              "      <td>4+</td>\n",
              "      <td>DA, NL, EN, FI, FR, DE, IT, JA, KO, NB, PL, PT...</td>\n",
              "      <td>15853568.0</td>\n",
              "      <td>Games</td>\n",
              "      <td>Games, Strategy, Puzzle</td>\n",
              "      <td>11/07/2008</td>\n",
              "      <td>30/05/2017</td>\n",
              "    </tr>\n",
              "    <tr>\n",
              "      <th>1</th>\n",
              "      <td>https://apps.apple.com/us/app/reversi/id284926400</td>\n",
              "      <td>284926400</td>\n",
              "      <td>Reversi</td>\n",
              "      <td>NaN</td>\n",
              "      <td>https://is4-ssl.mzstatic.com/image/thumb/Purpl...</td>\n",
              "      <td>3.5</td>\n",
              "      <td>284.0</td>\n",
              "      <td>1.99</td>\n",
              "      <td>NaN</td>\n",
              "      <td>The classic game of Reversi, also known as Oth...</td>\n",
              "      <td>Kiss The Machine</td>\n",
              "      <td>4+</td>\n",
              "      <td>EN</td>\n",
              "      <td>12328960.0</td>\n",
              "      <td>Games</td>\n",
              "      <td>Games, Strategy, Board</td>\n",
              "      <td>11/07/2008</td>\n",
              "      <td>17/05/2018</td>\n",
              "    </tr>\n",
              "    <tr>\n",
              "      <th>2</th>\n",
              "      <td>https://apps.apple.com/us/app/morocco/id284946595</td>\n",
              "      <td>284946595</td>\n",
              "      <td>Morocco</td>\n",
              "      <td>NaN</td>\n",
              "      <td>https://is5-ssl.mzstatic.com/image/thumb/Purpl...</td>\n",
              "      <td>3.0</td>\n",
              "      <td>8376.0</td>\n",
              "      <td>0.00</td>\n",
              "      <td>NaN</td>\n",
              "      <td>Play the classic strategy game Othello (also k...</td>\n",
              "      <td>Bayou Games</td>\n",
              "      <td>4+</td>\n",
              "      <td>EN</td>\n",
              "      <td>674816.0</td>\n",
              "      <td>Games</td>\n",
              "      <td>Games, Board, Strategy</td>\n",
              "      <td>11/07/2008</td>\n",
              "      <td>5/09/2017</td>\n",
              "    </tr>\n",
              "    <tr>\n",
              "      <th>3</th>\n",
              "      <td>https://apps.apple.com/us/app/sudoku-free/id28...</td>\n",
              "      <td>285755462</td>\n",
              "      <td>Sudoku (Free)</td>\n",
              "      <td>NaN</td>\n",
              "      <td>https://is3-ssl.mzstatic.com/image/thumb/Purpl...</td>\n",
              "      <td>3.5</td>\n",
              "      <td>190394.0</td>\n",
              "      <td>0.00</td>\n",
              "      <td>NaN</td>\n",
              "      <td>Top 100 free app for over a year.\\nRated \"Best...</td>\n",
              "      <td>Mighty Mighty Good Games</td>\n",
              "      <td>4+</td>\n",
              "      <td>DA, NL, EN, FI, FR, DE, IT, JA, KO, NB, PL, PT...</td>\n",
              "      <td>21552128.0</td>\n",
              "      <td>Games</td>\n",
              "      <td>Games, Strategy, Puzzle</td>\n",
              "      <td>23/07/2008</td>\n",
              "      <td>30/05/2017</td>\n",
              "    </tr>\n",
              "    <tr>\n",
              "      <th>4</th>\n",
              "      <td>https://apps.apple.com/us/app/senet-deluxe/id2...</td>\n",
              "      <td>285831220</td>\n",
              "      <td>Senet Deluxe</td>\n",
              "      <td>NaN</td>\n",
              "      <td>https://is1-ssl.mzstatic.com/image/thumb/Purpl...</td>\n",
              "      <td>3.5</td>\n",
              "      <td>28.0</td>\n",
              "      <td>2.99</td>\n",
              "      <td>NaN</td>\n",
              "      <td>\"Senet Deluxe - The Ancient Game of Life and A...</td>\n",
              "      <td>RoGame Software</td>\n",
              "      <td>4+</td>\n",
              "      <td>DA, NL, EN, FR, DE, EL, IT, JA, KO, NO, PT, RU...</td>\n",
              "      <td>34689024.0</td>\n",
              "      <td>Games</td>\n",
              "      <td>Games, Strategy, Board, Education</td>\n",
              "      <td>18/07/2008</td>\n",
              "      <td>22/07/2018</td>\n",
              "    </tr>\n",
              "  </tbody>\n",
              "</table>\n",
              "</div>"
            ],
            "text/plain": [
              "                                                 URL  ...  Current Version Release Date\n",
              "0   https://apps.apple.com/us/app/sudoku/id284921427  ...                    30/05/2017\n",
              "1  https://apps.apple.com/us/app/reversi/id284926400  ...                    17/05/2018\n",
              "2  https://apps.apple.com/us/app/morocco/id284946595  ...                     5/09/2017\n",
              "3  https://apps.apple.com/us/app/sudoku-free/id28...  ...                    30/05/2017\n",
              "4  https://apps.apple.com/us/app/senet-deluxe/id2...  ...                    22/07/2018\n",
              "\n",
              "[5 rows x 18 columns]"
            ]
          },
          "metadata": {
            "tags": []
          },
          "execution_count": 1
        }
      ]
    },
    {
      "cell_type": "code",
      "metadata": {
        "id": "XT0Cl8LvVpXX",
        "colab_type": "code",
        "colab": {
          "base_uri": "https://localhost:8080/",
          "height": 34
        },
        "outputId": "1ee6954c-e077-41d1-9708-b0eba050890c"
      },
      "source": [
        "data.shape"
      ],
      "execution_count": 2,
      "outputs": [
        {
          "output_type": "execute_result",
          "data": {
            "text/plain": [
              "(17007, 18)"
            ]
          },
          "metadata": {
            "tags": []
          },
          "execution_count": 2
        }
      ]
    },
    {
      "cell_type": "markdown",
      "metadata": {
        "id": "74RVDcoLVuWh",
        "colab_type": "text"
      },
      "source": [
        "Checking for missing values..."
      ]
    },
    {
      "cell_type": "code",
      "metadata": {
        "id": "ID38lRG6VrsW",
        "colab_type": "code",
        "colab": {
          "base_uri": "https://localhost:8080/",
          "height": 340
        },
        "outputId": "0ce55469-6d0e-4971-c318-c2486ae82d3c"
      },
      "source": [
        "data.isna().sum()"
      ],
      "execution_count": 3,
      "outputs": [
        {
          "output_type": "execute_result",
          "data": {
            "text/plain": [
              "URL                                 0\n",
              "ID                                  0\n",
              "Name                                0\n",
              "Subtitle                        11746\n",
              "Icon URL                            0\n",
              "Average User Rating              9446\n",
              "User Rating Count                9446\n",
              "Price                              24\n",
              "In-app Purchases                 9324\n",
              "Description                         0\n",
              "Developer                           0\n",
              "Age Rating                          0\n",
              "Languages                          60\n",
              "Size                                1\n",
              "Primary Genre                       0\n",
              "Genres                              0\n",
              "Original Release Date               0\n",
              "Current Version Release Date        0\n",
              "dtype: int64"
            ]
          },
          "metadata": {
            "tags": []
          },
          "execution_count": 3
        }
      ]
    },
    {
      "cell_type": "markdown",
      "metadata": {
        "id": "clarEG8sV1C6",
        "colab_type": "text"
      },
      "source": [
        "Dropping Subtitle column as it has too many null values. We also drop rows that have any null values."
      ]
    },
    {
      "cell_type": "code",
      "metadata": {
        "id": "WGAxLx11VyXv",
        "colab_type": "code",
        "colab": {
          "base_uri": "https://localhost:8080/",
          "height": 34
        },
        "outputId": "cbad6b80-c447-4165-cddf-674db149b58e"
      },
      "source": [
        "data = data.drop('Subtitle', axis=1)\n",
        "filtered_data = data.dropna()\n",
        "filtered_data.shape"
      ],
      "execution_count": 4,
      "outputs": [
        {
          "output_type": "execute_result",
          "data": {
            "text/plain": [
              "(4618, 17)"
            ]
          },
          "metadata": {
            "tags": []
          },
          "execution_count": 4
        }
      ]
    },
    {
      "cell_type": "markdown",
      "metadata": {
        "id": "Mp_MvH5_V6wJ",
        "colab_type": "text"
      },
      "source": [
        "Check what fields we cannot use right now. Since it is regression, we should only use numbers, and the object fields are not numbers. So we will have to either drop them or convert them to something we can use."
      ]
    },
    {
      "cell_type": "code",
      "metadata": {
        "id": "hFAsMmDGV4sh",
        "colab_type": "code",
        "colab": {
          "base_uri": "https://localhost:8080/",
          "height": 323
        },
        "outputId": "d774bec2-4127-435e-caf8-2eb8ff359960"
      },
      "source": [
        "filtered_data.dtypes == 'object'"
      ],
      "execution_count": 5,
      "outputs": [
        {
          "output_type": "execute_result",
          "data": {
            "text/plain": [
              "URL                              True\n",
              "ID                              False\n",
              "Name                             True\n",
              "Icon URL                         True\n",
              "Average User Rating             False\n",
              "User Rating Count               False\n",
              "Price                           False\n",
              "In-app Purchases                 True\n",
              "Description                      True\n",
              "Developer                        True\n",
              "Age Rating                       True\n",
              "Languages                        True\n",
              "Size                            False\n",
              "Primary Genre                    True\n",
              "Genres                           True\n",
              "Original Release Date            True\n",
              "Current Version Release Date     True\n",
              "dtype: bool"
            ]
          },
          "metadata": {
            "tags": []
          },
          "execution_count": 5
        }
      ]
    },
    {
      "cell_type": "markdown",
      "metadata": {
        "id": "FxOA4ACXV_OE",
        "colab_type": "text"
      },
      "source": [
        "Let's start with the Genres field."
      ]
    },
    {
      "cell_type": "code",
      "metadata": {
        "id": "havh7iX_V8xW",
        "colab_type": "code",
        "colab": {
          "base_uri": "https://localhost:8080/",
          "height": 221
        },
        "outputId": "e2a41bbb-2b58-4d3c-cd56-5bda2fdbf8f0"
      },
      "source": [
        "filtered_data['Genres'].value_counts()"
      ],
      "execution_count": 6,
      "outputs": [
        {
          "output_type": "execute_result",
          "data": {
            "text/plain": [
              "Games, Strategy, Simulation                 194\n",
              "Games, Simulation, Strategy                 193\n",
              "Games, Strategy, Action                     172\n",
              "Games, Strategy                             148\n",
              "Games, Strategy, Role Playing               140\n",
              "                                           ... \n",
              "Games, Board, Strategy, Reference             1\n",
              "Games, Books, Adventure, Strategy             1\n",
              "Reference, Games, Strategy                    1\n",
              "Games, Strategy, Lifestyle, Role Playing      1\n",
              "Entertainment, Strategy, Action, Games        1\n",
              "Name: Genres, Length: 436, dtype: int64"
            ]
          },
          "metadata": {
            "tags": []
          },
          "execution_count": 6
        }
      ]
    },
    {
      "cell_type": "markdown",
      "metadata": {
        "id": "YsydvcQNWDwo",
        "colab_type": "text"
      },
      "source": [
        "There are primarily two types of encodings used for such type of data -\n",
        "\n",
        "1) Label Encoding\n",
        "\n",
        "2) One Hot Encoding\n",
        "\n",
        "In Label Encoding, we assign each seperate value a particular value. In One Hot Encoding, we create multiple features from one feature (genre) and fill the value with 0 or 1 depending whether that genre is present in the value or not.\n",
        "\n",
        "Since each entry in the genre column can have multiple genres, we will have to use one hot encoding. Otherwise, after encoding, for example, \"Games, Strategy, Word\" will be completely different than \"Games, Strategy, Role Playing\" even though they have two genres in common."
      ]
    },
    {
      "cell_type": "markdown",
      "metadata": {
        "id": "9Tj7mQIxWTM-",
        "colab_type": "text"
      },
      "source": [
        "Here we're going to seperate the genres using the ', ' as the delimiter/seperator. You can see that we have split the multiple genres into individual genres that are in a list."
      ]
    },
    {
      "cell_type": "code",
      "metadata": {
        "id": "oGJfQtVSWBnl",
        "colab_type": "code",
        "colab": {
          "base_uri": "https://localhost:8080/",
          "height": 221
        },
        "outputId": "8867edc9-d350-4d14-e036-de5da3f5c413"
      },
      "source": [
        "genres = filtered_data['Genres'].str.split(', ')\n",
        "genres"
      ],
      "execution_count": 7,
      "outputs": [
        {
          "output_type": "execute_result",
          "data": {
            "text/plain": [
              "5        [Games, Entertainment, Strategy, Puzzle]\n",
              "15                       [Games, Strategy, Board]\n",
              "16                       [Games, Strategy, Board]\n",
              "18                      [Games, Puzzle, Strategy]\n",
              "19       [Games, Strategy, Puzzle, Entertainment]\n",
              "                           ...                   \n",
              "16828                   [Games, Puzzle, Strategy]\n",
              "16842                   [Games, Action, Strategy]\n",
              "16856               [Games, Simulation, Strategy]\n",
              "16863                    [Games, Board, Strategy]\n",
              "16932         [Utilities, Games, Board, Strategy]\n",
              "Name: Genres, Length: 4618, dtype: object"
            ]
          },
          "metadata": {
            "tags": []
          },
          "execution_count": 7
        }
      ]
    },
    {
      "cell_type": "markdown",
      "metadata": {
        "id": "dz8_wu1zWXB2",
        "colab_type": "text"
      },
      "source": [
        "sklearn's MultiLabelBinarizer makes it very easy to create a multi label dataframe."
      ]
    },
    {
      "cell_type": "code",
      "metadata": {
        "id": "oS3LNhehWU5F",
        "colab_type": "code",
        "colab": {
          "base_uri": "https://localhost:8080/",
          "height": 360
        },
        "outputId": "d3a7e632-e798-4d70-84f9-3068097a51c2"
      },
      "source": [
        "from sklearn.preprocessing import MultiLabelBinarizer\n",
        "\n",
        "# Binarise labels\n",
        "\n",
        "mlb = MultiLabelBinarizer()\n",
        "expandedLabelData = mlb.fit_transform(filtered_data['Genres'].str.split(', '))\n",
        "labelClasses = mlb.classes_\n",
        "print(labelClasses)\n",
        "\n",
        "# Create a pandas.DataFrame from our output\n",
        "expandedLabels = pd.DataFrame(expandedLabelData, columns=labelClasses)\n",
        "expandedLabels.head()"
      ],
      "execution_count": 8,
      "outputs": [
        {
          "output_type": "stream",
          "text": [
            "['Action' 'Adventure' 'Board' 'Books' 'Business' 'Card' 'Casino' 'Casual'\n",
            " 'Education' 'Entertainment' 'Family' 'Finance' 'Food & Drink' 'Games'\n",
            " 'Health & Fitness' 'Lifestyle' 'Magazines & Newspapers' 'Medical' 'Music'\n",
            " 'Navigation' 'News' 'Photo & Video' 'Productivity' 'Puzzle' 'Racing'\n",
            " 'Reference' 'Role Playing' 'Simulation' 'Social Networking' 'Sports'\n",
            " 'Strategy' 'Travel' 'Trivia' 'Utilities' 'Word']\n"
          ],
          "name": "stdout"
        },
        {
          "output_type": "execute_result",
          "data": {
            "text/html": [
              "<div>\n",
              "<style scoped>\n",
              "    .dataframe tbody tr th:only-of-type {\n",
              "        vertical-align: middle;\n",
              "    }\n",
              "\n",
              "    .dataframe tbody tr th {\n",
              "        vertical-align: top;\n",
              "    }\n",
              "\n",
              "    .dataframe thead th {\n",
              "        text-align: right;\n",
              "    }\n",
              "</style>\n",
              "<table border=\"1\" class=\"dataframe\">\n",
              "  <thead>\n",
              "    <tr style=\"text-align: right;\">\n",
              "      <th></th>\n",
              "      <th>Action</th>\n",
              "      <th>Adventure</th>\n",
              "      <th>Board</th>\n",
              "      <th>Books</th>\n",
              "      <th>Business</th>\n",
              "      <th>Card</th>\n",
              "      <th>Casino</th>\n",
              "      <th>Casual</th>\n",
              "      <th>Education</th>\n",
              "      <th>Entertainment</th>\n",
              "      <th>Family</th>\n",
              "      <th>Finance</th>\n",
              "      <th>Food &amp; Drink</th>\n",
              "      <th>Games</th>\n",
              "      <th>Health &amp; Fitness</th>\n",
              "      <th>Lifestyle</th>\n",
              "      <th>Magazines &amp; Newspapers</th>\n",
              "      <th>Medical</th>\n",
              "      <th>Music</th>\n",
              "      <th>Navigation</th>\n",
              "      <th>News</th>\n",
              "      <th>Photo &amp; Video</th>\n",
              "      <th>Productivity</th>\n",
              "      <th>Puzzle</th>\n",
              "      <th>Racing</th>\n",
              "      <th>Reference</th>\n",
              "      <th>Role Playing</th>\n",
              "      <th>Simulation</th>\n",
              "      <th>Social Networking</th>\n",
              "      <th>Sports</th>\n",
              "      <th>Strategy</th>\n",
              "      <th>Travel</th>\n",
              "      <th>Trivia</th>\n",
              "      <th>Utilities</th>\n",
              "      <th>Word</th>\n",
              "    </tr>\n",
              "  </thead>\n",
              "  <tbody>\n",
              "    <tr>\n",
              "      <th>0</th>\n",
              "      <td>0</td>\n",
              "      <td>0</td>\n",
              "      <td>0</td>\n",
              "      <td>0</td>\n",
              "      <td>0</td>\n",
              "      <td>0</td>\n",
              "      <td>0</td>\n",
              "      <td>0</td>\n",
              "      <td>0</td>\n",
              "      <td>1</td>\n",
              "      <td>0</td>\n",
              "      <td>0</td>\n",
              "      <td>0</td>\n",
              "      <td>1</td>\n",
              "      <td>0</td>\n",
              "      <td>0</td>\n",
              "      <td>0</td>\n",
              "      <td>0</td>\n",
              "      <td>0</td>\n",
              "      <td>0</td>\n",
              "      <td>0</td>\n",
              "      <td>0</td>\n",
              "      <td>0</td>\n",
              "      <td>1</td>\n",
              "      <td>0</td>\n",
              "      <td>0</td>\n",
              "      <td>0</td>\n",
              "      <td>0</td>\n",
              "      <td>0</td>\n",
              "      <td>0</td>\n",
              "      <td>1</td>\n",
              "      <td>0</td>\n",
              "      <td>0</td>\n",
              "      <td>0</td>\n",
              "      <td>0</td>\n",
              "    </tr>\n",
              "    <tr>\n",
              "      <th>1</th>\n",
              "      <td>0</td>\n",
              "      <td>0</td>\n",
              "      <td>1</td>\n",
              "      <td>0</td>\n",
              "      <td>0</td>\n",
              "      <td>0</td>\n",
              "      <td>0</td>\n",
              "      <td>0</td>\n",
              "      <td>0</td>\n",
              "      <td>0</td>\n",
              "      <td>0</td>\n",
              "      <td>0</td>\n",
              "      <td>0</td>\n",
              "      <td>1</td>\n",
              "      <td>0</td>\n",
              "      <td>0</td>\n",
              "      <td>0</td>\n",
              "      <td>0</td>\n",
              "      <td>0</td>\n",
              "      <td>0</td>\n",
              "      <td>0</td>\n",
              "      <td>0</td>\n",
              "      <td>0</td>\n",
              "      <td>0</td>\n",
              "      <td>0</td>\n",
              "      <td>0</td>\n",
              "      <td>0</td>\n",
              "      <td>0</td>\n",
              "      <td>0</td>\n",
              "      <td>0</td>\n",
              "      <td>1</td>\n",
              "      <td>0</td>\n",
              "      <td>0</td>\n",
              "      <td>0</td>\n",
              "      <td>0</td>\n",
              "    </tr>\n",
              "    <tr>\n",
              "      <th>2</th>\n",
              "      <td>0</td>\n",
              "      <td>0</td>\n",
              "      <td>1</td>\n",
              "      <td>0</td>\n",
              "      <td>0</td>\n",
              "      <td>0</td>\n",
              "      <td>0</td>\n",
              "      <td>0</td>\n",
              "      <td>0</td>\n",
              "      <td>0</td>\n",
              "      <td>0</td>\n",
              "      <td>0</td>\n",
              "      <td>0</td>\n",
              "      <td>1</td>\n",
              "      <td>0</td>\n",
              "      <td>0</td>\n",
              "      <td>0</td>\n",
              "      <td>0</td>\n",
              "      <td>0</td>\n",
              "      <td>0</td>\n",
              "      <td>0</td>\n",
              "      <td>0</td>\n",
              "      <td>0</td>\n",
              "      <td>0</td>\n",
              "      <td>0</td>\n",
              "      <td>0</td>\n",
              "      <td>0</td>\n",
              "      <td>0</td>\n",
              "      <td>0</td>\n",
              "      <td>0</td>\n",
              "      <td>1</td>\n",
              "      <td>0</td>\n",
              "      <td>0</td>\n",
              "      <td>0</td>\n",
              "      <td>0</td>\n",
              "    </tr>\n",
              "    <tr>\n",
              "      <th>3</th>\n",
              "      <td>0</td>\n",
              "      <td>0</td>\n",
              "      <td>0</td>\n",
              "      <td>0</td>\n",
              "      <td>0</td>\n",
              "      <td>0</td>\n",
              "      <td>0</td>\n",
              "      <td>0</td>\n",
              "      <td>0</td>\n",
              "      <td>0</td>\n",
              "      <td>0</td>\n",
              "      <td>0</td>\n",
              "      <td>0</td>\n",
              "      <td>1</td>\n",
              "      <td>0</td>\n",
              "      <td>0</td>\n",
              "      <td>0</td>\n",
              "      <td>0</td>\n",
              "      <td>0</td>\n",
              "      <td>0</td>\n",
              "      <td>0</td>\n",
              "      <td>0</td>\n",
              "      <td>0</td>\n",
              "      <td>1</td>\n",
              "      <td>0</td>\n",
              "      <td>0</td>\n",
              "      <td>0</td>\n",
              "      <td>0</td>\n",
              "      <td>0</td>\n",
              "      <td>0</td>\n",
              "      <td>1</td>\n",
              "      <td>0</td>\n",
              "      <td>0</td>\n",
              "      <td>0</td>\n",
              "      <td>0</td>\n",
              "    </tr>\n",
              "    <tr>\n",
              "      <th>4</th>\n",
              "      <td>0</td>\n",
              "      <td>0</td>\n",
              "      <td>0</td>\n",
              "      <td>0</td>\n",
              "      <td>0</td>\n",
              "      <td>0</td>\n",
              "      <td>0</td>\n",
              "      <td>0</td>\n",
              "      <td>0</td>\n",
              "      <td>1</td>\n",
              "      <td>0</td>\n",
              "      <td>0</td>\n",
              "      <td>0</td>\n",
              "      <td>1</td>\n",
              "      <td>0</td>\n",
              "      <td>0</td>\n",
              "      <td>0</td>\n",
              "      <td>0</td>\n",
              "      <td>0</td>\n",
              "      <td>0</td>\n",
              "      <td>0</td>\n",
              "      <td>0</td>\n",
              "      <td>0</td>\n",
              "      <td>1</td>\n",
              "      <td>0</td>\n",
              "      <td>0</td>\n",
              "      <td>0</td>\n",
              "      <td>0</td>\n",
              "      <td>0</td>\n",
              "      <td>0</td>\n",
              "      <td>1</td>\n",
              "      <td>0</td>\n",
              "      <td>0</td>\n",
              "      <td>0</td>\n",
              "      <td>0</td>\n",
              "    </tr>\n",
              "  </tbody>\n",
              "</table>\n",
              "</div>"
            ],
            "text/plain": [
              "   Action  Adventure  Board  Books  ...  Travel  Trivia  Utilities  Word\n",
              "0       0          0      0      0  ...       0       0          0     0\n",
              "1       0          0      1      0  ...       0       0          0     0\n",
              "2       0          0      1      0  ...       0       0          0     0\n",
              "3       0          0      0      0  ...       0       0          0     0\n",
              "4       0          0      0      0  ...       0       0          0     0\n",
              "\n",
              "[5 rows x 35 columns]"
            ]
          },
          "metadata": {
            "tags": []
          },
          "execution_count": 8
        }
      ]
    },
    {
      "cell_type": "markdown",
      "metadata": {
        "id": "oiueSUt0Whub",
        "colab_type": "text"
      },
      "source": [
        "Let's see how many of each genre is present."
      ]
    },
    {
      "cell_type": "code",
      "metadata": {
        "id": "uycfMtX_Wb60",
        "colab_type": "code",
        "colab": {
          "base_uri": "https://localhost:8080/",
          "height": 629
        },
        "outputId": "f6c82104-2c52-44e3-f178-34c2914635f8"
      },
      "source": [
        "expandedLabels.sum()"
      ],
      "execution_count": 9,
      "outputs": [
        {
          "output_type": "execute_result",
          "data": {
            "text/plain": [
              "Action                     699\n",
              "Adventure                  221\n",
              "Board                      379\n",
              "Books                        9\n",
              "Business                     8\n",
              "Card                       199\n",
              "Casino                       8\n",
              "Casual                     314\n",
              "Education                  117\n",
              "Entertainment             2312\n",
              "Family                     207\n",
              "Finance                     20\n",
              "Food & Drink                18\n",
              "Games                     4618\n",
              "Health & Fitness            11\n",
              "Lifestyle                   52\n",
              "Magazines & Newspapers       1\n",
              "Medical                      3\n",
              "Music                       29\n",
              "Navigation                   2\n",
              "News                         4\n",
              "Photo & Video                6\n",
              "Productivity                10\n",
              "Puzzle                     722\n",
              "Racing                      31\n",
              "Reference                   20\n",
              "Role Playing               622\n",
              "Simulation                 858\n",
              "Social Networking           57\n",
              "Sports                     108\n",
              "Strategy                  4618\n",
              "Travel                      29\n",
              "Trivia                      32\n",
              "Utilities                   31\n",
              "Word                        27\n",
              "dtype: int64"
            ]
          },
          "metadata": {
            "tags": []
          },
          "execution_count": 9
        }
      ]
    },
    {
      "cell_type": "markdown",
      "metadata": {
        "id": "-Ajw6CpYWmD9",
        "colab_type": "text"
      },
      "source": [
        "I'm going to plot them for a more intuitive understanding."
      ]
    },
    {
      "cell_type": "code",
      "metadata": {
        "id": "hxqWRjwgWjon",
        "colab_type": "code",
        "colab": {
          "base_uri": "https://localhost:8080/",
          "height": 645
        },
        "outputId": "f9f077d7-afcc-48e6-aed3-34466a2e2f1d"
      },
      "source": [
        "categories = list(expandedLabels.columns.values)\n",
        "plt.figure(figsize=(20,10))\n",
        "f = sns.barplot(categories, expandedLabels.sum().values)\n",
        "f.set_xticklabels(f.get_xticklabels(), rotation='25', ha=\"right\");"
      ],
      "execution_count": 10,
      "outputs": [
        {
          "output_type": "display_data",
          "data": {
            "image/png": "[encoded data removed]",
            "text/plain": [
              "<Figure size 1440x720 with 1 Axes>"
            ]
          },
          "metadata": {
            "tags": []
          }
        }
      ]
    },
    {
      "cell_type": "markdown",
      "metadata": {
        "id": "BDRIjwg-Wpjz",
        "colab_type": "text"
      },
      "source": [
        "Seems like Games and Strategy are the most common genres, which is not surprising because the dataset itself is named 'Mobile Strategy Games'. Let's try removing them and check..."
      ]
    },
    {
      "cell_type": "code",
      "metadata": {
        "id": "FTL0VgzCWnvB",
        "colab_type": "code",
        "colab": {
          "base_uri": "https://localhost:8080/",
          "height": 645
        },
        "outputId": "dac3ec1f-f7a1-4afe-f1e6-d5d6485f0d2d"
      },
      "source": [
        "expanded_labels_minus_games_strategy = expandedLabels.drop([\"Strategy\", \"Games\"], axis=1)\n",
        "categories = list(expanded_labels_minus_games_strategy.columns.values)\n",
        "plt.figure(figsize=(20,10))\n",
        "f = sns.barplot(categories, expanded_labels_minus_games_strategy.sum().values)\n",
        "f.set_xticklabels(f.get_xticklabels(), rotation='25', ha=\"right\");"
      ],
      "execution_count": 11,
      "outputs": [
        {
          "output_type": "display_data",
          "data": {
            "image/png": "[encoded data removed]",
            "text/plain": [
              "<Figure size 1440x720 with 1 Axes>"
            ]
          },
          "metadata": {
            "tags": []
          }
        }
      ]
    },
    {
      "cell_type": "markdown",
      "metadata": {
        "id": "w6oqBXdaWtx_",
        "colab_type": "text"
      },
      "source": [
        "It's quite highly dominated by Entertainment.\n",
        "\n",
        "We're going to merge the two dataframes -- our filtered data frame with no null values and the expanded label dataframes with a one hot encoded genres. So our new dataframe will have the columns of the original dataframe and the expanded label dataframe."
      ]
    },
    {
      "cell_type": "code",
      "metadata": {
        "id": "SyFN8Je7WsLj",
        "colab_type": "code",
        "colab": {
          "base_uri": "https://localhost:8080/",
          "height": 547
        },
        "outputId": "13df79ef-b7ce-47ac-aeee-706fc7e5b28a"
      },
      "source": [
        "print(filtered_data.shape)\n",
        "print(expandedLabels.shape)\n",
        "df = pd.concat([filtered_data.reset_index(drop=True),expandedLabels.reset_index(drop=True)], axis=1)\n",
        "print(df.shape)\n",
        "df.head()"
      ],
      "execution_count": 12,
      "outputs": [
        {
          "output_type": "stream",
          "text": [
            "(4618, 17)\n",
            "(4618, 35)\n",
            "(4618, 52)\n"
          ],
          "name": "stdout"
        },
        {
          "output_type": "execute_result",
          "data": {
            "text/html": [
              "<div>\n",
              "<style scoped>\n",
              "    .dataframe tbody tr th:only-of-type {\n",
              "        vertical-align: middle;\n",
              "    }\n",
              "\n",
              "    .dataframe tbody tr th {\n",
              "        vertical-align: top;\n",
              "    }\n",
              "\n",
              "    .dataframe thead th {\n",
              "        text-align: right;\n",
              "    }\n",
              "</style>\n",
              "<table border=\"1\" class=\"dataframe\">\n",
              "  <thead>\n",
              "    <tr style=\"text-align: right;\">\n",
              "      <th></th>\n",
              "      <th>URL</th>\n",
              "      <th>ID</th>\n",
              "      <th>Name</th>\n",
              "      <th>Icon URL</th>\n",
              "      <th>Average User Rating</th>\n",
              "      <th>User Rating Count</th>\n",
              "      <th>Price</th>\n",
              "      <th>In-app Purchases</th>\n",
              "      <th>Description</th>\n",
              "      <th>Developer</th>\n",
              "      <th>Age Rating</th>\n",
              "      <th>Languages</th>\n",
              "      <th>Size</th>\n",
              "      <th>Primary Genre</th>\n",
              "      <th>Genres</th>\n",
              "      <th>Original Release Date</th>\n",
              "      <th>Current Version Release Date</th>\n",
              "      <th>Action</th>\n",
              "      <th>Adventure</th>\n",
              "      <th>Board</th>\n",
              "      <th>Books</th>\n",
              "      <th>Business</th>\n",
              "      <th>Card</th>\n",
              "      <th>Casino</th>\n",
              "      <th>Casual</th>\n",
              "      <th>Education</th>\n",
              "      <th>Entertainment</th>\n",
              "      <th>Family</th>\n",
              "      <th>Finance</th>\n",
              "      <th>Food &amp; Drink</th>\n",
              "      <th>Games</th>\n",
              "      <th>Health &amp; Fitness</th>\n",
              "      <th>Lifestyle</th>\n",
              "      <th>Magazines &amp; Newspapers</th>\n",
              "      <th>Medical</th>\n",
              "      <th>Music</th>\n",
              "      <th>Navigation</th>\n",
              "      <th>News</th>\n",
              "      <th>Photo &amp; Video</th>\n",
              "      <th>Productivity</th>\n",
              "      <th>Puzzle</th>\n",
              "      <th>Racing</th>\n",
              "      <th>Reference</th>\n",
              "      <th>Role Playing</th>\n",
              "      <th>Simulation</th>\n",
              "      <th>Social Networking</th>\n",
              "      <th>Sports</th>\n",
              "      <th>Strategy</th>\n",
              "      <th>Travel</th>\n",
              "      <th>Trivia</th>\n",
              "      <th>Utilities</th>\n",
              "      <th>Word</th>\n",
              "    </tr>\n",
              "  </thead>\n",
              "  <tbody>\n",
              "    <tr>\n",
              "      <th>0</th>\n",
              "      <td>https://apps.apple.com/us/app/sudoku-classic-n...</td>\n",
              "      <td>286210009</td>\n",
              "      <td>Sudoku - Classic number puzzle</td>\n",
              "      <td>https://is1-ssl.mzstatic.com/image/thumb/Purpl...</td>\n",
              "      <td>3.0</td>\n",
              "      <td>47.0</td>\n",
              "      <td>0.0</td>\n",
              "      <td>1.99</td>\n",
              "      <td>Sudoku will tease your brain, challenge you or...</td>\n",
              "      <td>OutOfTheBit Ltd</td>\n",
              "      <td>4+</td>\n",
              "      <td>EN</td>\n",
              "      <td>48672768.0</td>\n",
              "      <td>Games</td>\n",
              "      <td>Games, Entertainment, Strategy, Puzzle</td>\n",
              "      <td>30/07/2008</td>\n",
              "      <td>29/04/2019</td>\n",
              "      <td>0</td>\n",
              "      <td>0</td>\n",
              "      <td>0</td>\n",
              "      <td>0</td>\n",
              "      <td>0</td>\n",
              "      <td>0</td>\n",
              "      <td>0</td>\n",
              "      <td>0</td>\n",
              "      <td>0</td>\n",
              "      <td>1</td>\n",
              "      <td>0</td>\n",
              "      <td>0</td>\n",
              "      <td>0</td>\n",
              "      <td>1</td>\n",
              "      <td>0</td>\n",
              "      <td>0</td>\n",
              "      <td>0</td>\n",
              "      <td>0</td>\n",
              "      <td>0</td>\n",
              "      <td>0</td>\n",
              "      <td>0</td>\n",
              "      <td>0</td>\n",
              "      <td>0</td>\n",
              "      <td>1</td>\n",
              "      <td>0</td>\n",
              "      <td>0</td>\n",
              "      <td>0</td>\n",
              "      <td>0</td>\n",
              "      <td>0</td>\n",
              "      <td>0</td>\n",
              "      <td>1</td>\n",
              "      <td>0</td>\n",
              "      <td>0</td>\n",
              "      <td>0</td>\n",
              "      <td>0</td>\n",
              "    </tr>\n",
              "    <tr>\n",
              "      <th>1</th>\n",
              "      <td>https://apps.apple.com/us/app/awele-oware-manc...</td>\n",
              "      <td>289217958</td>\n",
              "      <td>Awele/Oware - Mancala HD</td>\n",
              "      <td>https://is3-ssl.mzstatic.com/image/thumb/Purpl...</td>\n",
              "      <td>3.0</td>\n",
              "      <td>112.0</td>\n",
              "      <td>0.0</td>\n",
              "      <td>0.99</td>\n",
              "      <td>Awele/Oware is the oldest African board game a...</td>\n",
              "      <td>SOLILAB</td>\n",
              "      <td>4+</td>\n",
              "      <td>EN, FR, DE, IT, ES</td>\n",
              "      <td>122826752.0</td>\n",
              "      <td>Games</td>\n",
              "      <td>Games, Strategy, Board</td>\n",
              "      <td>31/08/2008</td>\n",
              "      <td>6/04/2015</td>\n",
              "      <td>0</td>\n",
              "      <td>0</td>\n",
              "      <td>1</td>\n",
              "      <td>0</td>\n",
              "      <td>0</td>\n",
              "      <td>0</td>\n",
              "      <td>0</td>\n",
              "      <td>0</td>\n",
              "      <td>0</td>\n",
              "      <td>0</td>\n",
              "      <td>0</td>\n",
              "      <td>0</td>\n",
              "      <td>0</td>\n",
              "      <td>1</td>\n",
              "      <td>0</td>\n",
              "      <td>0</td>\n",
              "      <td>0</td>\n",
              "      <td>0</td>\n",
              "      <td>0</td>\n",
              "      <td>0</td>\n",
              "      <td>0</td>\n",
              "      <td>0</td>\n",
              "      <td>0</td>\n",
              "      <td>0</td>\n",
              "      <td>0</td>\n",
              "      <td>0</td>\n",
              "      <td>0</td>\n",
              "      <td>0</td>\n",
              "      <td>0</td>\n",
              "      <td>0</td>\n",
              "      <td>1</td>\n",
              "      <td>0</td>\n",
              "      <td>0</td>\n",
              "      <td>0</td>\n",
              "      <td>0</td>\n",
              "    </tr>\n",
              "    <tr>\n",
              "      <th>2</th>\n",
              "      <td>https://apps.apple.com/us/app/awele-oware-manc...</td>\n",
              "      <td>289217958</td>\n",
              "      <td>Awele/Oware - Mancala HD</td>\n",
              "      <td>https://is3-ssl.mzstatic.com/image/thumb/Purpl...</td>\n",
              "      <td>3.0</td>\n",
              "      <td>112.0</td>\n",
              "      <td>0.0</td>\n",
              "      <td>0.99</td>\n",
              "      <td>Awele/Oware is the oldest African board game a...</td>\n",
              "      <td>SOLILAB</td>\n",
              "      <td>4+</td>\n",
              "      <td>EN, FR, DE, IT, ES</td>\n",
              "      <td>122826752.0</td>\n",
              "      <td>Games</td>\n",
              "      <td>Games, Strategy, Board</td>\n",
              "      <td>31/08/2008</td>\n",
              "      <td>6/04/2015</td>\n",
              "      <td>0</td>\n",
              "      <td>0</td>\n",
              "      <td>1</td>\n",
              "      <td>0</td>\n",
              "      <td>0</td>\n",
              "      <td>0</td>\n",
              "      <td>0</td>\n",
              "      <td>0</td>\n",
              "      <td>0</td>\n",
              "      <td>0</td>\n",
              "      <td>0</td>\n",
              "      <td>0</td>\n",
              "      <td>0</td>\n",
              "      <td>1</td>\n",
              "      <td>0</td>\n",
              "      <td>0</td>\n",
              "      <td>0</td>\n",
              "      <td>0</td>\n",
              "      <td>0</td>\n",
              "      <td>0</td>\n",
              "      <td>0</td>\n",
              "      <td>0</td>\n",
              "      <td>0</td>\n",
              "      <td>0</td>\n",
              "      <td>0</td>\n",
              "      <td>0</td>\n",
              "      <td>0</td>\n",
              "      <td>0</td>\n",
              "      <td>0</td>\n",
              "      <td>0</td>\n",
              "      <td>1</td>\n",
              "      <td>0</td>\n",
              "      <td>0</td>\n",
              "      <td>0</td>\n",
              "      <td>0</td>\n",
              "    </tr>\n",
              "    <tr>\n",
              "      <th>3</th>\n",
              "      <td>https://apps.apple.com/us/app/catcha-mouse/id2...</td>\n",
              "      <td>290493286</td>\n",
              "      <td>Catcha Mouse</td>\n",
              "      <td>https://is1-ssl.mzstatic.com/image/thumb/Purpl...</td>\n",
              "      <td>3.5</td>\n",
              "      <td>95971.0</td>\n",
              "      <td>0.0</td>\n",
              "      <td>1.99, 0.99, 1.99, 0.99, 4.99, 1.99, 1.99</td>\n",
              "      <td>*More than 4 Million downloads!!!\\n\\n#1 iPhone...</td>\n",
              "      <td>Meme, Inc</td>\n",
              "      <td>4+</td>\n",
              "      <td>EN</td>\n",
              "      <td>26820692.0</td>\n",
              "      <td>Games</td>\n",
              "      <td>Games, Puzzle, Strategy</td>\n",
              "      <td>19/02/2009</td>\n",
              "      <td>26/04/2013</td>\n",
              "      <td>0</td>\n",
              "      <td>0</td>\n",
              "      <td>0</td>\n",
              "      <td>0</td>\n",
              "      <td>0</td>\n",
              "      <td>0</td>\n",
              "      <td>0</td>\n",
              "      <td>0</td>\n",
              "      <td>0</td>\n",
              "      <td>0</td>\n",
              "      <td>0</td>\n",
              "      <td>0</td>\n",
              "      <td>0</td>\n",
              "      <td>1</td>\n",
              "      <td>0</td>\n",
              "      <td>0</td>\n",
              "      <td>0</td>\n",
              "      <td>0</td>\n",
              "      <td>0</td>\n",
              "      <td>0</td>\n",
              "      <td>0</td>\n",
              "      <td>0</td>\n",
              "      <td>0</td>\n",
              "      <td>1</td>\n",
              "      <td>0</td>\n",
              "      <td>0</td>\n",
              "      <td>0</td>\n",
              "      <td>0</td>\n",
              "      <td>0</td>\n",
              "      <td>0</td>\n",
              "      <td>1</td>\n",
              "      <td>0</td>\n",
              "      <td>0</td>\n",
              "      <td>0</td>\n",
              "      <td>0</td>\n",
              "    </tr>\n",
              "    <tr>\n",
              "      <th>4</th>\n",
              "      <td>https://apps.apple.com/us/app/cool-sudoku-jigs...</td>\n",
              "      <td>290614255</td>\n",
              "      <td>Cool Sudoku, Jigsaw, Killer</td>\n",
              "      <td>https://is5-ssl.mzstatic.com/image/thumb/Purpl...</td>\n",
              "      <td>3.5</td>\n",
              "      <td>357.0</td>\n",
              "      <td>0.0</td>\n",
              "      <td>0.99, 0.99, 0.99</td>\n",
              "      <td>You can now play Sudoku, Killer Sudoku, Jigsaw...</td>\n",
              "      <td>Splash Software Ltd.</td>\n",
              "      <td>4+</td>\n",
              "      <td>EN</td>\n",
              "      <td>52236288.0</td>\n",
              "      <td>Games</td>\n",
              "      <td>Games, Strategy, Puzzle, Entertainment</td>\n",
              "      <td>24/09/2008</td>\n",
              "      <td>26/04/2019</td>\n",
              "      <td>0</td>\n",
              "      <td>0</td>\n",
              "      <td>0</td>\n",
              "      <td>0</td>\n",
              "      <td>0</td>\n",
              "      <td>0</td>\n",
              "      <td>0</td>\n",
              "      <td>0</td>\n",
              "      <td>0</td>\n",
              "      <td>1</td>\n",
              "      <td>0</td>\n",
              "      <td>0</td>\n",
              "      <td>0</td>\n",
              "      <td>1</td>\n",
              "      <td>0</td>\n",
              "      <td>0</td>\n",
              "      <td>0</td>\n",
              "      <td>0</td>\n",
              "      <td>0</td>\n",
              "      <td>0</td>\n",
              "      <td>0</td>\n",
              "      <td>0</td>\n",
              "      <td>0</td>\n",
              "      <td>1</td>\n",
              "      <td>0</td>\n",
              "      <td>0</td>\n",
              "      <td>0</td>\n",
              "      <td>0</td>\n",
              "      <td>0</td>\n",
              "      <td>0</td>\n",
              "      <td>1</td>\n",
              "      <td>0</td>\n",
              "      <td>0</td>\n",
              "      <td>0</td>\n",
              "      <td>0</td>\n",
              "    </tr>\n",
              "  </tbody>\n",
              "</table>\n",
              "</div>"
            ],
            "text/plain": [
              "                                                 URL  ...  Word\n",
              "0  https://apps.apple.com/us/app/sudoku-classic-n...  ...     0\n",
              "1  https://apps.apple.com/us/app/awele-oware-manc...  ...     0\n",
              "2  https://apps.apple.com/us/app/awele-oware-manc...  ...     0\n",
              "3  https://apps.apple.com/us/app/catcha-mouse/id2...  ...     0\n",
              "4  https://apps.apple.com/us/app/cool-sudoku-jigs...  ...     0\n",
              "\n",
              "[5 rows x 52 columns]"
            ]
          },
          "metadata": {
            "tags": []
          },
          "execution_count": 12
        }
      ]
    },
    {
      "cell_type": "markdown",
      "metadata": {
        "id": "2P3bfRzVWy3j",
        "colab_type": "text"
      },
      "source": [
        "Dropping some columns that we are not going to use... These seem unlikely to affect our classification. These are unique to each game, and unique IDs should not be used for regression as they are different for each reading and often provide no inference."
      ]
    },
    {
      "cell_type": "code",
      "metadata": {
        "id": "1TFnWC0lWwKa",
        "colab_type": "code",
        "colab": {
          "base_uri": "https://localhost:8080/",
          "height": 496
        },
        "outputId": "973da7b5-8d64-4ed9-8b2b-61e948ea5d45"
      },
      "source": [
        "df = df.drop(['URL', 'ID', 'Icon URL'], axis=1)\n",
        "df.head()"
      ],
      "execution_count": 13,
      "outputs": [
        {
          "output_type": "execute_result",
          "data": {
            "text/html": [
              "<div>\n",
              "<style scoped>\n",
              "    .dataframe tbody tr th:only-of-type {\n",
              "        vertical-align: middle;\n",
              "    }\n",
              "\n",
              "    .dataframe tbody tr th {\n",
              "        vertical-align: top;\n",
              "    }\n",
              "\n",
              "    .dataframe thead th {\n",
              "        text-align: right;\n",
              "    }\n",
              "</style>\n",
              "<table border=\"1\" class=\"dataframe\">\n",
              "  <thead>\n",
              "    <tr style=\"text-align: right;\">\n",
              "      <th></th>\n",
              "      <th>Name</th>\n",
              "      <th>Average User Rating</th>\n",
              "      <th>User Rating Count</th>\n",
              "      <th>Price</th>\n",
              "      <th>In-app Purchases</th>\n",
              "      <th>Description</th>\n",
              "      <th>Developer</th>\n",
              "      <th>Age Rating</th>\n",
              "      <th>Languages</th>\n",
              "      <th>Size</th>\n",
              "      <th>Primary Genre</th>\n",
              "      <th>Genres</th>\n",
              "      <th>Original Release Date</th>\n",
              "      <th>Current Version Release Date</th>\n",
              "      <th>Action</th>\n",
              "      <th>Adventure</th>\n",
              "      <th>Board</th>\n",
              "      <th>Books</th>\n",
              "      <th>Business</th>\n",
              "      <th>Card</th>\n",
              "      <th>Casino</th>\n",
              "      <th>Casual</th>\n",
              "      <th>Education</th>\n",
              "      <th>Entertainment</th>\n",
              "      <th>Family</th>\n",
              "      <th>Finance</th>\n",
              "      <th>Food &amp; Drink</th>\n",
              "      <th>Games</th>\n",
              "      <th>Health &amp; Fitness</th>\n",
              "      <th>Lifestyle</th>\n",
              "      <th>Magazines &amp; Newspapers</th>\n",
              "      <th>Medical</th>\n",
              "      <th>Music</th>\n",
              "      <th>Navigation</th>\n",
              "      <th>News</th>\n",
              "      <th>Photo &amp; Video</th>\n",
              "      <th>Productivity</th>\n",
              "      <th>Puzzle</th>\n",
              "      <th>Racing</th>\n",
              "      <th>Reference</th>\n",
              "      <th>Role Playing</th>\n",
              "      <th>Simulation</th>\n",
              "      <th>Social Networking</th>\n",
              "      <th>Sports</th>\n",
              "      <th>Strategy</th>\n",
              "      <th>Travel</th>\n",
              "      <th>Trivia</th>\n",
              "      <th>Utilities</th>\n",
              "      <th>Word</th>\n",
              "    </tr>\n",
              "  </thead>\n",
              "  <tbody>\n",
              "    <tr>\n",
              "      <th>0</th>\n",
              "      <td>Sudoku - Classic number puzzle</td>\n",
              "      <td>3.0</td>\n",
              "      <td>47.0</td>\n",
              "      <td>0.0</td>\n",
              "      <td>1.99</td>\n",
              "      <td>Sudoku will tease your brain, challenge you or...</td>\n",
              "      <td>OutOfTheBit Ltd</td>\n",
              "      <td>4+</td>\n",
              "      <td>EN</td>\n",
              "      <td>48672768.0</td>\n",
              "      <td>Games</td>\n",
              "      <td>Games, Entertainment, Strategy, Puzzle</td>\n",
              "      <td>30/07/2008</td>\n",
              "      <td>29/04/2019</td>\n",
              "      <td>0</td>\n",
              "      <td>0</td>\n",
              "      <td>0</td>\n",
              "      <td>0</td>\n",
              "      <td>0</td>\n",
              "      <td>0</td>\n",
              "      <td>0</td>\n",
              "      <td>0</td>\n",
              "      <td>0</td>\n",
              "      <td>1</td>\n",
              "      <td>0</td>\n",
              "      <td>0</td>\n",
              "      <td>0</td>\n",
              "      <td>1</td>\n",
              "      <td>0</td>\n",
              "      <td>0</td>\n",
              "      <td>0</td>\n",
              "      <td>0</td>\n",
              "      <td>0</td>\n",
              "      <td>0</td>\n",
              "      <td>0</td>\n",
              "      <td>0</td>\n",
              "      <td>0</td>\n",
              "      <td>1</td>\n",
              "      <td>0</td>\n",
              "      <td>0</td>\n",
              "      <td>0</td>\n",
              "      <td>0</td>\n",
              "      <td>0</td>\n",
              "      <td>0</td>\n",
              "      <td>1</td>\n",
              "      <td>0</td>\n",
              "      <td>0</td>\n",
              "      <td>0</td>\n",
              "      <td>0</td>\n",
              "    </tr>\n",
              "    <tr>\n",
              "      <th>1</th>\n",
              "      <td>Awele/Oware - Mancala HD</td>\n",
              "      <td>3.0</td>\n",
              "      <td>112.0</td>\n",
              "      <td>0.0</td>\n",
              "      <td>0.99</td>\n",
              "      <td>Awele/Oware is the oldest African board game a...</td>\n",
              "      <td>SOLILAB</td>\n",
              "      <td>4+</td>\n",
              "      <td>EN, FR, DE, IT, ES</td>\n",
              "      <td>122826752.0</td>\n",
              "      <td>Games</td>\n",
              "      <td>Games, Strategy, Board</td>\n",
              "      <td>31/08/2008</td>\n",
              "      <td>6/04/2015</td>\n",
              "      <td>0</td>\n",
              "      <td>0</td>\n",
              "      <td>1</td>\n",
              "      <td>0</td>\n",
              "      <td>0</td>\n",
              "      <td>0</td>\n",
              "      <td>0</td>\n",
              "      <td>0</td>\n",
              "      <td>0</td>\n",
              "      <td>0</td>\n",
              "      <td>0</td>\n",
              "      <td>0</td>\n",
              "      <td>0</td>\n",
              "      <td>1</td>\n",
              "      <td>0</td>\n",
              "      <td>0</td>\n",
              "      <td>0</td>\n",
              "      <td>0</td>\n",
              "      <td>0</td>\n",
              "      <td>0</td>\n",
              "      <td>0</td>\n",
              "      <td>0</td>\n",
              "      <td>0</td>\n",
              "      <td>0</td>\n",
              "      <td>0</td>\n",
              "      <td>0</td>\n",
              "      <td>0</td>\n",
              "      <td>0</td>\n",
              "      <td>0</td>\n",
              "      <td>0</td>\n",
              "      <td>1</td>\n",
              "      <td>0</td>\n",
              "      <td>0</td>\n",
              "      <td>0</td>\n",
              "      <td>0</td>\n",
              "    </tr>\n",
              "    <tr>\n",
              "      <th>2</th>\n",
              "      <td>Awele/Oware - Mancala HD</td>\n",
              "      <td>3.0</td>\n",
              "      <td>112.0</td>\n",
              "      <td>0.0</td>\n",
              "      <td>0.99</td>\n",
              "      <td>Awele/Oware is the oldest African board game a...</td>\n",
              "      <td>SOLILAB</td>\n",
              "      <td>4+</td>\n",
              "      <td>EN, FR, DE, IT, ES</td>\n",
              "      <td>122826752.0</td>\n",
              "      <td>Games</td>\n",
              "      <td>Games, Strategy, Board</td>\n",
              "      <td>31/08/2008</td>\n",
              "      <td>6/04/2015</td>\n",
              "      <td>0</td>\n",
              "      <td>0</td>\n",
              "      <td>1</td>\n",
              "      <td>0</td>\n",
              "      <td>0</td>\n",
              "      <td>0</td>\n",
              "      <td>0</td>\n",
              "      <td>0</td>\n",
              "      <td>0</td>\n",
              "      <td>0</td>\n",
              "      <td>0</td>\n",
              "      <td>0</td>\n",
              "      <td>0</td>\n",
              "      <td>1</td>\n",
              "      <td>0</td>\n",
              "      <td>0</td>\n",
              "      <td>0</td>\n",
              "      <td>0</td>\n",
              "      <td>0</td>\n",
              "      <td>0</td>\n",
              "      <td>0</td>\n",
              "      <td>0</td>\n",
              "      <td>0</td>\n",
              "      <td>0</td>\n",
              "      <td>0</td>\n",
              "      <td>0</td>\n",
              "      <td>0</td>\n",
              "      <td>0</td>\n",
              "      <td>0</td>\n",
              "      <td>0</td>\n",
              "      <td>1</td>\n",
              "      <td>0</td>\n",
              "      <td>0</td>\n",
              "      <td>0</td>\n",
              "      <td>0</td>\n",
              "    </tr>\n",
              "    <tr>\n",
              "      <th>3</th>\n",
              "      <td>Catcha Mouse</td>\n",
              "      <td>3.5</td>\n",
              "      <td>95971.0</td>\n",
              "      <td>0.0</td>\n",
              "      <td>1.99, 0.99, 1.99, 0.99, 4.99, 1.99, 1.99</td>\n",
              "      <td>*More than 4 Million downloads!!!\\n\\n#1 iPhone...</td>\n",
              "      <td>Meme, Inc</td>\n",
              "      <td>4+</td>\n",
              "      <td>EN</td>\n",
              "      <td>26820692.0</td>\n",
              "      <td>Games</td>\n",
              "      <td>Games, Puzzle, Strategy</td>\n",
              "      <td>19/02/2009</td>\n",
              "      <td>26/04/2013</td>\n",
              "      <td>0</td>\n",
              "      <td>0</td>\n",
              "      <td>0</td>\n",
              "      <td>0</td>\n",
              "      <td>0</td>\n",
              "      <td>0</td>\n",
              "      <td>0</td>\n",
              "      <td>0</td>\n",
              "      <td>0</td>\n",
              "      <td>0</td>\n",
              "      <td>0</td>\n",
              "      <td>0</td>\n",
              "      <td>0</td>\n",
              "      <td>1</td>\n",
              "      <td>0</td>\n",
              "      <td>0</td>\n",
              "      <td>0</td>\n",
              "      <td>0</td>\n",
              "      <td>0</td>\n",
              "      <td>0</td>\n",
              "      <td>0</td>\n",
              "      <td>0</td>\n",
              "      <td>0</td>\n",
              "      <td>1</td>\n",
              "      <td>0</td>\n",
              "      <td>0</td>\n",
              "      <td>0</td>\n",
              "      <td>0</td>\n",
              "      <td>0</td>\n",
              "      <td>0</td>\n",
              "      <td>1</td>\n",
              "      <td>0</td>\n",
              "      <td>0</td>\n",
              "      <td>0</td>\n",
              "      <td>0</td>\n",
              "    </tr>\n",
              "    <tr>\n",
              "      <th>4</th>\n",
              "      <td>Cool Sudoku, Jigsaw, Killer</td>\n",
              "      <td>3.5</td>\n",
              "      <td>357.0</td>\n",
              "      <td>0.0</td>\n",
              "      <td>0.99, 0.99, 0.99</td>\n",
              "      <td>You can now play Sudoku, Killer Sudoku, Jigsaw...</td>\n",
              "      <td>Splash Software Ltd.</td>\n",
              "      <td>4+</td>\n",
              "      <td>EN</td>\n",
              "      <td>52236288.0</td>\n",
              "      <td>Games</td>\n",
              "      <td>Games, Strategy, Puzzle, Entertainment</td>\n",
              "      <td>24/09/2008</td>\n",
              "      <td>26/04/2019</td>\n",
              "      <td>0</td>\n",
              "      <td>0</td>\n",
              "      <td>0</td>\n",
              "      <td>0</td>\n",
              "      <td>0</td>\n",
              "      <td>0</td>\n",
              "      <td>0</td>\n",
              "      <td>0</td>\n",
              "      <td>0</td>\n",
              "      <td>1</td>\n",
              "      <td>0</td>\n",
              "      <td>0</td>\n",
              "      <td>0</td>\n",
              "      <td>1</td>\n",
              "      <td>0</td>\n",
              "      <td>0</td>\n",
              "      <td>0</td>\n",
              "      <td>0</td>\n",
              "      <td>0</td>\n",
              "      <td>0</td>\n",
              "      <td>0</td>\n",
              "      <td>0</td>\n",
              "      <td>0</td>\n",
              "      <td>1</td>\n",
              "      <td>0</td>\n",
              "      <td>0</td>\n",
              "      <td>0</td>\n",
              "      <td>0</td>\n",
              "      <td>0</td>\n",
              "      <td>0</td>\n",
              "      <td>1</td>\n",
              "      <td>0</td>\n",
              "      <td>0</td>\n",
              "      <td>0</td>\n",
              "      <td>0</td>\n",
              "    </tr>\n",
              "  </tbody>\n",
              "</table>\n",
              "</div>"
            ],
            "text/plain": [
              "                             Name  Average User Rating  ...  Utilities  Word\n",
              "0  Sudoku - Classic number puzzle                  3.0  ...          0     0\n",
              "1        Awele/Oware - Mancala HD                  3.0  ...          0     0\n",
              "2        Awele/Oware - Mancala HD                  3.0  ...          0     0\n",
              "3                    Catcha Mouse                  3.5  ...          0     0\n",
              "4     Cool Sudoku, Jigsaw, Killer                  3.5  ...          0     0\n",
              "\n",
              "[5 rows x 49 columns]"
            ]
          },
          "metadata": {
            "tags": []
          },
          "execution_count": 13
        }
      ]
    },
    {
      "cell_type": "markdown",
      "metadata": {
        "id": "zeV6tsxFW2xH",
        "colab_type": "text"
      },
      "source": [
        "We will now proceed to one hot encode the In-app Purchases as well."
      ]
    },
    {
      "cell_type": "code",
      "metadata": {
        "id": "WBPA0gOfW00b",
        "colab_type": "code",
        "colab": {
          "base_uri": "https://localhost:8080/",
          "height": 221
        },
        "outputId": "399ac2de-a90e-4ba5-d991-3d0ad545ce20"
      },
      "source": [
        "df['In-app Purchases'].value_counts()"
      ],
      "execution_count": 14,
      "outputs": [
        {
          "output_type": "execute_result",
          "data": {
            "text/plain": [
              "0.99                                                                390\n",
              "1.99                                                                249\n",
              "2.99                                                                205\n",
              "0.99, 0.99                                                           73\n",
              "4.99                                                                 68\n",
              "                                                                   ... \n",
              "0.99, 1.99, 4.99, 0.99, 8.99, 18.99, 4.99                             1\n",
              "1.99, 4.99, 9.99, 0.99, 19.99, 1.99, 7.99, 4.99, 39.99, 79.99         1\n",
              "4.99, 3.99, 1.99, 9.99, 19.99, 7.99, 0.99, 5.99, 1.99, 2.99           1\n",
              "19.99, 4.99, 9.99, 2.99, 99.99, 49.99, 2.99, 19.99, 13.99, 99.99      1\n",
              "9.99, 4.99, 2.99, 0.99, 49.99, 99.99                                  1\n",
              "Name: In-app Purchases, Length: 2955, dtype: int64"
            ]
          },
          "metadata": {
            "tags": []
          },
          "execution_count": 14
        }
      ]
    },
    {
      "cell_type": "code",
      "metadata": {
        "id": "NrpAVQcxW4dk",
        "colab_type": "code",
        "colab": {
          "base_uri": "https://localhost:8080/",
          "height": 377
        },
        "outputId": "16d7a8c3-9a4f-4d87-ddd4-b16bb4c131b9"
      },
      "source": [
        "mlb_inapp = MultiLabelBinarizer()\n",
        "expandedLabelData = mlb_inapp.fit_transform(df['In-app Purchases'].str.split(', '))\n",
        "labelClasses = mlb_inapp.classes_\n",
        "print(labelClasses)\n",
        "\n",
        "# Create a pandas.DataFrame from our output\n",
        "expandedLabels = pd.DataFrame(expandedLabelData, columns=labelClasses)\n",
        "expandedLabels.head()"
      ],
      "execution_count": 15,
      "outputs": [
        {
          "output_type": "stream",
          "text": [
            "['0' '0.0' '0.99' '1.49' '1.99' '10.99' '109.99' '11.99' '119.99' '12.99'\n",
            " '129.99' '13.99' '139.99' '14.99' '15.99' '16.99' '169.99' '17.99'\n",
            " '18.99' '19.49' '19.99' '199.99' '2.49' '2.99' '20.99' '21.99' '22.99'\n",
            " '23.49' '23.99' '24.99' '25.99' '26.99' '27.99' '28.99' '29.99' '3.49'\n",
            " '3.99' '30.99' '31.99' '32.99' '33.99' '34.99' '35.99' '36.99' '37.99'\n",
            " '38.99' '39.99' '4.49' '4.99' '40.99' '41.99' '43.99' '44.99' '45.99'\n",
            " '46.99' '47.99' '48.99' '49.99' '5.49' '5.99' '54.99' '59.99' '6.99'\n",
            " '64.99' '69.99' '7.49' '7.99' '74.99' '79.99' '8.49' '8.99' '84.99'\n",
            " '89.99' '9.49' '9.99' '94.99' '99.99']\n"
          ],
          "name": "stdout"
        },
        {
          "output_type": "execute_result",
          "data": {
            "text/html": [
              "<div>\n",
              "<style scoped>\n",
              "    .dataframe tbody tr th:only-of-type {\n",
              "        vertical-align: middle;\n",
              "    }\n",
              "\n",
              "    .dataframe tbody tr th {\n",
              "        vertical-align: top;\n",
              "    }\n",
              "\n",
              "    .dataframe thead th {\n",
              "        text-align: right;\n",
              "    }\n",
              "</style>\n",
              "<table border=\"1\" class=\"dataframe\">\n",
              "  <thead>\n",
              "    <tr style=\"text-align: right;\">\n",
              "      <th></th>\n",
              "      <th>0</th>\n",
              "      <th>0.0</th>\n",
              "      <th>0.99</th>\n",
              "      <th>1.49</th>\n",
              "      <th>1.99</th>\n",
              "      <th>10.99</th>\n",
              "      <th>109.99</th>\n",
              "      <th>11.99</th>\n",
              "      <th>119.99</th>\n",
              "      <th>12.99</th>\n",
              "      <th>129.99</th>\n",
              "      <th>13.99</th>\n",
              "      <th>139.99</th>\n",
              "      <th>14.99</th>\n",
              "      <th>15.99</th>\n",
              "      <th>16.99</th>\n",
              "      <th>169.99</th>\n",
              "      <th>17.99</th>\n",
              "      <th>18.99</th>\n",
              "      <th>19.49</th>\n",
              "      <th>19.99</th>\n",
              "      <th>199.99</th>\n",
              "      <th>2.49</th>\n",
              "      <th>2.99</th>\n",
              "      <th>20.99</th>\n",
              "      <th>21.99</th>\n",
              "      <th>22.99</th>\n",
              "      <th>23.49</th>\n",
              "      <th>23.99</th>\n",
              "      <th>24.99</th>\n",
              "      <th>25.99</th>\n",
              "      <th>26.99</th>\n",
              "      <th>27.99</th>\n",
              "      <th>28.99</th>\n",
              "      <th>29.99</th>\n",
              "      <th>3.49</th>\n",
              "      <th>3.99</th>\n",
              "      <th>30.99</th>\n",
              "      <th>31.99</th>\n",
              "      <th>32.99</th>\n",
              "      <th>33.99</th>\n",
              "      <th>34.99</th>\n",
              "      <th>35.99</th>\n",
              "      <th>36.99</th>\n",
              "      <th>37.99</th>\n",
              "      <th>38.99</th>\n",
              "      <th>39.99</th>\n",
              "      <th>4.49</th>\n",
              "      <th>4.99</th>\n",
              "      <th>40.99</th>\n",
              "      <th>41.99</th>\n",
              "      <th>43.99</th>\n",
              "      <th>44.99</th>\n",
              "      <th>45.99</th>\n",
              "      <th>46.99</th>\n",
              "      <th>47.99</th>\n",
              "      <th>48.99</th>\n",
              "      <th>49.99</th>\n",
              "      <th>5.49</th>\n",
              "      <th>5.99</th>\n",
              "      <th>54.99</th>\n",
              "      <th>59.99</th>\n",
              "      <th>6.99</th>\n",
              "      <th>64.99</th>\n",
              "      <th>69.99</th>\n",
              "      <th>7.49</th>\n",
              "      <th>7.99</th>\n",
              "      <th>74.99</th>\n",
              "      <th>79.99</th>\n",
              "      <th>8.49</th>\n",
              "      <th>8.99</th>\n",
              "      <th>84.99</th>\n",
              "      <th>89.99</th>\n",
              "      <th>9.49</th>\n",
              "      <th>9.99</th>\n",
              "      <th>94.99</th>\n",
              "      <th>99.99</th>\n",
              "    </tr>\n",
              "  </thead>\n",
              "  <tbody>\n",
              "    <tr>\n",
              "      <th>0</th>\n",
              "      <td>0</td>\n",
              "      <td>0</td>\n",
              "      <td>0</td>\n",
              "      <td>0</td>\n",
              "      <td>1</td>\n",
              "      <td>0</td>\n",
              "      <td>0</td>\n",
              "      <td>0</td>\n",
              "      <td>0</td>\n",
              "      <td>0</td>\n",
              "      <td>0</td>\n",
              "      <td>0</td>\n",
              "      <td>0</td>\n",
              "      <td>0</td>\n",
              "      <td>0</td>\n",
              "      <td>0</td>\n",
              "      <td>0</td>\n",
              "      <td>0</td>\n",
              "      <td>0</td>\n",
              "      <td>0</td>\n",
              "      <td>0</td>\n",
              "      <td>0</td>\n",
              "      <td>0</td>\n",
              "      <td>0</td>\n",
              "      <td>0</td>\n",
              "      <td>0</td>\n",
              "      <td>0</td>\n",
              "      <td>0</td>\n",
              "      <td>0</td>\n",
              "      <td>0</td>\n",
              "      <td>0</td>\n",
              "      <td>0</td>\n",
              "      <td>0</td>\n",
              "      <td>0</td>\n",
              "      <td>0</td>\n",
              "      <td>0</td>\n",
              "      <td>0</td>\n",
              "      <td>0</td>\n",
              "      <td>0</td>\n",
              "      <td>0</td>\n",
              "      <td>0</td>\n",
              "      <td>0</td>\n",
              "      <td>0</td>\n",
              "      <td>0</td>\n",
              "      <td>0</td>\n",
              "      <td>0</td>\n",
              "      <td>0</td>\n",
              "      <td>0</td>\n",
              "      <td>0</td>\n",
              "      <td>0</td>\n",
              "      <td>0</td>\n",
              "      <td>0</td>\n",
              "      <td>0</td>\n",
              "      <td>0</td>\n",
              "      <td>0</td>\n",
              "      <td>0</td>\n",
              "      <td>0</td>\n",
              "      <td>0</td>\n",
              "      <td>0</td>\n",
              "      <td>0</td>\n",
              "      <td>0</td>\n",
              "      <td>0</td>\n",
              "      <td>0</td>\n",
              "      <td>0</td>\n",
              "      <td>0</td>\n",
              "      <td>0</td>\n",
              "      <td>0</td>\n",
              "      <td>0</td>\n",
              "      <td>0</td>\n",
              "      <td>0</td>\n",
              "      <td>0</td>\n",
              "      <td>0</td>\n",
              "      <td>0</td>\n",
              "      <td>0</td>\n",
              "      <td>0</td>\n",
              "      <td>0</td>\n",
              "      <td>0</td>\n",
              "    </tr>\n",
              "    <tr>\n",
              "      <th>1</th>\n",
              "      <td>0</td>\n",
              "      <td>0</td>\n",
              "      <td>1</td>\n",
              "      <td>0</td>\n",
              "      <td>0</td>\n",
              "      <td>0</td>\n",
              "      <td>0</td>\n",
              "      <td>0</td>\n",
              "      <td>0</td>\n",
              "      <td>0</td>\n",
              "      <td>0</td>\n",
              "      <td>0</td>\n",
              "      <td>0</td>\n",
              "      <td>0</td>\n",
              "      <td>0</td>\n",
              "      <td>0</td>\n",
              "      <td>0</td>\n",
              "      <td>0</td>\n",
              "      <td>0</td>\n",
              "      <td>0</td>\n",
              "      <td>0</td>\n",
              "      <td>0</td>\n",
              "      <td>0</td>\n",
              "      <td>0</td>\n",
              "      <td>0</td>\n",
              "      <td>0</td>\n",
              "      <td>0</td>\n",
              "      <td>0</td>\n",
              "      <td>0</td>\n",
              "      <td>0</td>\n",
              "      <td>0</td>\n",
              "      <td>0</td>\n",
              "      <td>0</td>\n",
              "      <td>0</td>\n",
              "      <td>0</td>\n",
              "      <td>0</td>\n",
              "      <td>0</td>\n",
              "      <td>0</td>\n",
              "      <td>0</td>\n",
              "      <td>0</td>\n",
              "      <td>0</td>\n",
              "      <td>0</td>\n",
              "      <td>0</td>\n",
              "      <td>0</td>\n",
              "      <td>0</td>\n",
              "      <td>0</td>\n",
              "      <td>0</td>\n",
              "      <td>0</td>\n",
              "      <td>0</td>\n",
              "      <td>0</td>\n",
              "      <td>0</td>\n",
              "      <td>0</td>\n",
              "      <td>0</td>\n",
              "      <td>0</td>\n",
              "      <td>0</td>\n",
              "      <td>0</td>\n",
              "      <td>0</td>\n",
              "      <td>0</td>\n",
              "      <td>0</td>\n",
              "      <td>0</td>\n",
              "      <td>0</td>\n",
              "      <td>0</td>\n",
              "      <td>0</td>\n",
              "      <td>0</td>\n",
              "      <td>0</td>\n",
              "      <td>0</td>\n",
              "      <td>0</td>\n",
              "      <td>0</td>\n",
              "      <td>0</td>\n",
              "      <td>0</td>\n",
              "      <td>0</td>\n",
              "      <td>0</td>\n",
              "      <td>0</td>\n",
              "      <td>0</td>\n",
              "      <td>0</td>\n",
              "      <td>0</td>\n",
              "      <td>0</td>\n",
              "    </tr>\n",
              "    <tr>\n",
              "      <th>2</th>\n",
              "      <td>0</td>\n",
              "      <td>0</td>\n",
              "      <td>1</td>\n",
              "      <td>0</td>\n",
              "      <td>0</td>\n",
              "      <td>0</td>\n",
              "      <td>0</td>\n",
              "      <td>0</td>\n",
              "      <td>0</td>\n",
              "      <td>0</td>\n",
              "      <td>0</td>\n",
              "      <td>0</td>\n",
              "      <td>0</td>\n",
              "      <td>0</td>\n",
              "      <td>0</td>\n",
              "      <td>0</td>\n",
              "      <td>0</td>\n",
              "      <td>0</td>\n",
              "      <td>0</td>\n",
              "      <td>0</td>\n",
              "      <td>0</td>\n",
              "      <td>0</td>\n",
              "      <td>0</td>\n",
              "      <td>0</td>\n",
              "      <td>0</td>\n",
              "      <td>0</td>\n",
              "      <td>0</td>\n",
              "      <td>0</td>\n",
              "      <td>0</td>\n",
              "      <td>0</td>\n",
              "      <td>0</td>\n",
              "      <td>0</td>\n",
              "      <td>0</td>\n",
              "      <td>0</td>\n",
              "      <td>0</td>\n",
              "      <td>0</td>\n",
              "      <td>0</td>\n",
              "      <td>0</td>\n",
              "      <td>0</td>\n",
              "      <td>0</td>\n",
              "      <td>0</td>\n",
              "      <td>0</td>\n",
              "      <td>0</td>\n",
              "      <td>0</td>\n",
              "      <td>0</td>\n",
              "      <td>0</td>\n",
              "      <td>0</td>\n",
              "      <td>0</td>\n",
              "      <td>0</td>\n",
              "      <td>0</td>\n",
              "      <td>0</td>\n",
              "      <td>0</td>\n",
              "      <td>0</td>\n",
              "      <td>0</td>\n",
              "      <td>0</td>\n",
              "      <td>0</td>\n",
              "      <td>0</td>\n",
              "      <td>0</td>\n",
              "      <td>0</td>\n",
              "      <td>0</td>\n",
              "      <td>0</td>\n",
              "      <td>0</td>\n",
              "      <td>0</td>\n",
              "      <td>0</td>\n",
              "      <td>0</td>\n",
              "      <td>0</td>\n",
              "      <td>0</td>\n",
              "      <td>0</td>\n",
              "      <td>0</td>\n",
              "      <td>0</td>\n",
              "      <td>0</td>\n",
              "      <td>0</td>\n",
              "      <td>0</td>\n",
              "      <td>0</td>\n",
              "      <td>0</td>\n",
              "      <td>0</td>\n",
              "      <td>0</td>\n",
              "    </tr>\n",
              "    <tr>\n",
              "      <th>3</th>\n",
              "      <td>0</td>\n",
              "      <td>0</td>\n",
              "      <td>1</td>\n",
              "      <td>0</td>\n",
              "      <td>1</td>\n",
              "      <td>0</td>\n",
              "      <td>0</td>\n",
              "      <td>0</td>\n",
              "      <td>0</td>\n",
              "      <td>0</td>\n",
              "      <td>0</td>\n",
              "      <td>0</td>\n",
              "      <td>0</td>\n",
              "      <td>0</td>\n",
              "      <td>0</td>\n",
              "      <td>0</td>\n",
              "      <td>0</td>\n",
              "      <td>0</td>\n",
              "      <td>0</td>\n",
              "      <td>0</td>\n",
              "      <td>0</td>\n",
              "      <td>0</td>\n",
              "      <td>0</td>\n",
              "      <td>0</td>\n",
              "      <td>0</td>\n",
              "      <td>0</td>\n",
              "      <td>0</td>\n",
              "      <td>0</td>\n",
              "      <td>0</td>\n",
              "      <td>0</td>\n",
              "      <td>0</td>\n",
              "      <td>0</td>\n",
              "      <td>0</td>\n",
              "      <td>0</td>\n",
              "      <td>0</td>\n",
              "      <td>0</td>\n",
              "      <td>0</td>\n",
              "      <td>0</td>\n",
              "      <td>0</td>\n",
              "      <td>0</td>\n",
              "      <td>0</td>\n",
              "      <td>0</td>\n",
              "      <td>0</td>\n",
              "      <td>0</td>\n",
              "      <td>0</td>\n",
              "      <td>0</td>\n",
              "      <td>0</td>\n",
              "      <td>0</td>\n",
              "      <td>1</td>\n",
              "      <td>0</td>\n",
              "      <td>0</td>\n",
              "      <td>0</td>\n",
              "      <td>0</td>\n",
              "      <td>0</td>\n",
              "      <td>0</td>\n",
              "      <td>0</td>\n",
              "      <td>0</td>\n",
              "      <td>0</td>\n",
              "      <td>0</td>\n",
              "      <td>0</td>\n",
              "      <td>0</td>\n",
              "      <td>0</td>\n",
              "      <td>0</td>\n",
              "      <td>0</td>\n",
              "      <td>0</td>\n",
              "      <td>0</td>\n",
              "      <td>0</td>\n",
              "      <td>0</td>\n",
              "      <td>0</td>\n",
              "      <td>0</td>\n",
              "      <td>0</td>\n",
              "      <td>0</td>\n",
              "      <td>0</td>\n",
              "      <td>0</td>\n",
              "      <td>0</td>\n",
              "      <td>0</td>\n",
              "      <td>0</td>\n",
              "    </tr>\n",
              "    <tr>\n",
              "      <th>4</th>\n",
              "      <td>0</td>\n",
              "      <td>0</td>\n",
              "      <td>1</td>\n",
              "      <td>0</td>\n",
              "      <td>0</td>\n",
              "      <td>0</td>\n",
              "      <td>0</td>\n",
              "      <td>0</td>\n",
              "      <td>0</td>\n",
              "      <td>0</td>\n",
              "      <td>0</td>\n",
              "      <td>0</td>\n",
              "      <td>0</td>\n",
              "      <td>0</td>\n",
              "      <td>0</td>\n",
              "      <td>0</td>\n",
              "      <td>0</td>\n",
              "      <td>0</td>\n",
              "      <td>0</td>\n",
              "      <td>0</td>\n",
              "      <td>0</td>\n",
              "      <td>0</td>\n",
              "      <td>0</td>\n",
              "      <td>0</td>\n",
              "      <td>0</td>\n",
              "      <td>0</td>\n",
              "      <td>0</td>\n",
              "      <td>0</td>\n",
              "      <td>0</td>\n",
              "      <td>0</td>\n",
              "      <td>0</td>\n",
              "      <td>0</td>\n",
              "      <td>0</td>\n",
              "      <td>0</td>\n",
              "      <td>0</td>\n",
              "      <td>0</td>\n",
              "      <td>0</td>\n",
              "      <td>0</td>\n",
              "      <td>0</td>\n",
              "      <td>0</td>\n",
              "      <td>0</td>\n",
              "      <td>0</td>\n",
              "      <td>0</td>\n",
              "      <td>0</td>\n",
              "      <td>0</td>\n",
              "      <td>0</td>\n",
              "      <td>0</td>\n",
              "      <td>0</td>\n",
              "      <td>0</td>\n",
              "      <td>0</td>\n",
              "      <td>0</td>\n",
              "      <td>0</td>\n",
              "      <td>0</td>\n",
              "      <td>0</td>\n",
              "      <td>0</td>\n",
              "      <td>0</td>\n",
              "      <td>0</td>\n",
              "      <td>0</td>\n",
              "      <td>0</td>\n",
              "      <td>0</td>\n",
              "      <td>0</td>\n",
              "      <td>0</td>\n",
              "      <td>0</td>\n",
              "      <td>0</td>\n",
              "      <td>0</td>\n",
              "      <td>0</td>\n",
              "      <td>0</td>\n",
              "      <td>0</td>\n",
              "      <td>0</td>\n",
              "      <td>0</td>\n",
              "      <td>0</td>\n",
              "      <td>0</td>\n",
              "      <td>0</td>\n",
              "      <td>0</td>\n",
              "      <td>0</td>\n",
              "      <td>0</td>\n",
              "      <td>0</td>\n",
              "    </tr>\n",
              "  </tbody>\n",
              "</table>\n",
              "</div>"
            ],
            "text/plain": [
              "   0  0.0  0.99  1.49  1.99  10.99  ...  84.99  89.99  9.49  9.99  94.99  99.99\n",
              "0  0    0     0     0     1      0  ...      0      0     0     0      0      0\n",
              "1  0    0     1     0     0      0  ...      0      0     0     0      0      0\n",
              "2  0    0     1     0     0      0  ...      0      0     0     0      0      0\n",
              "3  0    0     1     0     1      0  ...      0      0     0     0      0      0\n",
              "4  0    0     1     0     0      0  ...      0      0     0     0      0      0\n",
              "\n",
              "[5 rows x 77 columns]"
            ]
          },
          "metadata": {
            "tags": []
          },
          "execution_count": 15
        }
      ]
    },
    {
      "cell_type": "markdown",
      "metadata": {
        "id": "PZJ_nJGMW8i5",
        "colab_type": "text"
      },
      "source": [
        "Let's plot the most popular microtransaction costs in mobile games. I'm going to plot only the top 10 microtransactions."
      ]
    },
    {
      "cell_type": "code",
      "metadata": {
        "id": "gXuGZytvW6L3",
        "colab_type": "code",
        "colab": {
          "base_uri": "https://localhost:8080/",
          "height": 284
        },
        "outputId": "eec1ce46-db1a-4c5a-b2af-69bc5ecd5fe1"
      },
      "source": [
        "max_10_prices = expandedLabels.sum().sort_values(ascending=False)[:10]\n",
        "sns.barplot(max_10_prices.index, max_10_prices.values)"
      ],
      "execution_count": 16,
      "outputs": [
        {
          "output_type": "execute_result",
          "data": {
            "text/plain": [
              "<matplotlib.axes._subplots.AxesSubplot at 0x7ff12ce7d898>"
            ]
          },
          "metadata": {
            "tags": []
          },
          "execution_count": 16
        },
        {
          "output_type": "display_data",
          "data": {
            "image/png": "[encoded data removed]",
            "text/plain": [
              "<Figure size 432x288 with 1 Axes>"
            ]
          },
          "metadata": {
            "tags": []
          }
        }
      ]
    },
    {
      "cell_type": "markdown",
      "metadata": {
        "id": "TfQhjxS6XAjf",
        "colab_type": "text"
      },
      "source": [
        " 0.99 is the most common, followed by $4.99, $1.99 and $9.99.\n",
        "\n",
        "Interestly there's also quite a lot of ' 49.99′and‘ 99.99` transactions, so seems like almost (round) numbers like 5, 10, 50,100, etc are more popular.\n",
        "\n",
        "Now we'll merge the expandedLabels with our dataframe."
      ]
    },
    {
      "cell_type": "code",
      "metadata": {
        "id": "sS0yBhquW-js",
        "colab_type": "code",
        "colab": {}
      },
      "source": [
        "df = pd.concat([df.reset_index(drop=True),expandedLabels.reset_index(drop=True)], axis=1)"
      ],
      "execution_count": 0,
      "outputs": []
    },
    {
      "cell_type": "markdown",
      "metadata": {
        "id": "cNNyW_drXJZs",
        "colab_type": "text"
      },
      "source": [
        "Finally, since we're going to be predicting the Average User Rating, we'll store it in a seperate variable called y. This is our target."
      ]
    },
    {
      "cell_type": "code",
      "metadata": {
        "id": "CNMlWeuuXHqy",
        "colab_type": "code",
        "colab": {}
      },
      "source": [
        "y = df['Average User Rating']"
      ],
      "execution_count": 0,
      "outputs": []
    },
    {
      "cell_type": "markdown",
      "metadata": {
        "id": "7-5_95waXMgU",
        "colab_type": "text"
      },
      "source": [
        "I'm going to add a new feature -- The lengths of descriptions. It could be that half-hearted devs don't make long descriptions. Or it may not be. We'll see."
      ]
    },
    {
      "cell_type": "code",
      "metadata": {
        "id": "H_-nWsdQXLDw",
        "colab_type": "code",
        "colab": {}
      },
      "source": [
        "desc = df['Description']\n",
        "desc_lengths = [len(de) for de in desc]\n",
        "df['desc_lengths'] = desc_lengths"
      ],
      "execution_count": 0,
      "outputs": []
    },
    {
      "cell_type": "markdown",
      "metadata": {
        "id": "afAO7cYEXP4H",
        "colab_type": "text"
      },
      "source": [
        "Dropping all irrelevant/already-encoded/target columns..."
      ]
    },
    {
      "cell_type": "code",
      "metadata": {
        "id": "6LFZ0GicXOVj",
        "colab_type": "code",
        "colab": {
          "base_uri": "https://localhost:8080/",
          "height": 355
        },
        "outputId": "819e075a-f153-4339-836f-97f69c3b6bb0"
      },
      "source": [
        "df = df.drop(['Name', 'Average User Rating', 'In-app Purchases', 'Languages', 'Genres', 'Description'], axis=1)\n",
        "df.head()"
      ],
      "execution_count": 20,
      "outputs": [
        {
          "output_type": "execute_result",
          "data": {
            "text/html": [
              "<div>\n",
              "<style scoped>\n",
              "    .dataframe tbody tr th:only-of-type {\n",
              "        vertical-align: middle;\n",
              "    }\n",
              "\n",
              "    .dataframe tbody tr th {\n",
              "        vertical-align: top;\n",
              "    }\n",
              "\n",
              "    .dataframe thead th {\n",
              "        text-align: right;\n",
              "    }\n",
              "</style>\n",
              "<table border=\"1\" class=\"dataframe\">\n",
              "  <thead>\n",
              "    <tr style=\"text-align: right;\">\n",
              "      <th></th>\n",
              "      <th>User Rating Count</th>\n",
              "      <th>Price</th>\n",
              "      <th>Developer</th>\n",
              "      <th>Age Rating</th>\n",
              "      <th>Size</th>\n",
              "      <th>Primary Genre</th>\n",
              "      <th>Original Release Date</th>\n",
              "      <th>Current Version Release Date</th>\n",
              "      <th>Action</th>\n",
              "      <th>Adventure</th>\n",
              "      <th>Board</th>\n",
              "      <th>Books</th>\n",
              "      <th>Business</th>\n",
              "      <th>Card</th>\n",
              "      <th>Casino</th>\n",
              "      <th>Casual</th>\n",
              "      <th>Education</th>\n",
              "      <th>Entertainment</th>\n",
              "      <th>Family</th>\n",
              "      <th>Finance</th>\n",
              "      <th>Food &amp; Drink</th>\n",
              "      <th>Games</th>\n",
              "      <th>Health &amp; Fitness</th>\n",
              "      <th>Lifestyle</th>\n",
              "      <th>Magazines &amp; Newspapers</th>\n",
              "      <th>Medical</th>\n",
              "      <th>Music</th>\n",
              "      <th>Navigation</th>\n",
              "      <th>News</th>\n",
              "      <th>Photo &amp; Video</th>\n",
              "      <th>Productivity</th>\n",
              "      <th>Puzzle</th>\n",
              "      <th>Racing</th>\n",
              "      <th>Reference</th>\n",
              "      <th>Role Playing</th>\n",
              "      <th>Simulation</th>\n",
              "      <th>Social Networking</th>\n",
              "      <th>Sports</th>\n",
              "      <th>Strategy</th>\n",
              "      <th>Travel</th>\n",
              "      <th>...</th>\n",
              "      <th>31.99</th>\n",
              "      <th>32.99</th>\n",
              "      <th>33.99</th>\n",
              "      <th>34.99</th>\n",
              "      <th>35.99</th>\n",
              "      <th>36.99</th>\n",
              "      <th>37.99</th>\n",
              "      <th>38.99</th>\n",
              "      <th>39.99</th>\n",
              "      <th>4.49</th>\n",
              "      <th>4.99</th>\n",
              "      <th>40.99</th>\n",
              "      <th>41.99</th>\n",
              "      <th>43.99</th>\n",
              "      <th>44.99</th>\n",
              "      <th>45.99</th>\n",
              "      <th>46.99</th>\n",
              "      <th>47.99</th>\n",
              "      <th>48.99</th>\n",
              "      <th>49.99</th>\n",
              "      <th>5.49</th>\n",
              "      <th>5.99</th>\n",
              "      <th>54.99</th>\n",
              "      <th>59.99</th>\n",
              "      <th>6.99</th>\n",
              "      <th>64.99</th>\n",
              "      <th>69.99</th>\n",
              "      <th>7.49</th>\n",
              "      <th>7.99</th>\n",
              "      <th>74.99</th>\n",
              "      <th>79.99</th>\n",
              "      <th>8.49</th>\n",
              "      <th>8.99</th>\n",
              "      <th>84.99</th>\n",
              "      <th>89.99</th>\n",
              "      <th>9.49</th>\n",
              "      <th>9.99</th>\n",
              "      <th>94.99</th>\n",
              "      <th>99.99</th>\n",
              "      <th>desc_lengths</th>\n",
              "    </tr>\n",
              "  </thead>\n",
              "  <tbody>\n",
              "    <tr>\n",
              "      <th>0</th>\n",
              "      <td>47.0</td>\n",
              "      <td>0.0</td>\n",
              "      <td>OutOfTheBit Ltd</td>\n",
              "      <td>4+</td>\n",
              "      <td>48672768.0</td>\n",
              "      <td>Games</td>\n",
              "      <td>30/07/2008</td>\n",
              "      <td>29/04/2019</td>\n",
              "      <td>0</td>\n",
              "      <td>0</td>\n",
              "      <td>0</td>\n",
              "      <td>0</td>\n",
              "      <td>0</td>\n",
              "      <td>0</td>\n",
              "      <td>0</td>\n",
              "      <td>0</td>\n",
              "      <td>0</td>\n",
              "      <td>1</td>\n",
              "      <td>0</td>\n",
              "      <td>0</td>\n",
              "      <td>0</td>\n",
              "      <td>1</td>\n",
              "      <td>0</td>\n",
              "      <td>0</td>\n",
              "      <td>0</td>\n",
              "      <td>0</td>\n",
              "      <td>0</td>\n",
              "      <td>0</td>\n",
              "      <td>0</td>\n",
              "      <td>0</td>\n",
              "      <td>0</td>\n",
              "      <td>1</td>\n",
              "      <td>0</td>\n",
              "      <td>0</td>\n",
              "      <td>0</td>\n",
              "      <td>0</td>\n",
              "      <td>0</td>\n",
              "      <td>0</td>\n",
              "      <td>1</td>\n",
              "      <td>0</td>\n",
              "      <td>...</td>\n",
              "      <td>0</td>\n",
              "      <td>0</td>\n",
              "      <td>0</td>\n",
              "      <td>0</td>\n",
              "      <td>0</td>\n",
              "      <td>0</td>\n",
              "      <td>0</td>\n",
              "      <td>0</td>\n",
              "      <td>0</td>\n",
              "      <td>0</td>\n",
              "      <td>0</td>\n",
              "      <td>0</td>\n",
              "      <td>0</td>\n",
              "      <td>0</td>\n",
              "      <td>0</td>\n",
              "      <td>0</td>\n",
              "      <td>0</td>\n",
              "      <td>0</td>\n",
              "      <td>0</td>\n",
              "      <td>0</td>\n",
              "      <td>0</td>\n",
              "      <td>0</td>\n",
              "      <td>0</td>\n",
              "      <td>0</td>\n",
              "      <td>0</td>\n",
              "      <td>0</td>\n",
              "      <td>0</td>\n",
              "      <td>0</td>\n",
              "      <td>0</td>\n",
              "      <td>0</td>\n",
              "      <td>0</td>\n",
              "      <td>0</td>\n",
              "      <td>0</td>\n",
              "      <td>0</td>\n",
              "      <td>0</td>\n",
              "      <td>0</td>\n",
              "      <td>0</td>\n",
              "      <td>0</td>\n",
              "      <td>0</td>\n",
              "      <td>2255</td>\n",
              "    </tr>\n",
              "    <tr>\n",
              "      <th>1</th>\n",
              "      <td>112.0</td>\n",
              "      <td>0.0</td>\n",
              "      <td>SOLILAB</td>\n",
              "      <td>4+</td>\n",
              "      <td>122826752.0</td>\n",
              "      <td>Games</td>\n",
              "      <td>31/08/2008</td>\n",
              "      <td>6/04/2015</td>\n",
              "      <td>0</td>\n",
              "      <td>0</td>\n",
              "      <td>1</td>\n",
              "      <td>0</td>\n",
              "      <td>0</td>\n",
              "      <td>0</td>\n",
              "      <td>0</td>\n",
              "      <td>0</td>\n",
              "      <td>0</td>\n",
              "      <td>0</td>\n",
              "      <td>0</td>\n",
              "      <td>0</td>\n",
              "      <td>0</td>\n",
              "      <td>1</td>\n",
              "      <td>0</td>\n",
              "      <td>0</td>\n",
              "      <td>0</td>\n",
              "      <td>0</td>\n",
              "      <td>0</td>\n",
              "      <td>0</td>\n",
              "      <td>0</td>\n",
              "      <td>0</td>\n",
              "      <td>0</td>\n",
              "      <td>0</td>\n",
              "      <td>0</td>\n",
              "      <td>0</td>\n",
              "      <td>0</td>\n",
              "      <td>0</td>\n",
              "      <td>0</td>\n",
              "      <td>0</td>\n",
              "      <td>1</td>\n",
              "      <td>0</td>\n",
              "      <td>...</td>\n",
              "      <td>0</td>\n",
              "      <td>0</td>\n",
              "      <td>0</td>\n",
              "      <td>0</td>\n",
              "      <td>0</td>\n",
              "      <td>0</td>\n",
              "      <td>0</td>\n",
              "      <td>0</td>\n",
              "      <td>0</td>\n",
              "      <td>0</td>\n",
              "      <td>0</td>\n",
              "      <td>0</td>\n",
              "      <td>0</td>\n",
              "      <td>0</td>\n",
              "      <td>0</td>\n",
              "      <td>0</td>\n",
              "      <td>0</td>\n",
              "      <td>0</td>\n",
              "      <td>0</td>\n",
              "      <td>0</td>\n",
              "      <td>0</td>\n",
              "      <td>0</td>\n",
              "      <td>0</td>\n",
              "      <td>0</td>\n",
              "      <td>0</td>\n",
              "      <td>0</td>\n",
              "      <td>0</td>\n",
              "      <td>0</td>\n",
              "      <td>0</td>\n",
              "      <td>0</td>\n",
              "      <td>0</td>\n",
              "      <td>0</td>\n",
              "      <td>0</td>\n",
              "      <td>0</td>\n",
              "      <td>0</td>\n",
              "      <td>0</td>\n",
              "      <td>0</td>\n",
              "      <td>0</td>\n",
              "      <td>0</td>\n",
              "      <td>618</td>\n",
              "    </tr>\n",
              "    <tr>\n",
              "      <th>2</th>\n",
              "      <td>112.0</td>\n",
              "      <td>0.0</td>\n",
              "      <td>SOLILAB</td>\n",
              "      <td>4+</td>\n",
              "      <td>122826752.0</td>\n",
              "      <td>Games</td>\n",
              "      <td>31/08/2008</td>\n",
              "      <td>6/04/2015</td>\n",
              "      <td>0</td>\n",
              "      <td>0</td>\n",
              "      <td>1</td>\n",
              "      <td>0</td>\n",
              "      <td>0</td>\n",
              "      <td>0</td>\n",
              "      <td>0</td>\n",
              "      <td>0</td>\n",
              "      <td>0</td>\n",
              "      <td>0</td>\n",
              "      <td>0</td>\n",
              "      <td>0</td>\n",
              "      <td>0</td>\n",
              "      <td>1</td>\n",
              "      <td>0</td>\n",
              "      <td>0</td>\n",
              "      <td>0</td>\n",
              "      <td>0</td>\n",
              "      <td>0</td>\n",
              "      <td>0</td>\n",
              "      <td>0</td>\n",
              "      <td>0</td>\n",
              "      <td>0</td>\n",
              "      <td>0</td>\n",
              "      <td>0</td>\n",
              "      <td>0</td>\n",
              "      <td>0</td>\n",
              "      <td>0</td>\n",
              "      <td>0</td>\n",
              "      <td>0</td>\n",
              "      <td>1</td>\n",
              "      <td>0</td>\n",
              "      <td>...</td>\n",
              "      <td>0</td>\n",
              "      <td>0</td>\n",
              "      <td>0</td>\n",
              "      <td>0</td>\n",
              "      <td>0</td>\n",
              "      <td>0</td>\n",
              "      <td>0</td>\n",
              "      <td>0</td>\n",
              "      <td>0</td>\n",
              "      <td>0</td>\n",
              "      <td>0</td>\n",
              "      <td>0</td>\n",
              "      <td>0</td>\n",
              "      <td>0</td>\n",
              "      <td>0</td>\n",
              "      <td>0</td>\n",
              "      <td>0</td>\n",
              "      <td>0</td>\n",
              "      <td>0</td>\n",
              "      <td>0</td>\n",
              "      <td>0</td>\n",
              "      <td>0</td>\n",
              "      <td>0</td>\n",
              "      <td>0</td>\n",
              "      <td>0</td>\n",
              "      <td>0</td>\n",
              "      <td>0</td>\n",
              "      <td>0</td>\n",
              "      <td>0</td>\n",
              "      <td>0</td>\n",
              "      <td>0</td>\n",
              "      <td>0</td>\n",
              "      <td>0</td>\n",
              "      <td>0</td>\n",
              "      <td>0</td>\n",
              "      <td>0</td>\n",
              "      <td>0</td>\n",
              "      <td>0</td>\n",
              "      <td>0</td>\n",
              "      <td>618</td>\n",
              "    </tr>\n",
              "    <tr>\n",
              "      <th>3</th>\n",
              "      <td>95971.0</td>\n",
              "      <td>0.0</td>\n",
              "      <td>Meme, Inc</td>\n",
              "      <td>4+</td>\n",
              "      <td>26820692.0</td>\n",
              "      <td>Games</td>\n",
              "      <td>19/02/2009</td>\n",
              "      <td>26/04/2013</td>\n",
              "      <td>0</td>\n",
              "      <td>0</td>\n",
              "      <td>0</td>\n",
              "      <td>0</td>\n",
              "      <td>0</td>\n",
              "      <td>0</td>\n",
              "      <td>0</td>\n",
              "      <td>0</td>\n",
              "      <td>0</td>\n",
              "      <td>0</td>\n",
              "      <td>0</td>\n",
              "      <td>0</td>\n",
              "      <td>0</td>\n",
              "      <td>1</td>\n",
              "      <td>0</td>\n",
              "      <td>0</td>\n",
              "      <td>0</td>\n",
              "      <td>0</td>\n",
              "      <td>0</td>\n",
              "      <td>0</td>\n",
              "      <td>0</td>\n",
              "      <td>0</td>\n",
              "      <td>0</td>\n",
              "      <td>1</td>\n",
              "      <td>0</td>\n",
              "      <td>0</td>\n",
              "      <td>0</td>\n",
              "      <td>0</td>\n",
              "      <td>0</td>\n",
              "      <td>0</td>\n",
              "      <td>1</td>\n",
              "      <td>0</td>\n",
              "      <td>...</td>\n",
              "      <td>0</td>\n",
              "      <td>0</td>\n",
              "      <td>0</td>\n",
              "      <td>0</td>\n",
              "      <td>0</td>\n",
              "      <td>0</td>\n",
              "      <td>0</td>\n",
              "      <td>0</td>\n",
              "      <td>0</td>\n",
              "      <td>0</td>\n",
              "      <td>1</td>\n",
              "      <td>0</td>\n",
              "      <td>0</td>\n",
              "      <td>0</td>\n",
              "      <td>0</td>\n",
              "      <td>0</td>\n",
              "      <td>0</td>\n",
              "      <td>0</td>\n",
              "      <td>0</td>\n",
              "      <td>0</td>\n",
              "      <td>0</td>\n",
              "      <td>0</td>\n",
              "      <td>0</td>\n",
              "      <td>0</td>\n",
              "      <td>0</td>\n",
              "      <td>0</td>\n",
              "      <td>0</td>\n",
              "      <td>0</td>\n",
              "      <td>0</td>\n",
              "      <td>0</td>\n",
              "      <td>0</td>\n",
              "      <td>0</td>\n",
              "      <td>0</td>\n",
              "      <td>0</td>\n",
              "      <td>0</td>\n",
              "      <td>0</td>\n",
              "      <td>0</td>\n",
              "      <td>0</td>\n",
              "      <td>0</td>\n",
              "      <td>794</td>\n",
              "    </tr>\n",
              "    <tr>\n",
              "      <th>4</th>\n",
              "      <td>357.0</td>\n",
              "      <td>0.0</td>\n",
              "      <td>Splash Software Ltd.</td>\n",
              "      <td>4+</td>\n",
              "      <td>52236288.0</td>\n",
              "      <td>Games</td>\n",
              "      <td>24/09/2008</td>\n",
              "      <td>26/04/2019</td>\n",
              "      <td>0</td>\n",
              "      <td>0</td>\n",
              "      <td>0</td>\n",
              "      <td>0</td>\n",
              "      <td>0</td>\n",
              "      <td>0</td>\n",
              "      <td>0</td>\n",
              "      <td>0</td>\n",
              "      <td>0</td>\n",
              "      <td>1</td>\n",
              "      <td>0</td>\n",
              "      <td>0</td>\n",
              "      <td>0</td>\n",
              "      <td>1</td>\n",
              "      <td>0</td>\n",
              "      <td>0</td>\n",
              "      <td>0</td>\n",
              "      <td>0</td>\n",
              "      <td>0</td>\n",
              "      <td>0</td>\n",
              "      <td>0</td>\n",
              "      <td>0</td>\n",
              "      <td>0</td>\n",
              "      <td>1</td>\n",
              "      <td>0</td>\n",
              "      <td>0</td>\n",
              "      <td>0</td>\n",
              "      <td>0</td>\n",
              "      <td>0</td>\n",
              "      <td>0</td>\n",
              "      <td>1</td>\n",
              "      <td>0</td>\n",
              "      <td>...</td>\n",
              "      <td>0</td>\n",
              "      <td>0</td>\n",
              "      <td>0</td>\n",
              "      <td>0</td>\n",
              "      <td>0</td>\n",
              "      <td>0</td>\n",
              "      <td>0</td>\n",
              "      <td>0</td>\n",
              "      <td>0</td>\n",
              "      <td>0</td>\n",
              "      <td>0</td>\n",
              "      <td>0</td>\n",
              "      <td>0</td>\n",
              "      <td>0</td>\n",
              "      <td>0</td>\n",
              "      <td>0</td>\n",
              "      <td>0</td>\n",
              "      <td>0</td>\n",
              "      <td>0</td>\n",
              "      <td>0</td>\n",
              "      <td>0</td>\n",
              "      <td>0</td>\n",
              "      <td>0</td>\n",
              "      <td>0</td>\n",
              "      <td>0</td>\n",
              "      <td>0</td>\n",
              "      <td>0</td>\n",
              "      <td>0</td>\n",
              "      <td>0</td>\n",
              "      <td>0</td>\n",
              "      <td>0</td>\n",
              "      <td>0</td>\n",
              "      <td>0</td>\n",
              "      <td>0</td>\n",
              "      <td>0</td>\n",
              "      <td>0</td>\n",
              "      <td>0</td>\n",
              "      <td>0</td>\n",
              "      <td>0</td>\n",
              "      <td>1039</td>\n",
              "    </tr>\n",
              "  </tbody>\n",
              "</table>\n",
              "<p>5 rows × 121 columns</p>\n",
              "</div>"
            ],
            "text/plain": [
              "   User Rating Count  Price             Developer  ... 94.99  99.99 desc_lengths\n",
              "0               47.0    0.0       OutOfTheBit Ltd  ...     0      0         2255\n",
              "1              112.0    0.0               SOLILAB  ...     0      0          618\n",
              "2              112.0    0.0               SOLILAB  ...     0      0          618\n",
              "3            95971.0    0.0             Meme, Inc  ...     0      0          794\n",
              "4              357.0    0.0  Splash Software Ltd.  ...     0      0         1039\n",
              "\n",
              "[5 rows x 121 columns]"
            ]
          },
          "metadata": {
            "tags": []
          },
          "execution_count": 20
        }
      ]
    },
    {
      "cell_type": "markdown",
      "metadata": {
        "id": "JOZupxf3XUhe",
        "colab_type": "text"
      },
      "source": [
        "Our final 2 features are Original Release Date and Current Version Release Date. I'm going to convert them both to the number of days since the dataset was extracted.\n",
        "\n",
        "But before that, I'm going to make a new category that finds the difference between the current version release date and the original version release date using datetime.\n",
        "\n",
        "For example, look at the difference between current version release date and the original version release date of the entry at index 1 in our df."
      ]
    },
    {
      "cell_type": "code",
      "metadata": {
        "id": "jb4rAvSxXSlO",
        "colab_type": "code",
        "colab": {
          "base_uri": "https://localhost:8080/",
          "height": 34
        },
        "outputId": "ac81d02c-3d13-4dcf-cd82-ab1f6aaf4408"
      },
      "source": [
        "from datetime import datetime\n",
        "date_format = \"%d/%m/%Y\"\n",
        "(datetime.strptime(df['Current Version Release Date'][1], date_format) - datetime.strptime(df['Original Release Date'][1], date_format)).days"
      ],
      "execution_count": 21,
      "outputs": [
        {
          "output_type": "execute_result",
          "data": {
            "text/plain": [
              "2409"
            ]
          },
          "metadata": {
            "tags": []
          },
          "execution_count": 21
        }
      ]
    },
    {
      "cell_type": "markdown",
      "metadata": {
        "id": "m-hO4e_tXajO",
        "colab_type": "text"
      },
      "source": [
        "That's 2409 days. Seems like this game hasn't been updated in a long time! So this feature could tell us that maybe since the game hasn't been updated, it isn't very popular or good. Logically, it would make more sense for highly rated games to be frequently updated, but this may not be the case. We will see.\n",
        "\n",
        "Now, Original Release Date and Current Version Release Date will be converted to the number of days since the dataset was extracted. Dataset was extracted on 3rd August, 2019 (from the dataset description)."
      ]
    },
    {
      "cell_type": "code",
      "metadata": {
        "id": "fF6BB9GUXXFC",
        "colab_type": "code",
        "colab": {
          "base_uri": "https://localhost:8080/",
          "height": 34
        },
        "outputId": "9bec633c-ced0-4839-f7f5-1019f074b0c4"
      },
      "source": [
        "dataset_date = datetime.strptime(\"3/7/2019\", date_format)\n",
        "dataset_date"
      ],
      "execution_count": 22,
      "outputs": [
        {
          "output_type": "execute_result",
          "data": {
            "text/plain": [
              "datetime.datetime(2019, 7, 3, 0, 0)"
            ]
          },
          "metadata": {
            "tags": []
          },
          "execution_count": 22
        }
      ]
    },
    {
      "cell_type": "code",
      "metadata": {
        "id": "3u6VKjX7XdAD",
        "colab_type": "code",
        "colab": {}
      },
      "source": [
        "curr_minus_orig = []\n",
        "\n",
        "for i in range(len(df)):\n",
        "    curr = df['Current Version Release Date'][i]\n",
        "    orig = df['Original Release Date'][i]\n",
        "    diff = datetime.strptime(curr, date_format) - datetime.strptime(orig, date_format)\n",
        "    curr_minus_orig.append(diff.days)\n",
        "    \n",
        "\n",
        "df['Current minus Original'] = np.array(curr_minus_orig)\n",
        "df['Original Release Date'] = np.array([ (dataset_date - datetime.strptime(date, date_format)).days for date in df['Original Release Date']])\n",
        "df['Current Version Release Date'] =  np.array([ (dataset_date - datetime.strptime(date, date_format)).days for date in df['Current Version Release Date']])"
      ],
      "execution_count": 0,
      "outputs": []
    },
    {
      "cell_type": "markdown",
      "metadata": {
        "id": "r0gSnbYKXg8B",
        "colab_type": "text"
      },
      "source": [
        "So we added a new feature called Current minus Original, and converted two existing features (Original Release Date and Current Version Release Date) into number of days since the dataset release.\n",
        "\n",
        "Now, let's convert the remaining object categories to something that algorithms can use (numbers) using Label Encoding."
      ]
    },
    {
      "cell_type": "code",
      "metadata": {
        "id": "w4aKqBgvXfHv",
        "colab_type": "code",
        "colab": {
          "base_uri": "https://localhost:8080/",
          "height": 85
        },
        "outputId": "1ad7096a-cc9a-4b10-b313-d01ea45db723"
      },
      "source": [
        "df.dtypes[df.dtypes == object]"
      ],
      "execution_count": 24,
      "outputs": [
        {
          "output_type": "execute_result",
          "data": {
            "text/plain": [
              "Developer        object\n",
              "Age Rating       object\n",
              "Primary Genre    object\n",
              "dtype: object"
            ]
          },
          "metadata": {
            "tags": []
          },
          "execution_count": 24
        }
      ]
    },
    {
      "cell_type": "markdown",
      "metadata": {
        "id": "YpvepfgHXklF",
        "colab_type": "text"
      },
      "source": [
        "So for example, the age rating column now has the following unique values."
      ]
    },
    {
      "cell_type": "code",
      "metadata": {
        "id": "NEfh07ZIXi2X",
        "colab_type": "code",
        "colab": {
          "base_uri": "https://localhost:8080/",
          "height": 34
        },
        "outputId": "9cffa304-f2f7-4ae5-f70e-5770bd9efdbd"
      },
      "source": [
        "df['Age Rating'].unique()"
      ],
      "execution_count": 25,
      "outputs": [
        {
          "output_type": "execute_result",
          "data": {
            "text/plain": [
              "array(['4+', '9+', '12+', '17+'], dtype=object)"
            ]
          },
          "metadata": {
            "tags": []
          },
          "execution_count": 25
        }
      ]
    },
    {
      "cell_type": "code",
      "metadata": {
        "id": "fJs8KffxXpM8",
        "colab_type": "code",
        "colab": {}
      },
      "source": [
        "from sklearn import preprocessing\n",
        "# Label Encoding\n",
        "for f in df.columns:\n",
        "    if df[f].dtype=='object':\n",
        "        lbl = preprocessing.LabelEncoder()\n",
        "        lbl.fit(list(df[f].values))\n",
        "        df[f] = lbl.transform(list(df[f].values))"
      ],
      "execution_count": 0,
      "outputs": []
    },
    {
      "cell_type": "markdown",
      "metadata": {
        "id": "ZrB6bxibXsKG",
        "colab_type": "text"
      },
      "source": [
        "After label encoding, the Age Rating column looks like"
      ]
    },
    {
      "cell_type": "code",
      "metadata": {
        "id": "_qiTdnI5XqrX",
        "colab_type": "code",
        "colab": {
          "base_uri": "https://localhost:8080/",
          "height": 34
        },
        "outputId": "7a822ed1-83a6-4965-ca45-61dc9fd48d6b"
      },
      "source": [
        "df['Age Rating'].unique()"
      ],
      "execution_count": 27,
      "outputs": [
        {
          "output_type": "execute_result",
          "data": {
            "text/plain": [
              "array([2, 3, 0, 1])"
            ]
          },
          "metadata": {
            "tags": []
          },
          "execution_count": 27
        }
      ]
    },
    {
      "cell_type": "markdown",
      "metadata": {
        "id": "m111QqPXXx7-",
        "colab_type": "text"
      },
      "source": [
        "Now, this makes no sense. 4+ is mapped to 2, 9+ is mapped to 1 but 17+ is mapped to 1. To make the mapping better, we should use our own predefined mapping in this case.\n",
        "\n",
        "I'm going to convert 4+, 9+, 12+ and 17+ to 4,9, 12 and 17 respectively."
      ]
    },
    {
      "cell_type": "code",
      "metadata": {
        "id": "_qR1Oqi1XwKO",
        "colab_type": "code",
        "colab": {
          "base_uri": "https://localhost:8080/",
          "height": 357
        },
        "outputId": "38c38fb3-ce9d-4f05-fc1e-92fff2f859a8"
      },
      "source": [
        "df['Age Rating'][df['Age Rating'] == 2] = 4\n",
        "df['Age Rating'][df['Age Rating'] == 3] = 9\n",
        "df['Age Rating'][df['Age Rating'] == 0] = 12\n",
        "df['Age Rating'][df['Age Rating'] == 1] = 17"
      ],
      "execution_count": 28,
      "outputs": [
        {
          "output_type": "stream",
          "text": [
            "/usr/local/lib/python3.6/dist-packages/ipykernel_launcher.py:1: SettingWithCopyWarning: \n",
            "A value is trying to be set on a copy of a slice from a DataFrame\n",
            "\n",
            "See the caveats in the documentation: http://pandas.pydata.org/pandas-docs/stable/user_guide/indexing.html#returning-a-view-versus-a-copy\n",
            "  \"\"\"Entry point for launching an IPython kernel.\n",
            "/usr/local/lib/python3.6/dist-packages/ipykernel_launcher.py:2: SettingWithCopyWarning: \n",
            "A value is trying to be set on a copy of a slice from a DataFrame\n",
            "\n",
            "See the caveats in the documentation: http://pandas.pydata.org/pandas-docs/stable/user_guide/indexing.html#returning-a-view-versus-a-copy\n",
            "  \n",
            "/usr/local/lib/python3.6/dist-packages/ipykernel_launcher.py:3: SettingWithCopyWarning: \n",
            "A value is trying to be set on a copy of a slice from a DataFrame\n",
            "\n",
            "See the caveats in the documentation: http://pandas.pydata.org/pandas-docs/stable/user_guide/indexing.html#returning-a-view-versus-a-copy\n",
            "  This is separate from the ipykernel package so we can avoid doing imports until\n",
            "/usr/local/lib/python3.6/dist-packages/ipykernel_launcher.py:4: SettingWithCopyWarning: \n",
            "A value is trying to be set on a copy of a slice from a DataFrame\n",
            "\n",
            "See the caveats in the documentation: http://pandas.pydata.org/pandas-docs/stable/user_guide/indexing.html#returning-a-view-versus-a-copy\n",
            "  after removing the cwd from sys.path.\n"
          ],
          "name": "stderr"
        }
      ]
    },
    {
      "cell_type": "code",
      "metadata": {
        "id": "5VN0ZOdvXz5i",
        "colab_type": "code",
        "colab": {
          "base_uri": "https://localhost:8080/",
          "height": 34
        },
        "outputId": "5abf395a-511b-4dd5-f480-4452d6e5752d"
      },
      "source": [
        "df['Age Rating'].unique()"
      ],
      "execution_count": 29,
      "outputs": [
        {
          "output_type": "execute_result",
          "data": {
            "text/plain": [
              "array([ 4,  9, 12, 17])"
            ]
          },
          "metadata": {
            "tags": []
          },
          "execution_count": 29
        }
      ]
    },
    {
      "cell_type": "markdown",
      "metadata": {
        "id": "aPUCUtjuX5eC",
        "colab_type": "text"
      },
      "source": [
        "We're going to split our dataframe and y to check how well our model generalizes in the future."
      ]
    },
    {
      "cell_type": "code",
      "metadata": {
        "id": "nabYNMCuX3hB",
        "colab_type": "code",
        "colab": {}
      },
      "source": [
        "from sklearn.model_selection import train_test_split\n",
        "X_train, X_test, y_train, y_test = train_test_split(df, y, test_size=0.2, random_state=123)"
      ],
      "execution_count": 0,
      "outputs": []
    },
    {
      "cell_type": "markdown",
      "metadata": {
        "id": "JA07heOVX9rB",
        "colab_type": "text"
      },
      "source": [
        "Going to fill the missing values with 0."
      ]
    },
    {
      "cell_type": "code",
      "metadata": {
        "id": "Sl5VpbuYX7wm",
        "colab_type": "code",
        "colab": {}
      },
      "source": [
        "X_train = X_train.fillna(0)\n",
        "X_test = X_test.fillna(0)"
      ],
      "execution_count": 0,
      "outputs": []
    },
    {
      "cell_type": "code",
      "metadata": {
        "id": "VSh8x6rSX_ia",
        "colab_type": "code",
        "colab": {
          "base_uri": "https://localhost:8080/",
          "height": 34
        },
        "outputId": "699d741e-03f2-4091-b5af-48d994aed16a"
      },
      "source": [
        "X_train.shape"
      ],
      "execution_count": 32,
      "outputs": [
        {
          "output_type": "execute_result",
          "data": {
            "text/plain": [
              "(3694, 122)"
            ]
          },
          "metadata": {
            "tags": []
          },
          "execution_count": 32
        }
      ]
    },
    {
      "cell_type": "markdown",
      "metadata": {
        "id": "rH92SfInYC1R",
        "colab_type": "text"
      },
      "source": [
        "Before we proceed with regression, let us check how well distributed the data is."
      ]
    },
    {
      "cell_type": "code",
      "metadata": {
        "id": "uWcVllzvYA7f",
        "colab_type": "code",
        "colab": {
          "base_uri": "https://localhost:8080/",
          "height": 296
        },
        "outputId": "fad0147c-07b4-4eb7-ac49-3d4f65e608dd"
      },
      "source": [
        "sns.distplot(y, hist=True, kde=False, bins=9, hist_kws={'edgecolor':'#000000'})"
      ],
      "execution_count": 33,
      "outputs": [
        {
          "output_type": "execute_result",
          "data": {
            "text/plain": [
              "<matplotlib.axes._subplots.AxesSubplot at 0x7ff12cf763c8>"
            ]
          },
          "metadata": {
            "tags": []
          },
          "execution_count": 33
        },
        {
          "output_type": "display_data",
          "data": {
            "image/png": "[encoded data removed]",
            "text/plain": [
              "<Figure size 432x288 with 1 Axes>"
            ]
          },
          "metadata": {
            "tags": []
          }
        }
      ]
    },
    {
      "cell_type": "markdown",
      "metadata": {
        "id": "IRIngrwlYG8o",
        "colab_type": "text"
      },
      "source": [
        "Most readings lie between 4.0 and 4.5 in our dataset, which will likely result in most predictions to be between 4.0 and 4.5.\n",
        "\n",
        "Before we move in to regression, let us take one final look at our dataframes."
      ]
    },
    {
      "cell_type": "code",
      "metadata": {
        "id": "w82GfqC7YEup",
        "colab_type": "code",
        "colab": {
          "base_uri": "https://localhost:8080/",
          "height": 304
        },
        "outputId": "de5a1188-91e3-4480-9525-3e5fd8231733"
      },
      "source": [
        "X_train.head()"
      ],
      "execution_count": 34,
      "outputs": [
        {
          "output_type": "execute_result",
          "data": {
            "text/html": [
              "<div>\n",
              "<style scoped>\n",
              "    .dataframe tbody tr th:only-of-type {\n",
              "        vertical-align: middle;\n",
              "    }\n",
              "\n",
              "    .dataframe tbody tr th {\n",
              "        vertical-align: top;\n",
              "    }\n",
              "\n",
              "    .dataframe thead th {\n",
              "        text-align: right;\n",
              "    }\n",
              "</style>\n",
              "<table border=\"1\" class=\"dataframe\">\n",
              "  <thead>\n",
              "    <tr style=\"text-align: right;\">\n",
              "      <th></th>\n",
              "      <th>User Rating Count</th>\n",
              "      <th>Price</th>\n",
              "      <th>Developer</th>\n",
              "      <th>Age Rating</th>\n",
              "      <th>Size</th>\n",
              "      <th>Primary Genre</th>\n",
              "      <th>Original Release Date</th>\n",
              "      <th>Current Version Release Date</th>\n",
              "      <th>Action</th>\n",
              "      <th>Adventure</th>\n",
              "      <th>Board</th>\n",
              "      <th>Books</th>\n",
              "      <th>Business</th>\n",
              "      <th>Card</th>\n",
              "      <th>Casino</th>\n",
              "      <th>Casual</th>\n",
              "      <th>Education</th>\n",
              "      <th>Entertainment</th>\n",
              "      <th>Family</th>\n",
              "      <th>Finance</th>\n",
              "      <th>Food &amp; Drink</th>\n",
              "      <th>Games</th>\n",
              "      <th>Health &amp; Fitness</th>\n",
              "      <th>Lifestyle</th>\n",
              "      <th>Magazines &amp; Newspapers</th>\n",
              "      <th>Medical</th>\n",
              "      <th>Music</th>\n",
              "      <th>Navigation</th>\n",
              "      <th>News</th>\n",
              "      <th>Photo &amp; Video</th>\n",
              "      <th>Productivity</th>\n",
              "      <th>Puzzle</th>\n",
              "      <th>Racing</th>\n",
              "      <th>Reference</th>\n",
              "      <th>Role Playing</th>\n",
              "      <th>Simulation</th>\n",
              "      <th>Social Networking</th>\n",
              "      <th>Sports</th>\n",
              "      <th>Strategy</th>\n",
              "      <th>Travel</th>\n",
              "      <th>...</th>\n",
              "      <th>32.99</th>\n",
              "      <th>33.99</th>\n",
              "      <th>34.99</th>\n",
              "      <th>35.99</th>\n",
              "      <th>36.99</th>\n",
              "      <th>37.99</th>\n",
              "      <th>38.99</th>\n",
              "      <th>39.99</th>\n",
              "      <th>4.49</th>\n",
              "      <th>4.99</th>\n",
              "      <th>40.99</th>\n",
              "      <th>41.99</th>\n",
              "      <th>43.99</th>\n",
              "      <th>44.99</th>\n",
              "      <th>45.99</th>\n",
              "      <th>46.99</th>\n",
              "      <th>47.99</th>\n",
              "      <th>48.99</th>\n",
              "      <th>49.99</th>\n",
              "      <th>5.49</th>\n",
              "      <th>5.99</th>\n",
              "      <th>54.99</th>\n",
              "      <th>59.99</th>\n",
              "      <th>6.99</th>\n",
              "      <th>64.99</th>\n",
              "      <th>69.99</th>\n",
              "      <th>7.49</th>\n",
              "      <th>7.99</th>\n",
              "      <th>74.99</th>\n",
              "      <th>79.99</th>\n",
              "      <th>8.49</th>\n",
              "      <th>8.99</th>\n",
              "      <th>84.99</th>\n",
              "      <th>89.99</th>\n",
              "      <th>9.49</th>\n",
              "      <th>9.99</th>\n",
              "      <th>94.99</th>\n",
              "      <th>99.99</th>\n",
              "      <th>desc_lengths</th>\n",
              "      <th>Current minus Original</th>\n",
              "    </tr>\n",
              "  </thead>\n",
              "  <tbody>\n",
              "    <tr>\n",
              "      <th>1298</th>\n",
              "      <td>33.0</td>\n",
              "      <td>0.0</td>\n",
              "      <td>520</td>\n",
              "      <td>9</td>\n",
              "      <td>2.470707e+07</td>\n",
              "      <td>5</td>\n",
              "      <td>1841</td>\n",
              "      <td>1841</td>\n",
              "      <td>1</td>\n",
              "      <td>0</td>\n",
              "      <td>0</td>\n",
              "      <td>0</td>\n",
              "      <td>0</td>\n",
              "      <td>0</td>\n",
              "      <td>0</td>\n",
              "      <td>0</td>\n",
              "      <td>0</td>\n",
              "      <td>1</td>\n",
              "      <td>0</td>\n",
              "      <td>0</td>\n",
              "      <td>0</td>\n",
              "      <td>1</td>\n",
              "      <td>0</td>\n",
              "      <td>0</td>\n",
              "      <td>0</td>\n",
              "      <td>0</td>\n",
              "      <td>0</td>\n",
              "      <td>0</td>\n",
              "      <td>0</td>\n",
              "      <td>0</td>\n",
              "      <td>0</td>\n",
              "      <td>0</td>\n",
              "      <td>0</td>\n",
              "      <td>0</td>\n",
              "      <td>0</td>\n",
              "      <td>0</td>\n",
              "      <td>0</td>\n",
              "      <td>0</td>\n",
              "      <td>1</td>\n",
              "      <td>0</td>\n",
              "      <td>...</td>\n",
              "      <td>0</td>\n",
              "      <td>0</td>\n",
              "      <td>0</td>\n",
              "      <td>0</td>\n",
              "      <td>0</td>\n",
              "      <td>0</td>\n",
              "      <td>0</td>\n",
              "      <td>0</td>\n",
              "      <td>0</td>\n",
              "      <td>1</td>\n",
              "      <td>0</td>\n",
              "      <td>0</td>\n",
              "      <td>0</td>\n",
              "      <td>0</td>\n",
              "      <td>0</td>\n",
              "      <td>0</td>\n",
              "      <td>0</td>\n",
              "      <td>0</td>\n",
              "      <td>0</td>\n",
              "      <td>0</td>\n",
              "      <td>0</td>\n",
              "      <td>0</td>\n",
              "      <td>0</td>\n",
              "      <td>0</td>\n",
              "      <td>0</td>\n",
              "      <td>0</td>\n",
              "      <td>0</td>\n",
              "      <td>0</td>\n",
              "      <td>0</td>\n",
              "      <td>0</td>\n",
              "      <td>0</td>\n",
              "      <td>0</td>\n",
              "      <td>0</td>\n",
              "      <td>0</td>\n",
              "      <td>0</td>\n",
              "      <td>0</td>\n",
              "      <td>0</td>\n",
              "      <td>0</td>\n",
              "      <td>296</td>\n",
              "      <td>0</td>\n",
              "    </tr>\n",
              "    <tr>\n",
              "      <th>4431</th>\n",
              "      <td>312.0</td>\n",
              "      <td>0.0</td>\n",
              "      <td>2282</td>\n",
              "      <td>4</td>\n",
              "      <td>1.233213e+08</td>\n",
              "      <td>5</td>\n",
              "      <td>203</td>\n",
              "      <td>-14</td>\n",
              "      <td>0</td>\n",
              "      <td>0</td>\n",
              "      <td>1</td>\n",
              "      <td>0</td>\n",
              "      <td>0</td>\n",
              "      <td>0</td>\n",
              "      <td>0</td>\n",
              "      <td>0</td>\n",
              "      <td>0</td>\n",
              "      <td>1</td>\n",
              "      <td>0</td>\n",
              "      <td>0</td>\n",
              "      <td>0</td>\n",
              "      <td>1</td>\n",
              "      <td>0</td>\n",
              "      <td>0</td>\n",
              "      <td>0</td>\n",
              "      <td>0</td>\n",
              "      <td>0</td>\n",
              "      <td>0</td>\n",
              "      <td>0</td>\n",
              "      <td>0</td>\n",
              "      <td>0</td>\n",
              "      <td>0</td>\n",
              "      <td>0</td>\n",
              "      <td>0</td>\n",
              "      <td>0</td>\n",
              "      <td>0</td>\n",
              "      <td>0</td>\n",
              "      <td>0</td>\n",
              "      <td>1</td>\n",
              "      <td>0</td>\n",
              "      <td>...</td>\n",
              "      <td>0</td>\n",
              "      <td>0</td>\n",
              "      <td>0</td>\n",
              "      <td>0</td>\n",
              "      <td>0</td>\n",
              "      <td>0</td>\n",
              "      <td>0</td>\n",
              "      <td>0</td>\n",
              "      <td>0</td>\n",
              "      <td>1</td>\n",
              "      <td>0</td>\n",
              "      <td>0</td>\n",
              "      <td>0</td>\n",
              "      <td>0</td>\n",
              "      <td>0</td>\n",
              "      <td>0</td>\n",
              "      <td>0</td>\n",
              "      <td>0</td>\n",
              "      <td>0</td>\n",
              "      <td>0</td>\n",
              "      <td>0</td>\n",
              "      <td>0</td>\n",
              "      <td>0</td>\n",
              "      <td>0</td>\n",
              "      <td>0</td>\n",
              "      <td>0</td>\n",
              "      <td>0</td>\n",
              "      <td>1</td>\n",
              "      <td>0</td>\n",
              "      <td>0</td>\n",
              "      <td>0</td>\n",
              "      <td>0</td>\n",
              "      <td>0</td>\n",
              "      <td>0</td>\n",
              "      <td>0</td>\n",
              "      <td>0</td>\n",
              "      <td>0</td>\n",
              "      <td>0</td>\n",
              "      <td>835</td>\n",
              "      <td>217</td>\n",
              "    </tr>\n",
              "    <tr>\n",
              "      <th>3013</th>\n",
              "      <td>648.0</td>\n",
              "      <td>0.0</td>\n",
              "      <td>797</td>\n",
              "      <td>12</td>\n",
              "      <td>1.866854e+09</td>\n",
              "      <td>5</td>\n",
              "      <td>-30</td>\n",
              "      <td>-30</td>\n",
              "      <td>0</td>\n",
              "      <td>0</td>\n",
              "      <td>0</td>\n",
              "      <td>0</td>\n",
              "      <td>0</td>\n",
              "      <td>0</td>\n",
              "      <td>0</td>\n",
              "      <td>0</td>\n",
              "      <td>0</td>\n",
              "      <td>0</td>\n",
              "      <td>0</td>\n",
              "      <td>0</td>\n",
              "      <td>0</td>\n",
              "      <td>1</td>\n",
              "      <td>0</td>\n",
              "      <td>0</td>\n",
              "      <td>0</td>\n",
              "      <td>0</td>\n",
              "      <td>0</td>\n",
              "      <td>0</td>\n",
              "      <td>0</td>\n",
              "      <td>0</td>\n",
              "      <td>0</td>\n",
              "      <td>0</td>\n",
              "      <td>0</td>\n",
              "      <td>0</td>\n",
              "      <td>1</td>\n",
              "      <td>0</td>\n",
              "      <td>0</td>\n",
              "      <td>0</td>\n",
              "      <td>1</td>\n",
              "      <td>0</td>\n",
              "      <td>...</td>\n",
              "      <td>0</td>\n",
              "      <td>0</td>\n",
              "      <td>0</td>\n",
              "      <td>0</td>\n",
              "      <td>0</td>\n",
              "      <td>0</td>\n",
              "      <td>0</td>\n",
              "      <td>0</td>\n",
              "      <td>0</td>\n",
              "      <td>1</td>\n",
              "      <td>0</td>\n",
              "      <td>0</td>\n",
              "      <td>0</td>\n",
              "      <td>0</td>\n",
              "      <td>0</td>\n",
              "      <td>0</td>\n",
              "      <td>0</td>\n",
              "      <td>0</td>\n",
              "      <td>0</td>\n",
              "      <td>0</td>\n",
              "      <td>0</td>\n",
              "      <td>0</td>\n",
              "      <td>0</td>\n",
              "      <td>0</td>\n",
              "      <td>0</td>\n",
              "      <td>0</td>\n",
              "      <td>0</td>\n",
              "      <td>0</td>\n",
              "      <td>0</td>\n",
              "      <td>0</td>\n",
              "      <td>0</td>\n",
              "      <td>0</td>\n",
              "      <td>0</td>\n",
              "      <td>0</td>\n",
              "      <td>0</td>\n",
              "      <td>1</td>\n",
              "      <td>0</td>\n",
              "      <td>1</td>\n",
              "      <td>1955</td>\n",
              "      <td>0</td>\n",
              "    </tr>\n",
              "    <tr>\n",
              "      <th>3145</th>\n",
              "      <td>225.0</td>\n",
              "      <td>0.0</td>\n",
              "      <td>1572</td>\n",
              "      <td>9</td>\n",
              "      <td>1.555405e+08</td>\n",
              "      <td>5</td>\n",
              "      <td>931</td>\n",
              "      <td>817</td>\n",
              "      <td>0</td>\n",
              "      <td>0</td>\n",
              "      <td>0</td>\n",
              "      <td>0</td>\n",
              "      <td>0</td>\n",
              "      <td>0</td>\n",
              "      <td>0</td>\n",
              "      <td>0</td>\n",
              "      <td>0</td>\n",
              "      <td>1</td>\n",
              "      <td>1</td>\n",
              "      <td>0</td>\n",
              "      <td>0</td>\n",
              "      <td>1</td>\n",
              "      <td>0</td>\n",
              "      <td>0</td>\n",
              "      <td>0</td>\n",
              "      <td>0</td>\n",
              "      <td>0</td>\n",
              "      <td>0</td>\n",
              "      <td>0</td>\n",
              "      <td>0</td>\n",
              "      <td>0</td>\n",
              "      <td>0</td>\n",
              "      <td>0</td>\n",
              "      <td>0</td>\n",
              "      <td>0</td>\n",
              "      <td>0</td>\n",
              "      <td>0</td>\n",
              "      <td>0</td>\n",
              "      <td>1</td>\n",
              "      <td>0</td>\n",
              "      <td>...</td>\n",
              "      <td>0</td>\n",
              "      <td>0</td>\n",
              "      <td>0</td>\n",
              "      <td>0</td>\n",
              "      <td>0</td>\n",
              "      <td>0</td>\n",
              "      <td>0</td>\n",
              "      <td>0</td>\n",
              "      <td>0</td>\n",
              "      <td>0</td>\n",
              "      <td>0</td>\n",
              "      <td>0</td>\n",
              "      <td>0</td>\n",
              "      <td>0</td>\n",
              "      <td>0</td>\n",
              "      <td>0</td>\n",
              "      <td>0</td>\n",
              "      <td>0</td>\n",
              "      <td>0</td>\n",
              "      <td>0</td>\n",
              "      <td>1</td>\n",
              "      <td>0</td>\n",
              "      <td>0</td>\n",
              "      <td>0</td>\n",
              "      <td>0</td>\n",
              "      <td>0</td>\n",
              "      <td>0</td>\n",
              "      <td>0</td>\n",
              "      <td>0</td>\n",
              "      <td>0</td>\n",
              "      <td>0</td>\n",
              "      <td>0</td>\n",
              "      <td>0</td>\n",
              "      <td>0</td>\n",
              "      <td>0</td>\n",
              "      <td>1</td>\n",
              "      <td>0</td>\n",
              "      <td>0</td>\n",
              "      <td>1373</td>\n",
              "      <td>114</td>\n",
              "    </tr>\n",
              "    <tr>\n",
              "      <th>1067</th>\n",
              "      <td>15.0</td>\n",
              "      <td>0.0</td>\n",
              "      <td>2419</td>\n",
              "      <td>17</td>\n",
              "      <td>9.589965e+08</td>\n",
              "      <td>5</td>\n",
              "      <td>2044</td>\n",
              "      <td>2035</td>\n",
              "      <td>1</td>\n",
              "      <td>0</td>\n",
              "      <td>0</td>\n",
              "      <td>0</td>\n",
              "      <td>0</td>\n",
              "      <td>0</td>\n",
              "      <td>0</td>\n",
              "      <td>0</td>\n",
              "      <td>0</td>\n",
              "      <td>0</td>\n",
              "      <td>0</td>\n",
              "      <td>0</td>\n",
              "      <td>0</td>\n",
              "      <td>1</td>\n",
              "      <td>0</td>\n",
              "      <td>0</td>\n",
              "      <td>0</td>\n",
              "      <td>0</td>\n",
              "      <td>0</td>\n",
              "      <td>0</td>\n",
              "      <td>0</td>\n",
              "      <td>0</td>\n",
              "      <td>0</td>\n",
              "      <td>0</td>\n",
              "      <td>0</td>\n",
              "      <td>0</td>\n",
              "      <td>0</td>\n",
              "      <td>0</td>\n",
              "      <td>0</td>\n",
              "      <td>0</td>\n",
              "      <td>1</td>\n",
              "      <td>0</td>\n",
              "      <td>...</td>\n",
              "      <td>0</td>\n",
              "      <td>0</td>\n",
              "      <td>0</td>\n",
              "      <td>0</td>\n",
              "      <td>0</td>\n",
              "      <td>0</td>\n",
              "      <td>0</td>\n",
              "      <td>0</td>\n",
              "      <td>0</td>\n",
              "      <td>1</td>\n",
              "      <td>0</td>\n",
              "      <td>0</td>\n",
              "      <td>0</td>\n",
              "      <td>0</td>\n",
              "      <td>0</td>\n",
              "      <td>0</td>\n",
              "      <td>0</td>\n",
              "      <td>0</td>\n",
              "      <td>0</td>\n",
              "      <td>0</td>\n",
              "      <td>0</td>\n",
              "      <td>0</td>\n",
              "      <td>0</td>\n",
              "      <td>0</td>\n",
              "      <td>0</td>\n",
              "      <td>0</td>\n",
              "      <td>0</td>\n",
              "      <td>0</td>\n",
              "      <td>0</td>\n",
              "      <td>0</td>\n",
              "      <td>0</td>\n",
              "      <td>0</td>\n",
              "      <td>0</td>\n",
              "      <td>0</td>\n",
              "      <td>0</td>\n",
              "      <td>1</td>\n",
              "      <td>0</td>\n",
              "      <td>0</td>\n",
              "      <td>2138</td>\n",
              "      <td>9</td>\n",
              "    </tr>\n",
              "  </tbody>\n",
              "</table>\n",
              "<p>5 rows × 122 columns</p>\n",
              "</div>"
            ],
            "text/plain": [
              "      User Rating Count  Price  ...  desc_lengths  Current minus Original\n",
              "1298               33.0    0.0  ...           296                       0\n",
              "4431              312.0    0.0  ...           835                     217\n",
              "3013              648.0    0.0  ...          1955                       0\n",
              "3145              225.0    0.0  ...          1373                     114\n",
              "1067               15.0    0.0  ...          2138                       9\n",
              "\n",
              "[5 rows x 122 columns]"
            ]
          },
          "metadata": {
            "tags": []
          },
          "execution_count": 34
        }
      ]
    },
    {
      "cell_type": "code",
      "metadata": {
        "id": "Oe1vltQ9YIc8",
        "colab_type": "code",
        "colab": {
          "base_uri": "https://localhost:8080/",
          "height": 304
        },
        "outputId": "b61aac88-eb77-4c1f-b8e3-0d82c0529bc6"
      },
      "source": [
        "X_test.head()"
      ],
      "execution_count": 35,
      "outputs": [
        {
          "output_type": "execute_result",
          "data": {
            "text/html": [
              "<div>\n",
              "<style scoped>\n",
              "    .dataframe tbody tr th:only-of-type {\n",
              "        vertical-align: middle;\n",
              "    }\n",
              "\n",
              "    .dataframe tbody tr th {\n",
              "        vertical-align: top;\n",
              "    }\n",
              "\n",
              "    .dataframe thead th {\n",
              "        text-align: right;\n",
              "    }\n",
              "</style>\n",
              "<table border=\"1\" class=\"dataframe\">\n",
              "  <thead>\n",
              "    <tr style=\"text-align: right;\">\n",
              "      <th></th>\n",
              "      <th>User Rating Count</th>\n",
              "      <th>Price</th>\n",
              "      <th>Developer</th>\n",
              "      <th>Age Rating</th>\n",
              "      <th>Size</th>\n",
              "      <th>Primary Genre</th>\n",
              "      <th>Original Release Date</th>\n",
              "      <th>Current Version Release Date</th>\n",
              "      <th>Action</th>\n",
              "      <th>Adventure</th>\n",
              "      <th>Board</th>\n",
              "      <th>Books</th>\n",
              "      <th>Business</th>\n",
              "      <th>Card</th>\n",
              "      <th>Casino</th>\n",
              "      <th>Casual</th>\n",
              "      <th>Education</th>\n",
              "      <th>Entertainment</th>\n",
              "      <th>Family</th>\n",
              "      <th>Finance</th>\n",
              "      <th>Food &amp; Drink</th>\n",
              "      <th>Games</th>\n",
              "      <th>Health &amp; Fitness</th>\n",
              "      <th>Lifestyle</th>\n",
              "      <th>Magazines &amp; Newspapers</th>\n",
              "      <th>Medical</th>\n",
              "      <th>Music</th>\n",
              "      <th>Navigation</th>\n",
              "      <th>News</th>\n",
              "      <th>Photo &amp; Video</th>\n",
              "      <th>Productivity</th>\n",
              "      <th>Puzzle</th>\n",
              "      <th>Racing</th>\n",
              "      <th>Reference</th>\n",
              "      <th>Role Playing</th>\n",
              "      <th>Simulation</th>\n",
              "      <th>Social Networking</th>\n",
              "      <th>Sports</th>\n",
              "      <th>Strategy</th>\n",
              "      <th>Travel</th>\n",
              "      <th>...</th>\n",
              "      <th>32.99</th>\n",
              "      <th>33.99</th>\n",
              "      <th>34.99</th>\n",
              "      <th>35.99</th>\n",
              "      <th>36.99</th>\n",
              "      <th>37.99</th>\n",
              "      <th>38.99</th>\n",
              "      <th>39.99</th>\n",
              "      <th>4.49</th>\n",
              "      <th>4.99</th>\n",
              "      <th>40.99</th>\n",
              "      <th>41.99</th>\n",
              "      <th>43.99</th>\n",
              "      <th>44.99</th>\n",
              "      <th>45.99</th>\n",
              "      <th>46.99</th>\n",
              "      <th>47.99</th>\n",
              "      <th>48.99</th>\n",
              "      <th>49.99</th>\n",
              "      <th>5.49</th>\n",
              "      <th>5.99</th>\n",
              "      <th>54.99</th>\n",
              "      <th>59.99</th>\n",
              "      <th>6.99</th>\n",
              "      <th>64.99</th>\n",
              "      <th>69.99</th>\n",
              "      <th>7.49</th>\n",
              "      <th>7.99</th>\n",
              "      <th>74.99</th>\n",
              "      <th>79.99</th>\n",
              "      <th>8.49</th>\n",
              "      <th>8.99</th>\n",
              "      <th>84.99</th>\n",
              "      <th>89.99</th>\n",
              "      <th>9.49</th>\n",
              "      <th>9.99</th>\n",
              "      <th>94.99</th>\n",
              "      <th>99.99</th>\n",
              "      <th>desc_lengths</th>\n",
              "      <th>Current minus Original</th>\n",
              "    </tr>\n",
              "  </thead>\n",
              "  <tbody>\n",
              "    <tr>\n",
              "      <th>3194</th>\n",
              "      <td>23.0</td>\n",
              "      <td>0.00</td>\n",
              "      <td>2451</td>\n",
              "      <td>9</td>\n",
              "      <td>1.001953e+08</td>\n",
              "      <td>5</td>\n",
              "      <td>847</td>\n",
              "      <td>705</td>\n",
              "      <td>0</td>\n",
              "      <td>0</td>\n",
              "      <td>0</td>\n",
              "      <td>0</td>\n",
              "      <td>0</td>\n",
              "      <td>0</td>\n",
              "      <td>0</td>\n",
              "      <td>0</td>\n",
              "      <td>0</td>\n",
              "      <td>0</td>\n",
              "      <td>0</td>\n",
              "      <td>0</td>\n",
              "      <td>0</td>\n",
              "      <td>1</td>\n",
              "      <td>0</td>\n",
              "      <td>0</td>\n",
              "      <td>0</td>\n",
              "      <td>0</td>\n",
              "      <td>0</td>\n",
              "      <td>0</td>\n",
              "      <td>0</td>\n",
              "      <td>0</td>\n",
              "      <td>0</td>\n",
              "      <td>0</td>\n",
              "      <td>0</td>\n",
              "      <td>0</td>\n",
              "      <td>1</td>\n",
              "      <td>0</td>\n",
              "      <td>1</td>\n",
              "      <td>0</td>\n",
              "      <td>1</td>\n",
              "      <td>0</td>\n",
              "      <td>...</td>\n",
              "      <td>0</td>\n",
              "      <td>0</td>\n",
              "      <td>0</td>\n",
              "      <td>0</td>\n",
              "      <td>0</td>\n",
              "      <td>0</td>\n",
              "      <td>0</td>\n",
              "      <td>0</td>\n",
              "      <td>0</td>\n",
              "      <td>1</td>\n",
              "      <td>0</td>\n",
              "      <td>0</td>\n",
              "      <td>0</td>\n",
              "      <td>0</td>\n",
              "      <td>0</td>\n",
              "      <td>0</td>\n",
              "      <td>0</td>\n",
              "      <td>0</td>\n",
              "      <td>1</td>\n",
              "      <td>0</td>\n",
              "      <td>1</td>\n",
              "      <td>0</td>\n",
              "      <td>0</td>\n",
              "      <td>0</td>\n",
              "      <td>0</td>\n",
              "      <td>0</td>\n",
              "      <td>0</td>\n",
              "      <td>0</td>\n",
              "      <td>0</td>\n",
              "      <td>0</td>\n",
              "      <td>0</td>\n",
              "      <td>0</td>\n",
              "      <td>0</td>\n",
              "      <td>0</td>\n",
              "      <td>0</td>\n",
              "      <td>1</td>\n",
              "      <td>0</td>\n",
              "      <td>1</td>\n",
              "      <td>1369</td>\n",
              "      <td>142</td>\n",
              "    </tr>\n",
              "    <tr>\n",
              "      <th>3209</th>\n",
              "      <td>7.0</td>\n",
              "      <td>0.00</td>\n",
              "      <td>1963</td>\n",
              "      <td>9</td>\n",
              "      <td>1.527184e+09</td>\n",
              "      <td>5</td>\n",
              "      <td>936</td>\n",
              "      <td>936</td>\n",
              "      <td>0</td>\n",
              "      <td>0</td>\n",
              "      <td>1</td>\n",
              "      <td>0</td>\n",
              "      <td>0</td>\n",
              "      <td>0</td>\n",
              "      <td>0</td>\n",
              "      <td>0</td>\n",
              "      <td>1</td>\n",
              "      <td>0</td>\n",
              "      <td>0</td>\n",
              "      <td>0</td>\n",
              "      <td>0</td>\n",
              "      <td>1</td>\n",
              "      <td>0</td>\n",
              "      <td>0</td>\n",
              "      <td>0</td>\n",
              "      <td>0</td>\n",
              "      <td>0</td>\n",
              "      <td>0</td>\n",
              "      <td>0</td>\n",
              "      <td>0</td>\n",
              "      <td>0</td>\n",
              "      <td>0</td>\n",
              "      <td>0</td>\n",
              "      <td>0</td>\n",
              "      <td>0</td>\n",
              "      <td>0</td>\n",
              "      <td>0</td>\n",
              "      <td>0</td>\n",
              "      <td>1</td>\n",
              "      <td>0</td>\n",
              "      <td>...</td>\n",
              "      <td>0</td>\n",
              "      <td>0</td>\n",
              "      <td>0</td>\n",
              "      <td>0</td>\n",
              "      <td>0</td>\n",
              "      <td>0</td>\n",
              "      <td>0</td>\n",
              "      <td>0</td>\n",
              "      <td>0</td>\n",
              "      <td>1</td>\n",
              "      <td>0</td>\n",
              "      <td>0</td>\n",
              "      <td>0</td>\n",
              "      <td>0</td>\n",
              "      <td>0</td>\n",
              "      <td>0</td>\n",
              "      <td>0</td>\n",
              "      <td>0</td>\n",
              "      <td>0</td>\n",
              "      <td>0</td>\n",
              "      <td>0</td>\n",
              "      <td>0</td>\n",
              "      <td>0</td>\n",
              "      <td>0</td>\n",
              "      <td>0</td>\n",
              "      <td>0</td>\n",
              "      <td>0</td>\n",
              "      <td>0</td>\n",
              "      <td>0</td>\n",
              "      <td>1</td>\n",
              "      <td>0</td>\n",
              "      <td>0</td>\n",
              "      <td>0</td>\n",
              "      <td>0</td>\n",
              "      <td>0</td>\n",
              "      <td>1</td>\n",
              "      <td>0</td>\n",
              "      <td>0</td>\n",
              "      <td>2846</td>\n",
              "      <td>0</td>\n",
              "    </tr>\n",
              "    <tr>\n",
              "      <th>948</th>\n",
              "      <td>1363.0</td>\n",
              "      <td>2.99</td>\n",
              "      <td>890</td>\n",
              "      <td>4</td>\n",
              "      <td>7.288422e+07</td>\n",
              "      <td>5</td>\n",
              "      <td>2120</td>\n",
              "      <td>769</td>\n",
              "      <td>0</td>\n",
              "      <td>0</td>\n",
              "      <td>0</td>\n",
              "      <td>0</td>\n",
              "      <td>0</td>\n",
              "      <td>0</td>\n",
              "      <td>0</td>\n",
              "      <td>0</td>\n",
              "      <td>0</td>\n",
              "      <td>1</td>\n",
              "      <td>0</td>\n",
              "      <td>0</td>\n",
              "      <td>0</td>\n",
              "      <td>1</td>\n",
              "      <td>0</td>\n",
              "      <td>0</td>\n",
              "      <td>0</td>\n",
              "      <td>0</td>\n",
              "      <td>0</td>\n",
              "      <td>0</td>\n",
              "      <td>0</td>\n",
              "      <td>0</td>\n",
              "      <td>0</td>\n",
              "      <td>1</td>\n",
              "      <td>0</td>\n",
              "      <td>0</td>\n",
              "      <td>0</td>\n",
              "      <td>0</td>\n",
              "      <td>0</td>\n",
              "      <td>0</td>\n",
              "      <td>1</td>\n",
              "      <td>0</td>\n",
              "      <td>...</td>\n",
              "      <td>0</td>\n",
              "      <td>0</td>\n",
              "      <td>0</td>\n",
              "      <td>0</td>\n",
              "      <td>0</td>\n",
              "      <td>0</td>\n",
              "      <td>0</td>\n",
              "      <td>0</td>\n",
              "      <td>0</td>\n",
              "      <td>0</td>\n",
              "      <td>0</td>\n",
              "      <td>0</td>\n",
              "      <td>0</td>\n",
              "      <td>0</td>\n",
              "      <td>0</td>\n",
              "      <td>0</td>\n",
              "      <td>0</td>\n",
              "      <td>0</td>\n",
              "      <td>0</td>\n",
              "      <td>0</td>\n",
              "      <td>0</td>\n",
              "      <td>0</td>\n",
              "      <td>0</td>\n",
              "      <td>0</td>\n",
              "      <td>0</td>\n",
              "      <td>0</td>\n",
              "      <td>0</td>\n",
              "      <td>0</td>\n",
              "      <td>0</td>\n",
              "      <td>0</td>\n",
              "      <td>0</td>\n",
              "      <td>0</td>\n",
              "      <td>0</td>\n",
              "      <td>0</td>\n",
              "      <td>0</td>\n",
              "      <td>0</td>\n",
              "      <td>0</td>\n",
              "      <td>0</td>\n",
              "      <td>987</td>\n",
              "      <td>1351</td>\n",
              "    </tr>\n",
              "    <tr>\n",
              "      <th>1843</th>\n",
              "      <td>687.0</td>\n",
              "      <td>0.00</td>\n",
              "      <td>658</td>\n",
              "      <td>12</td>\n",
              "      <td>9.701683e+07</td>\n",
              "      <td>5</td>\n",
              "      <td>1426</td>\n",
              "      <td>41</td>\n",
              "      <td>0</td>\n",
              "      <td>0</td>\n",
              "      <td>0</td>\n",
              "      <td>0</td>\n",
              "      <td>0</td>\n",
              "      <td>0</td>\n",
              "      <td>0</td>\n",
              "      <td>0</td>\n",
              "      <td>0</td>\n",
              "      <td>1</td>\n",
              "      <td>0</td>\n",
              "      <td>0</td>\n",
              "      <td>0</td>\n",
              "      <td>1</td>\n",
              "      <td>0</td>\n",
              "      <td>0</td>\n",
              "      <td>0</td>\n",
              "      <td>0</td>\n",
              "      <td>0</td>\n",
              "      <td>0</td>\n",
              "      <td>0</td>\n",
              "      <td>0</td>\n",
              "      <td>0</td>\n",
              "      <td>0</td>\n",
              "      <td>0</td>\n",
              "      <td>0</td>\n",
              "      <td>1</td>\n",
              "      <td>0</td>\n",
              "      <td>0</td>\n",
              "      <td>0</td>\n",
              "      <td>1</td>\n",
              "      <td>0</td>\n",
              "      <td>...</td>\n",
              "      <td>0</td>\n",
              "      <td>0</td>\n",
              "      <td>0</td>\n",
              "      <td>0</td>\n",
              "      <td>0</td>\n",
              "      <td>0</td>\n",
              "      <td>0</td>\n",
              "      <td>0</td>\n",
              "      <td>0</td>\n",
              "      <td>1</td>\n",
              "      <td>0</td>\n",
              "      <td>0</td>\n",
              "      <td>0</td>\n",
              "      <td>0</td>\n",
              "      <td>0</td>\n",
              "      <td>0</td>\n",
              "      <td>0</td>\n",
              "      <td>0</td>\n",
              "      <td>1</td>\n",
              "      <td>0</td>\n",
              "      <td>0</td>\n",
              "      <td>0</td>\n",
              "      <td>0</td>\n",
              "      <td>0</td>\n",
              "      <td>0</td>\n",
              "      <td>0</td>\n",
              "      <td>0</td>\n",
              "      <td>0</td>\n",
              "      <td>0</td>\n",
              "      <td>0</td>\n",
              "      <td>0</td>\n",
              "      <td>0</td>\n",
              "      <td>0</td>\n",
              "      <td>0</td>\n",
              "      <td>0</td>\n",
              "      <td>1</td>\n",
              "      <td>0</td>\n",
              "      <td>1</td>\n",
              "      <td>719</td>\n",
              "      <td>1385</td>\n",
              "    </tr>\n",
              "    <tr>\n",
              "      <th>1353</th>\n",
              "      <td>6.0</td>\n",
              "      <td>0.00</td>\n",
              "      <td>1535</td>\n",
              "      <td>4</td>\n",
              "      <td>6.935347e+07</td>\n",
              "      <td>5</td>\n",
              "      <td>1991</td>\n",
              "      <td>1991</td>\n",
              "      <td>0</td>\n",
              "      <td>0</td>\n",
              "      <td>0</td>\n",
              "      <td>0</td>\n",
              "      <td>0</td>\n",
              "      <td>0</td>\n",
              "      <td>0</td>\n",
              "      <td>0</td>\n",
              "      <td>0</td>\n",
              "      <td>0</td>\n",
              "      <td>0</td>\n",
              "      <td>0</td>\n",
              "      <td>0</td>\n",
              "      <td>1</td>\n",
              "      <td>0</td>\n",
              "      <td>0</td>\n",
              "      <td>0</td>\n",
              "      <td>0</td>\n",
              "      <td>0</td>\n",
              "      <td>0</td>\n",
              "      <td>0</td>\n",
              "      <td>0</td>\n",
              "      <td>0</td>\n",
              "      <td>0</td>\n",
              "      <td>1</td>\n",
              "      <td>0</td>\n",
              "      <td>0</td>\n",
              "      <td>0</td>\n",
              "      <td>0</td>\n",
              "      <td>0</td>\n",
              "      <td>1</td>\n",
              "      <td>0</td>\n",
              "      <td>...</td>\n",
              "      <td>0</td>\n",
              "      <td>0</td>\n",
              "      <td>0</td>\n",
              "      <td>0</td>\n",
              "      <td>0</td>\n",
              "      <td>0</td>\n",
              "      <td>0</td>\n",
              "      <td>0</td>\n",
              "      <td>0</td>\n",
              "      <td>0</td>\n",
              "      <td>0</td>\n",
              "      <td>0</td>\n",
              "      <td>0</td>\n",
              "      <td>0</td>\n",
              "      <td>0</td>\n",
              "      <td>0</td>\n",
              "      <td>0</td>\n",
              "      <td>0</td>\n",
              "      <td>0</td>\n",
              "      <td>0</td>\n",
              "      <td>0</td>\n",
              "      <td>0</td>\n",
              "      <td>0</td>\n",
              "      <td>0</td>\n",
              "      <td>0</td>\n",
              "      <td>0</td>\n",
              "      <td>0</td>\n",
              "      <td>0</td>\n",
              "      <td>0</td>\n",
              "      <td>0</td>\n",
              "      <td>0</td>\n",
              "      <td>0</td>\n",
              "      <td>0</td>\n",
              "      <td>0</td>\n",
              "      <td>0</td>\n",
              "      <td>0</td>\n",
              "      <td>0</td>\n",
              "      <td>0</td>\n",
              "      <td>430</td>\n",
              "      <td>0</td>\n",
              "    </tr>\n",
              "  </tbody>\n",
              "</table>\n",
              "<p>5 rows × 122 columns</p>\n",
              "</div>"
            ],
            "text/plain": [
              "      User Rating Count  Price  ...  desc_lengths  Current minus Original\n",
              "3194               23.0   0.00  ...          1369                     142\n",
              "3209                7.0   0.00  ...          2846                       0\n",
              "948              1363.0   2.99  ...           987                    1351\n",
              "1843              687.0   0.00  ...           719                    1385\n",
              "1353                6.0   0.00  ...           430                       0\n",
              "\n",
              "[5 rows x 122 columns]"
            ]
          },
          "metadata": {
            "tags": []
          },
          "execution_count": 35
        }
      ]
    },
    {
      "cell_type": "markdown",
      "metadata": {
        "id": "7QREkuh1YN7C",
        "colab_type": "text"
      },
      "source": [
        "### Linear Regression with Sklearn\n",
        "We first normalize the data using sklearn's preprocessing library, then use the LinearRegression class of sklearn to initialize our model. Then we fit the linear regression model to our preprocessed train data and train labels. Finally, we predict the train and the test labels and calculate the RMSE (root mean squared error) score for each."
      ]
    },
    {
      "cell_type": "code",
      "metadata": {
        "id": "CQ-INpa5YK1_",
        "colab_type": "code",
        "colab": {
          "base_uri": "https://localhost:8080/",
          "height": 153
        },
        "outputId": "bc8b655d-b9fb-4874-eeb5-1f1009073513"
      },
      "source": [
        "from sklearn.linear_model import LinearRegression\n",
        "from sklearn.metrics import mean_squared_error\n",
        "\n",
        "X_train_preprocessed = preprocessing.normalize(X_train)\n",
        "X_test_preprocessed = preprocessing.normalize(X_test)\n",
        "\n",
        "lin_model = LinearRegression()\n",
        "lin_model.fit(X_train_preprocessed, y_train)\n",
        "\n",
        "y_train_predict = lin_model.predict(X_train_preprocessed)\n",
        "\n",
        "rmse = (np.sqrt(mean_squared_error(y_train, y_train_predict)))\n",
        "\n",
        "print(\"The model performance for training set\")\n",
        "print(\"--------------------------------------\")\n",
        "print('RMSE is {}'.format(rmse))\n",
        "print(\"\\n\")\n",
        "\n",
        "# model evaluation for testing set\n",
        "y_test_predict = lin_model.predict(X_test_preprocessed)\n",
        "rmse = (np.sqrt(mean_squared_error(y_test, y_test_predict)))\n",
        "\n",
        "print(\"The model performance for testing set\")\n",
        "print(\"--------------------------------------\")\n",
        "print('RMSE is {}'.format(rmse))"
      ],
      "execution_count": 36,
      "outputs": [
        {
          "output_type": "stream",
          "text": [
            "The model performance for training set\n",
            "--------------------------------------\n",
            "RMSE is 0.6298926023435922\n",
            "\n",
            "\n",
            "The model performance for testing set\n",
            "--------------------------------------\n",
            "RMSE is 0.6880589084750911\n"
          ],
          "name": "stdout"
        }
      ]
    },
    {
      "cell_type": "markdown",
      "metadata": {
        "id": "6zB-7floYU27",
        "colab_type": "text"
      },
      "source": [
        "I'm going to make a dataframe of the actual value vs the predicted value."
      ]
    },
    {
      "cell_type": "code",
      "metadata": {
        "id": "oNq4IP6HYSEt",
        "colab_type": "code",
        "colab": {
          "base_uri": "https://localhost:8080/",
          "height": 359
        },
        "outputId": "805b5887-fdb1-45fa-bc9e-3b41313e5591"
      },
      "source": [
        "error_frame = pd.DataFrame({'Actual': np.array(y_test).flatten(), 'Predicted': y_test_predict.flatten()})\n",
        "error_frame.head(10)"
      ],
      "execution_count": 37,
      "outputs": [
        {
          "output_type": "execute_result",
          "data": {
            "text/html": [
              "<div>\n",
              "<style scoped>\n",
              "    .dataframe tbody tr th:only-of-type {\n",
              "        vertical-align: middle;\n",
              "    }\n",
              "\n",
              "    .dataframe tbody tr th {\n",
              "        vertical-align: top;\n",
              "    }\n",
              "\n",
              "    .dataframe thead th {\n",
              "        text-align: right;\n",
              "    }\n",
              "</style>\n",
              "<table border=\"1\" class=\"dataframe\">\n",
              "  <thead>\n",
              "    <tr style=\"text-align: right;\">\n",
              "      <th></th>\n",
              "      <th>Actual</th>\n",
              "      <th>Predicted</th>\n",
              "    </tr>\n",
              "  </thead>\n",
              "  <tbody>\n",
              "    <tr>\n",
              "      <th>0</th>\n",
              "      <td>4.5</td>\n",
              "      <td>4.136567</td>\n",
              "    </tr>\n",
              "    <tr>\n",
              "      <th>1</th>\n",
              "      <td>3.0</td>\n",
              "      <td>4.189650</td>\n",
              "    </tr>\n",
              "    <tr>\n",
              "      <th>2</th>\n",
              "      <td>4.5</td>\n",
              "      <td>4.239712</td>\n",
              "    </tr>\n",
              "    <tr>\n",
              "      <th>3</th>\n",
              "      <td>4.0</td>\n",
              "      <td>4.148573</td>\n",
              "    </tr>\n",
              "    <tr>\n",
              "      <th>4</th>\n",
              "      <td>3.0</td>\n",
              "      <td>4.069042</td>\n",
              "    </tr>\n",
              "    <tr>\n",
              "      <th>5</th>\n",
              "      <td>3.0</td>\n",
              "      <td>4.237414</td>\n",
              "    </tr>\n",
              "    <tr>\n",
              "      <th>6</th>\n",
              "      <td>4.5</td>\n",
              "      <td>4.399898</td>\n",
              "    </tr>\n",
              "    <tr>\n",
              "      <th>7</th>\n",
              "      <td>4.0</td>\n",
              "      <td>4.279491</td>\n",
              "    </tr>\n",
              "    <tr>\n",
              "      <th>8</th>\n",
              "      <td>4.5</td>\n",
              "      <td>3.832580</td>\n",
              "    </tr>\n",
              "    <tr>\n",
              "      <th>9</th>\n",
              "      <td>5.0</td>\n",
              "      <td>4.167747</td>\n",
              "    </tr>\n",
              "  </tbody>\n",
              "</table>\n",
              "</div>"
            ],
            "text/plain": [
              "   Actual  Predicted\n",
              "0     4.5   4.136567\n",
              "1     3.0   4.189650\n",
              "2     4.5   4.239712\n",
              "3     4.0   4.148573\n",
              "4     3.0   4.069042\n",
              "5     3.0   4.237414\n",
              "6     4.5   4.399898\n",
              "7     4.0   4.279491\n",
              "8     4.5   3.832580\n",
              "9     5.0   4.167747"
            ]
          },
          "metadata": {
            "tags": []
          },
          "execution_count": 37
        }
      ]
    },
    {
      "cell_type": "markdown",
      "metadata": {
        "id": "OJBOdn9XYY01",
        "colab_type": "text"
      },
      "source": [
        "Plotting the first 20 comparisons of our error frame..."
      ]
    },
    {
      "cell_type": "code",
      "metadata": {
        "id": "wqlP1bE7YWyM",
        "colab_type": "code",
        "colab": {
          "base_uri": "https://localhost:8080/",
          "height": 614
        },
        "outputId": "36ed1624-9a41-4360-ef47-f66ea742f991"
      },
      "source": [
        "df1 = error_frame[0:20]\n",
        "df1.plot(kind='bar',figsize=(24,10))\n",
        "plt.grid(which='major', linestyle='-', linewidth='0.5', color='green')\n",
        "plt.grid(which='minor', linestyle=':', linewidth='0.5', color='black')\n",
        "plt.show()"
      ],
      "execution_count": 38,
      "outputs": [
        {
          "output_type": "display_data",
          "data": {
            "image/png": "[encoded data removed]",
            "text/plain": [
              "<Figure size 1728x720 with 1 Axes>"
            ]
          },
          "metadata": {
            "tags": []
          }
        }
      ]
    },
    {
      "cell_type": "markdown",
      "metadata": {
        "id": "WKXikJ8MYeiQ",
        "colab_type": "text"
      },
      "source": [
        "A lot of our predictions lie between 4 and 4.5, which is mostly because the dataset majorly had those values. Let us see if XGBoost can give us a lower RMSE than sklearn's linear regression.\n",
        "\n",
        "### Regression using XGBoost\n",
        "XGBoost is one of the most popular libraries for using the Gradient Boosting technique. From Wikipedia,\n",
        "\n",
        "Gradient boosting is a machine learning technique for regression and classification problems, which produces a prediction model in the form of an ensemble of weak prediction models, typically decision trees. It builds the model in a stage-wise fashion like other boosting methods do, and it generalizes them by allowing optimization of an arbitrary differentiable loss function.\n",
        "\n",
        "Essentially XGB creates a lot of weak predictors and then combines them to give you a good prediction model. This process of combining predictors/models is called Ensembling.\n",
        "\n",
        "Import the XGBoost API and create our Regressor with some parameters, then fit it to our data. I picked these parameters quite arbitarily, but after this we will be using GridSearchCV to find better parameters.\n",
        "\n",
        "Important - the line tree_method='gpu_hist' will throw an error if you are not running a GPU kernel, so you will have to comment that line and run the kernel."
      ]
    },
    {
      "cell_type": "code",
      "metadata": {
        "id": "EQxFzTEaYaeu",
        "colab_type": "code",
        "colab": {
          "base_uri": "https://localhost:8080/",
          "height": 187
        },
        "outputId": "f9710faa-0ecb-406e-9b6a-54061ad7b04d"
      },
      "source": [
        "import xgboost as xgb\n",
        "\n",
        "xgr = xgb.XGBRegressor(           \n",
        "                 learning_rate=0.05,\n",
        "                 max_depth=8,\n",
        "                 min_child_weight=1.5,\n",
        "                 n_estimators=500,                                                                    \n",
        "                 seed=42,\n",
        "                 num_boost_rounds=50,\n",
        "                 objective=\"reg:squarederror\",\n",
        "                 tree_method='gpu_hist',  #IMPORTANT. GPU_HIST NEEDS GPU, OTHERWISE ERROR WILL BE THROWN.\n",
        "                )\n",
        "xgr.fit(X_train, y_train)"
      ],
      "execution_count": 39,
      "outputs": [
        {
          "output_type": "stream",
          "text": [
            "/usr/local/lib/python3.6/dist-packages/xgboost/core.py:587: FutureWarning: Series.base is deprecated and will be removed in a future version\n",
            "  if getattr(data, 'base', None) is not None and \\\n"
          ],
          "name": "stderr"
        },
        {
          "output_type": "execute_result",
          "data": {
            "text/plain": [
              "XGBRegressor(base_score=0.5, booster='gbtree', colsample_bylevel=1,\n",
              "             colsample_bynode=1, colsample_bytree=1, gamma=0,\n",
              "             importance_type='gain', learning_rate=0.05, max_delta_step=0,\n",
              "             max_depth=8, min_child_weight=1.5, missing=None, n_estimators=500,\n",
              "             n_jobs=1, nthread=None, num_boost_rounds=50,\n",
              "             objective='reg:squarederror', random_state=0, reg_alpha=0,\n",
              "             reg_lambda=1, scale_pos_weight=1, seed=42, silent=None,\n",
              "             subsample=1, tree_method='gpu_hist', verbosity=1)"
            ]
          },
          "metadata": {
            "tags": []
          },
          "execution_count": 39
        }
      ]
    },
    {
      "cell_type": "markdown",
      "metadata": {
        "id": "RjL5d2txYlb8",
        "colab_type": "text"
      },
      "source": [
        "Calculating our losses...[RMSE scores]"
      ]
    },
    {
      "cell_type": "code",
      "metadata": {
        "id": "o16rapUQYisW",
        "colab_type": "code",
        "colab": {
          "base_uri": "https://localhost:8080/",
          "height": 51
        },
        "outputId": "92788ce2-7558-41da-c798-1f6593172b74"
      },
      "source": [
        "train_pred = xgr.predict(data= X_train)\n",
        "test_pred = xgr.predict(data= X_test)\n",
        "\n",
        "mse_train = mean_squared_error(y_train, train_pred)\n",
        "mse_test = mean_squared_error(y_test, test_pred)\n",
        "\n",
        "print('RMSE train : {:.3f}'.format(np.sqrt(mse_train)))\n",
        "print('RMSE test : {:.3f}'.format(np.sqrt(mse_test)))"
      ],
      "execution_count": 40,
      "outputs": [
        {
          "output_type": "stream",
          "text": [
            "RMSE train : 0.128\n",
            "RMSE test : 0.621\n"
          ],
          "name": "stdout"
        }
      ]
    },
    {
      "cell_type": "markdown",
      "metadata": {
        "id": "KNE8GFEEYqOw",
        "colab_type": "text"
      },
      "source": [
        "Since the RMSE of train is significantly lower than the RMSE of test, we have overfit. Let us try to find better parameters that won't overfit. However, even with overfitting, the 0.621 RMSE is quite a lot better than the 0.688 RMSE of the scikit-learn's linear regressor.\n",
        "\n",
        "One of the ways of finding ideal hyperparameters is through GridSearchCV, in which we specify the possible each hyperparameter values. GridSearchCV goes through all possible combinations of these parameter values."
      ]
    },
    {
      "cell_type": "code",
      "metadata": {
        "id": "VPiyipGwYnjA",
        "colab_type": "code",
        "colab": {}
      },
      "source": [
        "from sklearn.model_selection import GridSearchCV\n",
        "\n",
        "params = {'learning_rate': [0.01, 0.03, 0.06],\n",
        "          'max_depth' : [4, 6, 8],\n",
        "          'n_estimators' : [250, 500, 1000, 1500, 2000],\n",
        "          'num_boost_rounds' : [5, 20],}"
      ],
      "execution_count": 0,
      "outputs": []
    },
    {
      "cell_type": "markdown",
      "metadata": {
        "id": "EVrgrHmyYvdZ",
        "colab_type": "text"
      },
      "source": [
        "So in the above example, since we have 3,3,5,2 possible values (3 for learning_rate, 3 for max_depth, 5 for n_estimators and 2 for num_boost_rounds), we will get 3*3*5*2 = 90 candidates. The best one amongst these will be chosen. If we decide to cross validate them with 3 folds, we will have to fit a total of 90*3 = 270 times."
      ]
    },
    {
      "cell_type": "markdown",
      "metadata": {
        "id": "8qgH9NWaYzkt",
        "colab_type": "text"
      },
      "source": [
        "Here, we will be splitting the training data into 3 instead and then training on two of those, then validating on the one that is left.\n",
        "\n",
        "I've imported warnings to ignore FutureWarning/Depreciation warnings as they will occur 270 times. Kaggle seems to be using old version of XGBoost where this bug hasn't been fixed, so we will have to ignore them.\n",
        "\n",
        "We take the scoring as neg_mean_squared_error because by default sklearn assumes that the more mean squared error we have, the better model it is, even though that is not the case here. So since we want to minimize the error, we use neg_mean_squared_error.\n",
        "\n",
        "The following code will take about 20 minutes to run WITH a GPU. It might take an hour or longer without one. If you want to skip this, comment the following cells until I tell you not to."
      ]
    },
    {
      "cell_type": "code",
      "metadata": {
        "id": "kytP8CvBYsc3",
        "colab_type": "code",
        "colab": {
          "base_uri": "https://localhost:8080/",
          "height": 102
        },
        "outputId": "649682d3-e2c2-4c23-cc16-96812322dc4f"
      },
      "source": [
        "%%time\n",
        "import warnings\n",
        "warnings.simplefilter(action='ignore', category=FutureWarning)\n",
        "\n",
        "xgr_optimized = xgb.XGBRegressor(objective=\"reg:squarederror\",\n",
        "                                 min_child_weight=1.5,\n",
        "                                 tree_method='gpu_hist')\n",
        "\n",
        "grid = GridSearchCV(estimator=xgr_optimized, scoring=\"neg_mean_squared_error\", param_grid = params, verbose=1, cv=3)\n",
        "grid.fit(X_train, y_train)"
      ],
      "execution_count": 42,
      "outputs": [
        {
          "output_type": "stream",
          "text": [
            "Fitting 3 folds for each of 90 candidates, totalling 270 fits\n"
          ],
          "name": "stdout"
        },
        {
          "output_type": "stream",
          "text": [
            "[Parallel(n_jobs=1)]: Using backend SequentialBackend with 1 concurrent workers.\n",
            "[Parallel(n_jobs=1)]: Done 270 out of 270 | elapsed: 37.7min finished\n"
          ],
          "name": "stderr"
        },
        {
          "output_type": "stream",
          "text": [
            "CPU times: user 25min 55s, sys: 11min 49s, total: 37min 45s\n",
            "Wall time: 37min 46s\n"
          ],
          "name": "stdout"
        }
      ]
    },
    {
      "cell_type": "markdown",
      "metadata": {
        "id": "a1_2IHOnaUoP",
        "colab_type": "text"
      },
      "source": [
        "Finding the best score and the best parameters..."
      ]
    },
    {
      "cell_type": "code",
      "metadata": {
        "id": "997NOCNRY2F4",
        "colab_type": "code",
        "colab": {
          "base_uri": "https://localhost:8080/",
          "height": 34
        },
        "outputId": "e82c2e61-9fb8-49c2-c169-b810d034ebcd"
      },
      "source": [
        "print(grid.best_params_)"
      ],
      "execution_count": 43,
      "outputs": [
        {
          "output_type": "stream",
          "text": [
            "{'learning_rate': 0.03, 'max_depth': 4, 'n_estimators': 250, 'num_boost_rounds': 5}\n"
          ],
          "name": "stdout"
        }
      ]
    },
    {
      "cell_type": "markdown",
      "metadata": {
        "id": "tPcT2kNchxII",
        "colab_type": "text"
      },
      "source": [
        "We'll use the best params as arguments for our XGBRegressor, then fit our training data."
      ]
    },
    {
      "cell_type": "code",
      "metadata": {
        "id": "Y8j6mvrTaXbQ",
        "colab_type": "code",
        "colab": {
          "base_uri": "https://localhost:8080/",
          "height": 170
        },
        "outputId": "f81d1c71-8379-4929-c7db-588380cb3f8d"
      },
      "source": [
        "xgr_best = xgb.XGBRegressor(learning_rate = 0.01, max_depth  = 6, n_estimators =  500, num_boost_rounds =  5,  min_child_weight=1.5, tree_method='gpu_hist') #, tree_method='gpu_hist') # You canuncomment this tree method part if you are using GPU\n",
        "\n",
        "xgr_best.fit(X_train, y_train)"
      ],
      "execution_count": 44,
      "outputs": [
        {
          "output_type": "stream",
          "text": [
            "[19:13:00] WARNING: /workspace/src/objective/regression_obj.cu:152: reg:linear is now deprecated in favor of reg:squarederror.\n"
          ],
          "name": "stdout"
        },
        {
          "output_type": "execute_result",
          "data": {
            "text/plain": [
              "XGBRegressor(base_score=0.5, booster='gbtree', colsample_bylevel=1,\n",
              "             colsample_bynode=1, colsample_bytree=1, gamma=0,\n",
              "             importance_type='gain', learning_rate=0.01, max_delta_step=0,\n",
              "             max_depth=6, min_child_weight=1.5, missing=None, n_estimators=500,\n",
              "             n_jobs=1, nthread=None, num_boost_rounds=5, objective='reg:linear',\n",
              "             random_state=0, reg_alpha=0, reg_lambda=1, scale_pos_weight=1,\n",
              "             seed=None, silent=None, subsample=1, tree_method='gpu_hist',\n",
              "             verbosity=1)"
            ]
          },
          "metadata": {
            "tags": []
          },
          "execution_count": 44
        }
      ]
    },
    {
      "cell_type": "markdown",
      "metadata": {
        "id": "K2UbcHCYh5Ae",
        "colab_type": "text"
      },
      "source": [
        "Finally, we will check the RMSE scores."
      ]
    },
    {
      "cell_type": "code",
      "metadata": {
        "id": "N3mFI9zjh00v",
        "colab_type": "code",
        "colab": {
          "base_uri": "https://localhost:8080/",
          "height": 51
        },
        "outputId": "4eb46263-44de-452b-d416-10ea33190578"
      },
      "source": [
        "train_pred = xgr_best.predict(data= X_train)\n",
        "test_pred = xgr_best.predict(data= X_test)\n",
        "\n",
        "mse_train = mean_squared_error(y_train, train_pred)\n",
        "mse_test = mean_squared_error(y_test, test_pred)\n",
        "\n",
        "print('RMSE train : {:.3f}'.format(np.sqrt(mse_train)))\n",
        "print('RMSE test : {:.3f}'.format(np.sqrt(mse_test)))"
      ],
      "execution_count": 45,
      "outputs": [
        {
          "output_type": "stream",
          "text": [
            "RMSE train : 0.430\n",
            "RMSE test : 0.610\n"
          ],
          "name": "stdout"
        }
      ]
    },
    {
      "cell_type": "markdown",
      "metadata": {
        "id": "2vOJTEdNh9_f",
        "colab_type": "text"
      },
      "source": [
        "Even lower! Now, the same thing as we did earlier-- Create an error frame and plot it."
      ]
    },
    {
      "cell_type": "code",
      "metadata": {
        "id": "Nq4UW42Oh7kX",
        "colab_type": "code",
        "colab": {
          "base_uri": "https://localhost:8080/",
          "height": 359
        },
        "outputId": "4738756a-9a7e-46f6-88e4-722910a121e7"
      },
      "source": [
        "error_frame = pd.DataFrame({'Actual': np.array(y_test).flatten(), 'Predicted': test_pred.flatten()})\n",
        "error_frame.head(10)"
      ],
      "execution_count": 46,
      "outputs": [
        {
          "output_type": "execute_result",
          "data": {
            "text/html": [
              "<div>\n",
              "<style scoped>\n",
              "    .dataframe tbody tr th:only-of-type {\n",
              "        vertical-align: middle;\n",
              "    }\n",
              "\n",
              "    .dataframe tbody tr th {\n",
              "        vertical-align: top;\n",
              "    }\n",
              "\n",
              "    .dataframe thead th {\n",
              "        text-align: right;\n",
              "    }\n",
              "</style>\n",
              "<table border=\"1\" class=\"dataframe\">\n",
              "  <thead>\n",
              "    <tr style=\"text-align: right;\">\n",
              "      <th></th>\n",
              "      <th>Actual</th>\n",
              "      <th>Predicted</th>\n",
              "    </tr>\n",
              "  </thead>\n",
              "  <tbody>\n",
              "    <tr>\n",
              "      <th>0</th>\n",
              "      <td>4.5</td>\n",
              "      <td>4.082387</td>\n",
              "    </tr>\n",
              "    <tr>\n",
              "      <th>1</th>\n",
              "      <td>3.0</td>\n",
              "      <td>3.668957</td>\n",
              "    </tr>\n",
              "    <tr>\n",
              "      <th>2</th>\n",
              "      <td>4.5</td>\n",
              "      <td>4.552275</td>\n",
              "    </tr>\n",
              "    <tr>\n",
              "      <th>3</th>\n",
              "      <td>4.0</td>\n",
              "      <td>4.134475</td>\n",
              "    </tr>\n",
              "    <tr>\n",
              "      <th>4</th>\n",
              "      <td>3.0</td>\n",
              "      <td>3.811682</td>\n",
              "    </tr>\n",
              "    <tr>\n",
              "      <th>5</th>\n",
              "      <td>3.0</td>\n",
              "      <td>4.372706</td>\n",
              "    </tr>\n",
              "    <tr>\n",
              "      <th>6</th>\n",
              "      <td>4.5</td>\n",
              "      <td>4.262579</td>\n",
              "    </tr>\n",
              "    <tr>\n",
              "      <th>7</th>\n",
              "      <td>4.0</td>\n",
              "      <td>4.270557</td>\n",
              "    </tr>\n",
              "    <tr>\n",
              "      <th>8</th>\n",
              "      <td>4.5</td>\n",
              "      <td>4.492755</td>\n",
              "    </tr>\n",
              "    <tr>\n",
              "      <th>9</th>\n",
              "      <td>5.0</td>\n",
              "      <td>4.259923</td>\n",
              "    </tr>\n",
              "  </tbody>\n",
              "</table>\n",
              "</div>"
            ],
            "text/plain": [
              "   Actual  Predicted\n",
              "0     4.5   4.082387\n",
              "1     3.0   3.668957\n",
              "2     4.5   4.552275\n",
              "3     4.0   4.134475\n",
              "4     3.0   3.811682\n",
              "5     3.0   4.372706\n",
              "6     4.5   4.262579\n",
              "7     4.0   4.270557\n",
              "8     4.5   4.492755\n",
              "9     5.0   4.259923"
            ]
          },
          "metadata": {
            "tags": []
          },
          "execution_count": 46
        }
      ]
    },
    {
      "cell_type": "code",
      "metadata": {
        "id": "XA-yCAx2iAm7",
        "colab_type": "code",
        "colab": {
          "base_uri": "https://localhost:8080/",
          "height": 614
        },
        "outputId": "2578b186-d19c-4172-9a07-08fed17071f4"
      },
      "source": [
        "df1 = error_frame[:20]\n",
        "df1.plot(kind='bar',figsize=(24,10))\n",
        "plt.grid(which='major', linestyle='-', linewidth='0.5', color='green')\n",
        "plt.grid(which='minor', linestyle=':', linewidth='0.5', color='black')\n",
        "plt.show()"
      ],
      "execution_count": 47,
      "outputs": [
        {
          "output_type": "display_data",
          "data": {
            "image/png": "[encoded data removed]",
            "text/plain": [
              "<Figure size 1728x720 with 1 Axes>"
            ]
          },
          "metadata": {
            "tags": []
          }
        }
      ]
    },
    {
      "cell_type": "code",
      "metadata": {
        "id": "AV2oYfDLiDKg",
        "colab_type": "code",
        "colab": {
          "base_uri": "https://localhost:8080/",
          "height": 312
        },
        "outputId": "32834db5-a8b9-48d1-8faa-ab460bd4b41b"
      },
      "source": [
        "ax = xgb.plot_importance(xgr_best, max_num_features=10)\n",
        "plt.figure(figsize=(15,25))\n",
        "plt.show()"
      ],
      "execution_count": 48,
      "outputs": [
        {
          "output_type": "display_data",
          "data": {
            "image/png": "[encoded data removed]",
            "text/plain": [
              "<Figure size 432x288 with 1 Axes>"
            ]
          },
          "metadata": {
            "tags": []
          }
        },
        {
          "output_type": "display_data",
          "data": {
            "text/plain": [
              "<Figure size 1080x1800 with 0 Axes>"
            ]
          },
          "metadata": {
            "tags": []
          }
        }
      ]
    },
    {
      "cell_type": "markdown",
      "metadata": {
        "id": "_mfUh9VpiI6l",
        "colab_type": "text"
      },
      "source": [
        "Let's look at the most important features. Seems a few features that we inserted turned out to be quite useful - Current minus Original and Description length.\n",
        "\n",
        "Overall, the linear regression models depends a lot on the user ratings.\n",
        "\n",
        "In case you are curious about how this feature importance score is obtained (F-score) in XGBoost, these are simply the number of times was this variable split on in all XGBoost trees.\n",
        "\n",
        "Stop commenting here if you want to skip the hyperoptimization step.\n",
        "If you want to look at the feature importances and you haven't done hyperoptimization, you can uncomment the following line to look at it."
      ]
    },
    {
      "cell_type": "markdown",
      "metadata": {
        "id": "noW1rJCOiPkJ",
        "colab_type": "text"
      },
      "source": [
        "### H2O AutoML\n",
        "From H2O's blog:\n",
        "\n",
        "Automated machine learning (AutoML) is the process of automating the end-to-end process of applying machine learning to real-world problems. AutoML tends to automate the maximum number of steps in an ML pipeline — with a minimum amount of human effort — without compromising the model’s performance.\n",
        "\n",
        "We don't have to do most of the things in AutoML. Just let it run for a predetermined time, and it will output with (in most cases) an ensembled model that does a very good job of predicting.\n",
        "\n",
        "Import the h2o library. We will have to initialize the h2o cluster. Since Kaggle kernels are 16GB RAM, I have decided to go with a maximum memory size of 11GB. This will change depending on your machine."
      ]
    },
    {
      "cell_type": "code",
      "metadata": {
        "id": "5cAa-kDNiFJ0",
        "colab_type": "code",
        "colab": {
          "base_uri": "https://localhost:8080/",
          "height": 562
        },
        "outputId": "ef54dfc4-f401-4b1c-b378-8d8a52ee4b61"
      },
      "source": [
        "import h2o\n",
        "from h2o.automl import H2OAutoML\n",
        "h2o.init(max_mem_size='11G')"
      ],
      "execution_count": 52,
      "outputs": [
        {
          "output_type": "stream",
          "text": [
            "Checking whether there is an H2O instance running at http://localhost:54321 ..... not found.\n",
            "Attempting to start a local H2O server...\n",
            "  Java Version: openjdk version \"11.0.4\" 2019-07-16; OpenJDK Runtime Environment (build 11.0.4+11-post-Ubuntu-1ubuntu218.04.3); OpenJDK 64-Bit Server VM (build 11.0.4+11-post-Ubuntu-1ubuntu218.04.3, mixed mode, sharing)\n",
            "  Starting server from /usr/local/lib/python3.6/dist-packages/h2o/backend/bin/h2o.jar\n",
            "  Ice root: /tmp/tmpf83tjpax\n",
            "  JVM stdout: /tmp/tmpf83tjpax/h2o_unknownUser_started_from_python.out\n",
            "  JVM stderr: /tmp/tmpf83tjpax/h2o_unknownUser_started_from_python.err\n",
            "  Server is running at http://127.0.0.1:54321\n",
            "Connecting to H2O server at http://127.0.0.1:54321 ... successful.\n"
          ],
          "name": "stdout"
        },
        {
          "output_type": "display_data",
          "data": {
            "text/html": [
              "<div style=\"overflow:auto\"><table style=\"width:50%\"><tr><td>H2O cluster uptime:</td>\n",
              "<td>02 secs</td></tr>\n",
              "<tr><td>H2O cluster timezone:</td>\n",
              "<td>Etc/UTC</td></tr>\n",
              "<tr><td>H2O data parsing timezone:</td>\n",
              "<td>UTC</td></tr>\n",
              "<tr><td>H2O cluster version:</td>\n",
              "<td>3.26.0.11</td></tr>\n",
              "<tr><td>H2O cluster version age:</td>\n",
              "<td>6 days </td></tr>\n",
              "<tr><td>H2O cluster name:</td>\n",
              "<td>H2O_from_python_unknownUser_gt3snz</td></tr>\n",
              "<tr><td>H2O cluster total nodes:</td>\n",
              "<td>1</td></tr>\n",
              "<tr><td>H2O cluster free memory:</td>\n",
              "<td>11 Gb</td></tr>\n",
              "<tr><td>H2O cluster total cores:</td>\n",
              "<td>2</td></tr>\n",
              "<tr><td>H2O cluster allowed cores:</td>\n",
              "<td>2</td></tr>\n",
              "<tr><td>H2O cluster status:</td>\n",
              "<td>accepting new members, healthy</td></tr>\n",
              "<tr><td>H2O connection url:</td>\n",
              "<td>http://127.0.0.1:54321</td></tr>\n",
              "<tr><td>H2O connection proxy:</td>\n",
              "<td>{'http': None, 'https': None}</td></tr>\n",
              "<tr><td>H2O internal security:</td>\n",
              "<td>False</td></tr>\n",
              "<tr><td>H2O API Extensions:</td>\n",
              "<td>Amazon S3, XGBoost, Algos, AutoML, Core V3, TargetEncoder, Core V4</td></tr>\n",
              "<tr><td>Python version:</td>\n",
              "<td>3.6.9 final</td></tr></table></div>"
            ],
            "text/plain": [
              "--------------------------  ------------------------------------------------------------------\n",
              "H2O cluster uptime:         02 secs\n",
              "H2O cluster timezone:       Etc/UTC\n",
              "H2O data parsing timezone:  UTC\n",
              "H2O cluster version:        3.26.0.11\n",
              "H2O cluster version age:    6 days\n",
              "H2O cluster name:           H2O_from_python_unknownUser_gt3snz\n",
              "H2O cluster total nodes:    1\n",
              "H2O cluster free memory:    11 Gb\n",
              "H2O cluster total cores:    2\n",
              "H2O cluster allowed cores:  2\n",
              "H2O cluster status:         accepting new members, healthy\n",
              "H2O connection url:         http://127.0.0.1:54321\n",
              "H2O connection proxy:       {'http': None, 'https': None}\n",
              "H2O internal security:      False\n",
              "H2O API Extensions:         Amazon S3, XGBoost, Algos, AutoML, Core V3, TargetEncoder, Core V4\n",
              "Python version:             3.6.9 final\n",
              "--------------------------  ------------------------------------------------------------------"
            ]
          },
          "metadata": {
            "tags": []
          }
        }
      ]
    },
    {
      "cell_type": "markdown",
      "metadata": {
        "id": "anr3YBRqjCVD",
        "colab_type": "text"
      },
      "source": [
        "Instead of fitting to X_train and y_train like sklearn's fit/predict method, H2O needs to be provided with a H2OFrame (similar to pandas DataFrame but for H2O). In that, the X equivalent to sklearn's y is the column names used for training, and the y equivalent to sklearn's y is the column name used to predict (that is, our target)."
      ]
    },
    {
      "cell_type": "code",
      "metadata": {
        "id": "UCgvbGbFiUX7",
        "colab_type": "code",
        "colab": {
          "base_uri": "https://localhost:8080/",
          "height": 51
        },
        "outputId": "d64d3fa3-c5a5-49b7-9436-a9daf446459e"
      },
      "source": [
        "X_train['target'] = y_train\n",
        "h2o_train = h2o.H2OFrame(X_train)\n",
        "\n",
        "X_test['target'] = y_test\n",
        "h2o_test = h2o.H2OFrame(X_test)"
      ],
      "execution_count": 53,
      "outputs": [
        {
          "output_type": "stream",
          "text": [
            "Parse progress: |█████████████████████████████████████████████████████████| 100%\n",
            "Parse progress: |█████████████████████████████████████████████████████████| 100%\n"
          ],
          "name": "stdout"
        }
      ]
    },
    {
      "cell_type": "code",
      "metadata": {
        "id": "Q-9-m2DkjN1-",
        "colab_type": "code",
        "colab": {
          "base_uri": "https://localhost:8080/",
          "height": 321
        },
        "outputId": "a9aa2441-b390-4731-cddc-a2da3f90c980"
      },
      "source": [
        "h2o_train.head()"
      ],
      "execution_count": 54,
      "outputs": [
        {
          "output_type": "display_data",
          "data": {
            "text/html": [
              "<table>\n",
              "<thead>\n",
              "<tr><th style=\"text-align: right;\">  User Rating Count</th><th style=\"text-align: right;\">  Price</th><th style=\"text-align: right;\">  Developer</th><th style=\"text-align: right;\">  Age Rating</th><th style=\"text-align: right;\">       Size</th><th style=\"text-align: right;\">  Primary Genre</th><th style=\"text-align: right;\">  Original Release Date</th><th style=\"text-align: right;\">  Current Version Release Date</th><th style=\"text-align: right;\">  Action</th><th style=\"text-align: right;\">  Adventure</th><th style=\"text-align: right;\">  Board</th><th style=\"text-align: right;\">  Books</th><th style=\"text-align: right;\">  Business</th><th style=\"text-align: right;\">  Card</th><th style=\"text-align: right;\">  Casino</th><th style=\"text-align: right;\">  Casual</th><th style=\"text-align: right;\">  Education</th><th style=\"text-align: right;\">  Entertainment</th><th style=\"text-align: right;\">  Family</th><th style=\"text-align: right;\">  Finance</th><th style=\"text-align: right;\">  Food & Drink</th><th style=\"text-align: right;\">  Games</th><th style=\"text-align: right;\">  Health & Fitness</th><th style=\"text-align: right;\">  Lifestyle</th><th style=\"text-align: right;\">  Magazines & Newspapers</th><th style=\"text-align: right;\">  Medical</th><th style=\"text-align: right;\">  Music</th><th style=\"text-align: right;\">  Navigation</th><th style=\"text-align: right;\">  News</th><th style=\"text-align: right;\">  Photo & Video</th><th style=\"text-align: right;\">  Productivity</th><th style=\"text-align: right;\">  Puzzle</th><th style=\"text-align: right;\">  Racing</th><th style=\"text-align: right;\">  Reference</th><th style=\"text-align: right;\">  Role Playing</th><th style=\"text-align: right;\">  Simulation</th><th style=\"text-align: right;\">  Social Networking</th><th style=\"text-align: right;\">  Sports</th><th style=\"text-align: right;\">  Strategy</th><th style=\"text-align: right;\">  Travel</th><th style=\"text-align: right;\">  Trivia</th><th style=\"text-align: right;\">  Utilities</th><th style=\"text-align: right;\">  Word</th><th style=\"text-align: right;\">  0</th><th style=\"text-align: right;\">  0.0</th><th style=\"text-align: right;\">  0.99</th><th style=\"text-align: right;\">  1.49</th><th style=\"text-align: right;\">  1.99</th><th style=\"text-align: right;\">  10.99</th><th style=\"text-align: right;\">  109.99</th><th style=\"text-align: right;\">  11.99</th><th style=\"text-align: right;\">  119.99</th><th style=\"text-align: right;\">  12.99</th><th style=\"text-align: right;\">  129.99</th><th style=\"text-align: right;\">  13.99</th><th style=\"text-align: right;\">  139.99</th><th style=\"text-align: right;\">  14.99</th><th style=\"text-align: right;\">  15.99</th><th style=\"text-align: right;\">  16.99</th><th style=\"text-align: right;\">  169.99</th><th style=\"text-align: right;\">  17.99</th><th style=\"text-align: right;\">  18.99</th><th style=\"text-align: right;\">  19.49</th><th style=\"text-align: right;\">  19.99</th><th style=\"text-align: right;\">  199.99</th><th style=\"text-align: right;\">  2.49</th><th style=\"text-align: right;\">  2.99</th><th style=\"text-align: right;\">  20.99</th><th style=\"text-align: right;\">  21.99</th><th style=\"text-align: right;\">  22.99</th><th style=\"text-align: right;\">  23.49</th><th style=\"text-align: right;\">  23.99</th><th style=\"text-align: right;\">  24.99</th><th style=\"text-align: right;\">  25.99</th><th style=\"text-align: right;\">  26.99</th><th style=\"text-align: right;\">  27.99</th><th style=\"text-align: right;\">  28.99</th><th style=\"text-align: right;\">  29.99</th><th style=\"text-align: right;\">  3.49</th><th style=\"text-align: right;\">  3.99</th><th style=\"text-align: right;\">  30.99</th><th style=\"text-align: right;\">  31.99</th><th style=\"text-align: right;\">  32.99</th><th style=\"text-align: right;\">  33.99</th><th style=\"text-align: right;\">  34.99</th><th style=\"text-align: right;\">  35.99</th><th style=\"text-align: right;\">  36.99</th><th style=\"text-align: right;\">  37.99</th><th style=\"text-align: right;\">  38.99</th><th style=\"text-align: right;\">  39.99</th><th style=\"text-align: right;\">  4.49</th><th style=\"text-align: right;\">  4.99</th><th style=\"text-align: right;\">  40.99</th><th style=\"text-align: right;\">  41.99</th><th style=\"text-align: right;\">  43.99</th><th style=\"text-align: right;\">  44.99</th><th style=\"text-align: right;\">  45.99</th><th style=\"text-align: right;\">  46.99</th><th style=\"text-align: right;\">  47.99</th><th style=\"text-align: right;\">  48.99</th><th style=\"text-align: right;\">  49.99</th><th style=\"text-align: right;\">  5.49</th><th style=\"text-align: right;\">  5.99</th><th style=\"text-align: right;\">  54.99</th><th style=\"text-align: right;\">  59.99</th><th style=\"text-align: right;\">  6.99</th><th style=\"text-align: right;\">  64.99</th><th style=\"text-align: right;\">  69.99</th><th style=\"text-align: right;\">  7.49</th><th style=\"text-align: right;\">  7.99</th><th style=\"text-align: right;\">  74.99</th><th style=\"text-align: right;\">  79.99</th><th style=\"text-align: right;\">  8.49</th><th style=\"text-align: right;\">  8.99</th><th style=\"text-align: right;\">  84.99</th><th style=\"text-align: right;\">  89.99</th><th style=\"text-align: right;\">  9.49</th><th style=\"text-align: right;\">  9.99</th><th style=\"text-align: right;\">  94.99</th><th style=\"text-align: right;\">  99.99</th><th style=\"text-align: right;\">  desc_lengths</th><th style=\"text-align: right;\">  Current minus Original</th><th style=\"text-align: right;\">  target</th></tr>\n",
              "</thead>\n",
              "<tbody>\n",
              "<tr><td style=\"text-align: right;\">                 33</td><td style=\"text-align: right;\">      0</td><td style=\"text-align: right;\">        520</td><td style=\"text-align: right;\">           9</td><td style=\"text-align: right;\">2.47071e+07</td><td style=\"text-align: right;\">              5</td><td style=\"text-align: right;\">                   1841</td><td style=\"text-align: right;\">                          1841</td><td style=\"text-align: right;\">       1</td><td style=\"text-align: right;\">          0</td><td style=\"text-align: right;\">      0</td><td style=\"text-align: right;\">      0</td><td style=\"text-align: right;\">         0</td><td style=\"text-align: right;\">     0</td><td style=\"text-align: right;\">       0</td><td style=\"text-align: right;\">       0</td><td style=\"text-align: right;\">          0</td><td style=\"text-align: right;\">              1</td><td style=\"text-align: right;\">       0</td><td style=\"text-align: right;\">        0</td><td style=\"text-align: right;\">             0</td><td style=\"text-align: right;\">      1</td><td style=\"text-align: right;\">                 0</td><td style=\"text-align: right;\">          0</td><td style=\"text-align: right;\">                       0</td><td style=\"text-align: right;\">        0</td><td style=\"text-align: right;\">      0</td><td style=\"text-align: right;\">           0</td><td style=\"text-align: right;\">     0</td><td style=\"text-align: right;\">              0</td><td style=\"text-align: right;\">             0</td><td style=\"text-align: right;\">       0</td><td style=\"text-align: right;\">       0</td><td style=\"text-align: right;\">          0</td><td style=\"text-align: right;\">             0</td><td style=\"text-align: right;\">           0</td><td style=\"text-align: right;\">                  0</td><td style=\"text-align: right;\">       0</td><td style=\"text-align: right;\">         1</td><td style=\"text-align: right;\">       0</td><td style=\"text-align: right;\">       0</td><td style=\"text-align: right;\">          0</td><td style=\"text-align: right;\">     0</td><td style=\"text-align: right;\">  0</td><td style=\"text-align: right;\">    0</td><td style=\"text-align: right;\">     1</td><td style=\"text-align: right;\">     0</td><td style=\"text-align: right;\">     0</td><td style=\"text-align: right;\">      0</td><td style=\"text-align: right;\">       0</td><td style=\"text-align: right;\">      0</td><td style=\"text-align: right;\">       0</td><td style=\"text-align: right;\">      0</td><td style=\"text-align: right;\">       0</td><td style=\"text-align: right;\">      0</td><td style=\"text-align: right;\">       0</td><td style=\"text-align: right;\">      0</td><td style=\"text-align: right;\">      0</td><td style=\"text-align: right;\">      0</td><td style=\"text-align: right;\">       0</td><td style=\"text-align: right;\">      0</td><td style=\"text-align: right;\">      0</td><td style=\"text-align: right;\">      0</td><td style=\"text-align: right;\">      0</td><td style=\"text-align: right;\">       0</td><td style=\"text-align: right;\">     0</td><td style=\"text-align: right;\">     1</td><td style=\"text-align: right;\">      0</td><td style=\"text-align: right;\">      0</td><td style=\"text-align: right;\">      0</td><td style=\"text-align: right;\">      0</td><td style=\"text-align: right;\">      0</td><td style=\"text-align: right;\">      0</td><td style=\"text-align: right;\">      0</td><td style=\"text-align: right;\">      0</td><td style=\"text-align: right;\">      0</td><td style=\"text-align: right;\">      0</td><td style=\"text-align: right;\">      0</td><td style=\"text-align: right;\">     0</td><td style=\"text-align: right;\">     1</td><td style=\"text-align: right;\">      0</td><td style=\"text-align: right;\">      0</td><td style=\"text-align: right;\">      0</td><td style=\"text-align: right;\">      0</td><td style=\"text-align: right;\">      0</td><td style=\"text-align: right;\">      0</td><td style=\"text-align: right;\">      0</td><td style=\"text-align: right;\">      0</td><td style=\"text-align: right;\">      0</td><td style=\"text-align: right;\">      0</td><td style=\"text-align: right;\">     0</td><td style=\"text-align: right;\">     1</td><td style=\"text-align: right;\">      0</td><td style=\"text-align: right;\">      0</td><td style=\"text-align: right;\">      0</td><td style=\"text-align: right;\">      0</td><td style=\"text-align: right;\">      0</td><td style=\"text-align: right;\">      0</td><td style=\"text-align: right;\">      0</td><td style=\"text-align: right;\">      0</td><td style=\"text-align: right;\">      0</td><td style=\"text-align: right;\">     0</td><td style=\"text-align: right;\">     0</td><td style=\"text-align: right;\">      0</td><td style=\"text-align: right;\">      0</td><td style=\"text-align: right;\">     0</td><td style=\"text-align: right;\">      0</td><td style=\"text-align: right;\">      0</td><td style=\"text-align: right;\">     0</td><td style=\"text-align: right;\">     0</td><td style=\"text-align: right;\">      0</td><td style=\"text-align: right;\">      0</td><td style=\"text-align: right;\">     0</td><td style=\"text-align: right;\">     0</td><td style=\"text-align: right;\">      0</td><td style=\"text-align: right;\">      0</td><td style=\"text-align: right;\">     0</td><td style=\"text-align: right;\">     0</td><td style=\"text-align: right;\">      0</td><td style=\"text-align: right;\">      0</td><td style=\"text-align: right;\">           296</td><td style=\"text-align: right;\">                       0</td><td style=\"text-align: right;\">     4.5</td></tr>\n",
              "<tr><td style=\"text-align: right;\">                312</td><td style=\"text-align: right;\">      0</td><td style=\"text-align: right;\">       2282</td><td style=\"text-align: right;\">           4</td><td style=\"text-align: right;\">1.23321e+08</td><td style=\"text-align: right;\">              5</td><td style=\"text-align: right;\">                    203</td><td style=\"text-align: right;\">                           -14</td><td style=\"text-align: right;\">       0</td><td style=\"text-align: right;\">          0</td><td style=\"text-align: right;\">      1</td><td style=\"text-align: right;\">      0</td><td style=\"text-align: right;\">         0</td><td style=\"text-align: right;\">     0</td><td style=\"text-align: right;\">       0</td><td style=\"text-align: right;\">       0</td><td style=\"text-align: right;\">          0</td><td style=\"text-align: right;\">              1</td><td style=\"text-align: right;\">       0</td><td style=\"text-align: right;\">        0</td><td style=\"text-align: right;\">             0</td><td style=\"text-align: right;\">      1</td><td style=\"text-align: right;\">                 0</td><td style=\"text-align: right;\">          0</td><td style=\"text-align: right;\">                       0</td><td style=\"text-align: right;\">        0</td><td style=\"text-align: right;\">      0</td><td style=\"text-align: right;\">           0</td><td style=\"text-align: right;\">     0</td><td style=\"text-align: right;\">              0</td><td style=\"text-align: right;\">             0</td><td style=\"text-align: right;\">       0</td><td style=\"text-align: right;\">       0</td><td style=\"text-align: right;\">          0</td><td style=\"text-align: right;\">             0</td><td style=\"text-align: right;\">           0</td><td style=\"text-align: right;\">                  0</td><td style=\"text-align: right;\">       0</td><td style=\"text-align: right;\">         1</td><td style=\"text-align: right;\">       0</td><td style=\"text-align: right;\">       0</td><td style=\"text-align: right;\">          0</td><td style=\"text-align: right;\">     0</td><td style=\"text-align: right;\">  0</td><td style=\"text-align: right;\">    0</td><td style=\"text-align: right;\">     0</td><td style=\"text-align: right;\">     0</td><td style=\"text-align: right;\">     1</td><td style=\"text-align: right;\">      0</td><td style=\"text-align: right;\">       0</td><td style=\"text-align: right;\">      0</td><td style=\"text-align: right;\">       0</td><td style=\"text-align: right;\">      0</td><td style=\"text-align: right;\">       0</td><td style=\"text-align: right;\">      0</td><td style=\"text-align: right;\">       0</td><td style=\"text-align: right;\">      0</td><td style=\"text-align: right;\">      0</td><td style=\"text-align: right;\">      0</td><td style=\"text-align: right;\">       0</td><td style=\"text-align: right;\">      0</td><td style=\"text-align: right;\">      0</td><td style=\"text-align: right;\">      0</td><td style=\"text-align: right;\">      1</td><td style=\"text-align: right;\">       0</td><td style=\"text-align: right;\">     0</td><td style=\"text-align: right;\">     0</td><td style=\"text-align: right;\">      0</td><td style=\"text-align: right;\">      0</td><td style=\"text-align: right;\">      0</td><td style=\"text-align: right;\">      0</td><td style=\"text-align: right;\">      0</td><td style=\"text-align: right;\">      0</td><td style=\"text-align: right;\">      0</td><td style=\"text-align: right;\">      0</td><td style=\"text-align: right;\">      0</td><td style=\"text-align: right;\">      0</td><td style=\"text-align: right;\">      0</td><td style=\"text-align: right;\">     0</td><td style=\"text-align: right;\">     1</td><td style=\"text-align: right;\">      0</td><td style=\"text-align: right;\">      0</td><td style=\"text-align: right;\">      0</td><td style=\"text-align: right;\">      0</td><td style=\"text-align: right;\">      0</td><td style=\"text-align: right;\">      0</td><td style=\"text-align: right;\">      0</td><td style=\"text-align: right;\">      0</td><td style=\"text-align: right;\">      0</td><td style=\"text-align: right;\">      0</td><td style=\"text-align: right;\">     0</td><td style=\"text-align: right;\">     1</td><td style=\"text-align: right;\">      0</td><td style=\"text-align: right;\">      0</td><td style=\"text-align: right;\">      0</td><td style=\"text-align: right;\">      0</td><td style=\"text-align: right;\">      0</td><td style=\"text-align: right;\">      0</td><td style=\"text-align: right;\">      0</td><td style=\"text-align: right;\">      0</td><td style=\"text-align: right;\">      0</td><td style=\"text-align: right;\">     0</td><td style=\"text-align: right;\">     0</td><td style=\"text-align: right;\">      0</td><td style=\"text-align: right;\">      0</td><td style=\"text-align: right;\">     0</td><td style=\"text-align: right;\">      0</td><td style=\"text-align: right;\">      0</td><td style=\"text-align: right;\">     0</td><td style=\"text-align: right;\">     1</td><td style=\"text-align: right;\">      0</td><td style=\"text-align: right;\">      0</td><td style=\"text-align: right;\">     0</td><td style=\"text-align: right;\">     0</td><td style=\"text-align: right;\">      0</td><td style=\"text-align: right;\">      0</td><td style=\"text-align: right;\">     0</td><td style=\"text-align: right;\">     0</td><td style=\"text-align: right;\">      0</td><td style=\"text-align: right;\">      0</td><td style=\"text-align: right;\">           835</td><td style=\"text-align: right;\">                     217</td><td style=\"text-align: right;\">     4.5</td></tr>\n",
              "<tr><td style=\"text-align: right;\">                648</td><td style=\"text-align: right;\">      0</td><td style=\"text-align: right;\">        797</td><td style=\"text-align: right;\">          12</td><td style=\"text-align: right;\">1.86685e+09</td><td style=\"text-align: right;\">              5</td><td style=\"text-align: right;\">                    -30</td><td style=\"text-align: right;\">                           -30</td><td style=\"text-align: right;\">       0</td><td style=\"text-align: right;\">          0</td><td style=\"text-align: right;\">      0</td><td style=\"text-align: right;\">      0</td><td style=\"text-align: right;\">         0</td><td style=\"text-align: right;\">     0</td><td style=\"text-align: right;\">       0</td><td style=\"text-align: right;\">       0</td><td style=\"text-align: right;\">          0</td><td style=\"text-align: right;\">              0</td><td style=\"text-align: right;\">       0</td><td style=\"text-align: right;\">        0</td><td style=\"text-align: right;\">             0</td><td style=\"text-align: right;\">      1</td><td style=\"text-align: right;\">                 0</td><td style=\"text-align: right;\">          0</td><td style=\"text-align: right;\">                       0</td><td style=\"text-align: right;\">        0</td><td style=\"text-align: right;\">      0</td><td style=\"text-align: right;\">           0</td><td style=\"text-align: right;\">     0</td><td style=\"text-align: right;\">              0</td><td style=\"text-align: right;\">             0</td><td style=\"text-align: right;\">       0</td><td style=\"text-align: right;\">       0</td><td style=\"text-align: right;\">          0</td><td style=\"text-align: right;\">             1</td><td style=\"text-align: right;\">           0</td><td style=\"text-align: right;\">                  0</td><td style=\"text-align: right;\">       0</td><td style=\"text-align: right;\">         1</td><td style=\"text-align: right;\">       0</td><td style=\"text-align: right;\">       0</td><td style=\"text-align: right;\">          0</td><td style=\"text-align: right;\">     0</td><td style=\"text-align: right;\">  0</td><td style=\"text-align: right;\">    0</td><td style=\"text-align: right;\">     0</td><td style=\"text-align: right;\">     0</td><td style=\"text-align: right;\">     0</td><td style=\"text-align: right;\">      0</td><td style=\"text-align: right;\">       0</td><td style=\"text-align: right;\">      0</td><td style=\"text-align: right;\">       0</td><td style=\"text-align: right;\">      0</td><td style=\"text-align: right;\">       0</td><td style=\"text-align: right;\">      0</td><td style=\"text-align: right;\">       0</td><td style=\"text-align: right;\">      0</td><td style=\"text-align: right;\">      0</td><td style=\"text-align: right;\">      0</td><td style=\"text-align: right;\">       0</td><td style=\"text-align: right;\">      0</td><td style=\"text-align: right;\">      0</td><td style=\"text-align: right;\">      0</td><td style=\"text-align: right;\">      0</td><td style=\"text-align: right;\">       0</td><td style=\"text-align: right;\">     0</td><td style=\"text-align: right;\">     1</td><td style=\"text-align: right;\">      0</td><td style=\"text-align: right;\">      0</td><td style=\"text-align: right;\">      0</td><td style=\"text-align: right;\">      0</td><td style=\"text-align: right;\">      0</td><td style=\"text-align: right;\">      0</td><td style=\"text-align: right;\">      0</td><td style=\"text-align: right;\">      0</td><td style=\"text-align: right;\">      0</td><td style=\"text-align: right;\">      0</td><td style=\"text-align: right;\">      1</td><td style=\"text-align: right;\">     0</td><td style=\"text-align: right;\">     0</td><td style=\"text-align: right;\">      0</td><td style=\"text-align: right;\">      0</td><td style=\"text-align: right;\">      0</td><td style=\"text-align: right;\">      0</td><td style=\"text-align: right;\">      0</td><td style=\"text-align: right;\">      0</td><td style=\"text-align: right;\">      0</td><td style=\"text-align: right;\">      0</td><td style=\"text-align: right;\">      0</td><td style=\"text-align: right;\">      0</td><td style=\"text-align: right;\">     0</td><td style=\"text-align: right;\">     1</td><td style=\"text-align: right;\">      0</td><td style=\"text-align: right;\">      0</td><td style=\"text-align: right;\">      0</td><td style=\"text-align: right;\">      0</td><td style=\"text-align: right;\">      0</td><td style=\"text-align: right;\">      0</td><td style=\"text-align: right;\">      0</td><td style=\"text-align: right;\">      0</td><td style=\"text-align: right;\">      0</td><td style=\"text-align: right;\">     0</td><td style=\"text-align: right;\">     0</td><td style=\"text-align: right;\">      0</td><td style=\"text-align: right;\">      0</td><td style=\"text-align: right;\">     0</td><td style=\"text-align: right;\">      0</td><td style=\"text-align: right;\">      0</td><td style=\"text-align: right;\">     0</td><td style=\"text-align: right;\">     0</td><td style=\"text-align: right;\">      0</td><td style=\"text-align: right;\">      0</td><td style=\"text-align: right;\">     0</td><td style=\"text-align: right;\">     0</td><td style=\"text-align: right;\">      0</td><td style=\"text-align: right;\">      0</td><td style=\"text-align: right;\">     0</td><td style=\"text-align: right;\">     1</td><td style=\"text-align: right;\">      0</td><td style=\"text-align: right;\">      1</td><td style=\"text-align: right;\">          1955</td><td style=\"text-align: right;\">                       0</td><td style=\"text-align: right;\">     4.5</td></tr>\n",
              "<tr><td style=\"text-align: right;\">                225</td><td style=\"text-align: right;\">      0</td><td style=\"text-align: right;\">       1572</td><td style=\"text-align: right;\">           9</td><td style=\"text-align: right;\">1.5554e+08 </td><td style=\"text-align: right;\">              5</td><td style=\"text-align: right;\">                    931</td><td style=\"text-align: right;\">                           817</td><td style=\"text-align: right;\">       0</td><td style=\"text-align: right;\">          0</td><td style=\"text-align: right;\">      0</td><td style=\"text-align: right;\">      0</td><td style=\"text-align: right;\">         0</td><td style=\"text-align: right;\">     0</td><td style=\"text-align: right;\">       0</td><td style=\"text-align: right;\">       0</td><td style=\"text-align: right;\">          0</td><td style=\"text-align: right;\">              1</td><td style=\"text-align: right;\">       1</td><td style=\"text-align: right;\">        0</td><td style=\"text-align: right;\">             0</td><td style=\"text-align: right;\">      1</td><td style=\"text-align: right;\">                 0</td><td style=\"text-align: right;\">          0</td><td style=\"text-align: right;\">                       0</td><td style=\"text-align: right;\">        0</td><td style=\"text-align: right;\">      0</td><td style=\"text-align: right;\">           0</td><td style=\"text-align: right;\">     0</td><td style=\"text-align: right;\">              0</td><td style=\"text-align: right;\">             0</td><td style=\"text-align: right;\">       0</td><td style=\"text-align: right;\">       0</td><td style=\"text-align: right;\">          0</td><td style=\"text-align: right;\">             0</td><td style=\"text-align: right;\">           0</td><td style=\"text-align: right;\">                  0</td><td style=\"text-align: right;\">       0</td><td style=\"text-align: right;\">         1</td><td style=\"text-align: right;\">       0</td><td style=\"text-align: right;\">       0</td><td style=\"text-align: right;\">          0</td><td style=\"text-align: right;\">     0</td><td style=\"text-align: right;\">  0</td><td style=\"text-align: right;\">    0</td><td style=\"text-align: right;\">     1</td><td style=\"text-align: right;\">     0</td><td style=\"text-align: right;\">     1</td><td style=\"text-align: right;\">      0</td><td style=\"text-align: right;\">       0</td><td style=\"text-align: right;\">      0</td><td style=\"text-align: right;\">       0</td><td style=\"text-align: right;\">      0</td><td style=\"text-align: right;\">       0</td><td style=\"text-align: right;\">      0</td><td style=\"text-align: right;\">       0</td><td style=\"text-align: right;\">      0</td><td style=\"text-align: right;\">      0</td><td style=\"text-align: right;\">      0</td><td style=\"text-align: right;\">       0</td><td style=\"text-align: right;\">      0</td><td style=\"text-align: right;\">      0</td><td style=\"text-align: right;\">      0</td><td style=\"text-align: right;\">      0</td><td style=\"text-align: right;\">       0</td><td style=\"text-align: right;\">     0</td><td style=\"text-align: right;\">     0</td><td style=\"text-align: right;\">      0</td><td style=\"text-align: right;\">      0</td><td style=\"text-align: right;\">      0</td><td style=\"text-align: right;\">      0</td><td style=\"text-align: right;\">      0</td><td style=\"text-align: right;\">      0</td><td style=\"text-align: right;\">      0</td><td style=\"text-align: right;\">      0</td><td style=\"text-align: right;\">      0</td><td style=\"text-align: right;\">      0</td><td style=\"text-align: right;\">      0</td><td style=\"text-align: right;\">     0</td><td style=\"text-align: right;\">     0</td><td style=\"text-align: right;\">      0</td><td style=\"text-align: right;\">      0</td><td style=\"text-align: right;\">      0</td><td style=\"text-align: right;\">      0</td><td style=\"text-align: right;\">      0</td><td style=\"text-align: right;\">      0</td><td style=\"text-align: right;\">      0</td><td style=\"text-align: right;\">      0</td><td style=\"text-align: right;\">      0</td><td style=\"text-align: right;\">      0</td><td style=\"text-align: right;\">     0</td><td style=\"text-align: right;\">     0</td><td style=\"text-align: right;\">      0</td><td style=\"text-align: right;\">      0</td><td style=\"text-align: right;\">      0</td><td style=\"text-align: right;\">      0</td><td style=\"text-align: right;\">      0</td><td style=\"text-align: right;\">      0</td><td style=\"text-align: right;\">      0</td><td style=\"text-align: right;\">      0</td><td style=\"text-align: right;\">      0</td><td style=\"text-align: right;\">     0</td><td style=\"text-align: right;\">     1</td><td style=\"text-align: right;\">      0</td><td style=\"text-align: right;\">      0</td><td style=\"text-align: right;\">     0</td><td style=\"text-align: right;\">      0</td><td style=\"text-align: right;\">      0</td><td style=\"text-align: right;\">     0</td><td style=\"text-align: right;\">     0</td><td style=\"text-align: right;\">      0</td><td style=\"text-align: right;\">      0</td><td style=\"text-align: right;\">     0</td><td style=\"text-align: right;\">     0</td><td style=\"text-align: right;\">      0</td><td style=\"text-align: right;\">      0</td><td style=\"text-align: right;\">     0</td><td style=\"text-align: right;\">     1</td><td style=\"text-align: right;\">      0</td><td style=\"text-align: right;\">      0</td><td style=\"text-align: right;\">          1373</td><td style=\"text-align: right;\">                     114</td><td style=\"text-align: right;\">     4.5</td></tr>\n",
              "<tr><td style=\"text-align: right;\">                 15</td><td style=\"text-align: right;\">      0</td><td style=\"text-align: right;\">       2419</td><td style=\"text-align: right;\">          17</td><td style=\"text-align: right;\">9.58996e+08</td><td style=\"text-align: right;\">              5</td><td style=\"text-align: right;\">                   2044</td><td style=\"text-align: right;\">                          2035</td><td style=\"text-align: right;\">       1</td><td style=\"text-align: right;\">          0</td><td style=\"text-align: right;\">      0</td><td style=\"text-align: right;\">      0</td><td style=\"text-align: right;\">         0</td><td style=\"text-align: right;\">     0</td><td style=\"text-align: right;\">       0</td><td style=\"text-align: right;\">       0</td><td style=\"text-align: right;\">          0</td><td style=\"text-align: right;\">              0</td><td style=\"text-align: right;\">       0</td><td style=\"text-align: right;\">        0</td><td style=\"text-align: right;\">             0</td><td style=\"text-align: right;\">      1</td><td style=\"text-align: right;\">                 0</td><td style=\"text-align: right;\">          0</td><td style=\"text-align: right;\">                       0</td><td style=\"text-align: right;\">        0</td><td style=\"text-align: right;\">      0</td><td style=\"text-align: right;\">           0</td><td style=\"text-align: right;\">     0</td><td style=\"text-align: right;\">              0</td><td style=\"text-align: right;\">             0</td><td style=\"text-align: right;\">       0</td><td style=\"text-align: right;\">       0</td><td style=\"text-align: right;\">          0</td><td style=\"text-align: right;\">             0</td><td style=\"text-align: right;\">           0</td><td style=\"text-align: right;\">                  0</td><td style=\"text-align: right;\">       0</td><td style=\"text-align: right;\">         1</td><td style=\"text-align: right;\">       0</td><td style=\"text-align: right;\">       0</td><td style=\"text-align: right;\">          0</td><td style=\"text-align: right;\">     0</td><td style=\"text-align: right;\">  0</td><td style=\"text-align: right;\">    0</td><td style=\"text-align: right;\">     1</td><td style=\"text-align: right;\">     0</td><td style=\"text-align: right;\">     0</td><td style=\"text-align: right;\">      0</td><td style=\"text-align: right;\">       0</td><td style=\"text-align: right;\">      0</td><td style=\"text-align: right;\">       0</td><td style=\"text-align: right;\">      0</td><td style=\"text-align: right;\">       0</td><td style=\"text-align: right;\">      0</td><td style=\"text-align: right;\">       0</td><td style=\"text-align: right;\">      0</td><td style=\"text-align: right;\">      0</td><td style=\"text-align: right;\">      0</td><td style=\"text-align: right;\">       0</td><td style=\"text-align: right;\">      0</td><td style=\"text-align: right;\">      0</td><td style=\"text-align: right;\">      0</td><td style=\"text-align: right;\">      0</td><td style=\"text-align: right;\">       0</td><td style=\"text-align: right;\">     0</td><td style=\"text-align: right;\">     0</td><td style=\"text-align: right;\">      0</td><td style=\"text-align: right;\">      0</td><td style=\"text-align: right;\">      0</td><td style=\"text-align: right;\">      0</td><td style=\"text-align: right;\">      0</td><td style=\"text-align: right;\">      0</td><td style=\"text-align: right;\">      0</td><td style=\"text-align: right;\">      0</td><td style=\"text-align: right;\">      0</td><td style=\"text-align: right;\">      0</td><td style=\"text-align: right;\">      1</td><td style=\"text-align: right;\">     0</td><td style=\"text-align: right;\">     0</td><td style=\"text-align: right;\">      0</td><td style=\"text-align: right;\">      0</td><td style=\"text-align: right;\">      0</td><td style=\"text-align: right;\">      0</td><td style=\"text-align: right;\">      0</td><td style=\"text-align: right;\">      0</td><td style=\"text-align: right;\">      0</td><td style=\"text-align: right;\">      0</td><td style=\"text-align: right;\">      0</td><td style=\"text-align: right;\">      0</td><td style=\"text-align: right;\">     0</td><td style=\"text-align: right;\">     1</td><td style=\"text-align: right;\">      0</td><td style=\"text-align: right;\">      0</td><td style=\"text-align: right;\">      0</td><td style=\"text-align: right;\">      0</td><td style=\"text-align: right;\">      0</td><td style=\"text-align: right;\">      0</td><td style=\"text-align: right;\">      0</td><td style=\"text-align: right;\">      0</td><td style=\"text-align: right;\">      0</td><td style=\"text-align: right;\">     0</td><td style=\"text-align: right;\">     0</td><td style=\"text-align: right;\">      0</td><td style=\"text-align: right;\">      0</td><td style=\"text-align: right;\">     0</td><td style=\"text-align: right;\">      0</td><td style=\"text-align: right;\">      0</td><td style=\"text-align: right;\">     0</td><td style=\"text-align: right;\">     0</td><td style=\"text-align: right;\">      0</td><td style=\"text-align: right;\">      0</td><td style=\"text-align: right;\">     0</td><td style=\"text-align: right;\">     0</td><td style=\"text-align: right;\">      0</td><td style=\"text-align: right;\">      0</td><td style=\"text-align: right;\">     0</td><td style=\"text-align: right;\">     1</td><td style=\"text-align: right;\">      0</td><td style=\"text-align: right;\">      0</td><td style=\"text-align: right;\">          2138</td><td style=\"text-align: right;\">                       9</td><td style=\"text-align: right;\">     2.5</td></tr>\n",
              "<tr><td style=\"text-align: right;\">                109</td><td style=\"text-align: right;\">      0</td><td style=\"text-align: right;\">        474</td><td style=\"text-align: right;\">           4</td><td style=\"text-align: right;\">1.17941e+08</td><td style=\"text-align: right;\">              5</td><td style=\"text-align: right;\">                    982</td><td style=\"text-align: right;\">                           163</td><td style=\"text-align: right;\">       0</td><td style=\"text-align: right;\">          0</td><td style=\"text-align: right;\">      0</td><td style=\"text-align: right;\">      0</td><td style=\"text-align: right;\">         0</td><td style=\"text-align: right;\">     1</td><td style=\"text-align: right;\">       0</td><td style=\"text-align: right;\">       0</td><td style=\"text-align: right;\">          0</td><td style=\"text-align: right;\">              0</td><td style=\"text-align: right;\">       0</td><td style=\"text-align: right;\">        0</td><td style=\"text-align: right;\">             0</td><td style=\"text-align: right;\">      1</td><td style=\"text-align: right;\">                 0</td><td style=\"text-align: right;\">          0</td><td style=\"text-align: right;\">                       0</td><td style=\"text-align: right;\">        0</td><td style=\"text-align: right;\">      0</td><td style=\"text-align: right;\">           0</td><td style=\"text-align: right;\">     0</td><td style=\"text-align: right;\">              0</td><td style=\"text-align: right;\">             0</td><td style=\"text-align: right;\">       0</td><td style=\"text-align: right;\">       0</td><td style=\"text-align: right;\">          0</td><td style=\"text-align: right;\">             0</td><td style=\"text-align: right;\">           0</td><td style=\"text-align: right;\">                  0</td><td style=\"text-align: right;\">       0</td><td style=\"text-align: right;\">         1</td><td style=\"text-align: right;\">       0</td><td style=\"text-align: right;\">       0</td><td style=\"text-align: right;\">          0</td><td style=\"text-align: right;\">     0</td><td style=\"text-align: right;\">  0</td><td style=\"text-align: right;\">    0</td><td style=\"text-align: right;\">     0</td><td style=\"text-align: right;\">     0</td><td style=\"text-align: right;\">     0</td><td style=\"text-align: right;\">      0</td><td style=\"text-align: right;\">       0</td><td style=\"text-align: right;\">      0</td><td style=\"text-align: right;\">       0</td><td style=\"text-align: right;\">      0</td><td style=\"text-align: right;\">       0</td><td style=\"text-align: right;\">      0</td><td style=\"text-align: right;\">       0</td><td style=\"text-align: right;\">      0</td><td style=\"text-align: right;\">      0</td><td style=\"text-align: right;\">      0</td><td style=\"text-align: right;\">       0</td><td style=\"text-align: right;\">      0</td><td style=\"text-align: right;\">      0</td><td style=\"text-align: right;\">      0</td><td style=\"text-align: right;\">      0</td><td style=\"text-align: right;\">       0</td><td style=\"text-align: right;\">     0</td><td style=\"text-align: right;\">     1</td><td style=\"text-align: right;\">      0</td><td style=\"text-align: right;\">      0</td><td style=\"text-align: right;\">      0</td><td style=\"text-align: right;\">      0</td><td style=\"text-align: right;\">      0</td><td style=\"text-align: right;\">      0</td><td style=\"text-align: right;\">      0</td><td style=\"text-align: right;\">      0</td><td style=\"text-align: right;\">      0</td><td style=\"text-align: right;\">      0</td><td style=\"text-align: right;\">      0</td><td style=\"text-align: right;\">     0</td><td style=\"text-align: right;\">     0</td><td style=\"text-align: right;\">      0</td><td style=\"text-align: right;\">      0</td><td style=\"text-align: right;\">      0</td><td style=\"text-align: right;\">      0</td><td style=\"text-align: right;\">      0</td><td style=\"text-align: right;\">      0</td><td style=\"text-align: right;\">      0</td><td style=\"text-align: right;\">      0</td><td style=\"text-align: right;\">      0</td><td style=\"text-align: right;\">      0</td><td style=\"text-align: right;\">     0</td><td style=\"text-align: right;\">     0</td><td style=\"text-align: right;\">      0</td><td style=\"text-align: right;\">      0</td><td style=\"text-align: right;\">      0</td><td style=\"text-align: right;\">      0</td><td style=\"text-align: right;\">      0</td><td style=\"text-align: right;\">      0</td><td style=\"text-align: right;\">      0</td><td style=\"text-align: right;\">      0</td><td style=\"text-align: right;\">      0</td><td style=\"text-align: right;\">     0</td><td style=\"text-align: right;\">     0</td><td style=\"text-align: right;\">      0</td><td style=\"text-align: right;\">      0</td><td style=\"text-align: right;\">     0</td><td style=\"text-align: right;\">      0</td><td style=\"text-align: right;\">      0</td><td style=\"text-align: right;\">     0</td><td style=\"text-align: right;\">     0</td><td style=\"text-align: right;\">      0</td><td style=\"text-align: right;\">      0</td><td style=\"text-align: right;\">     0</td><td style=\"text-align: right;\">     0</td><td style=\"text-align: right;\">      0</td><td style=\"text-align: right;\">      0</td><td style=\"text-align: right;\">     0</td><td style=\"text-align: right;\">     0</td><td style=\"text-align: right;\">      0</td><td style=\"text-align: right;\">      0</td><td style=\"text-align: right;\">          1130</td><td style=\"text-align: right;\">                     819</td><td style=\"text-align: right;\">     4  </td></tr>\n",
              "<tr><td style=\"text-align: right;\">              23601</td><td style=\"text-align: right;\">      0</td><td style=\"text-align: right;\">        627</td><td style=\"text-align: right;\">          12</td><td style=\"text-align: right;\">1.09432e+09</td><td style=\"text-align: right;\">              5</td><td style=\"text-align: right;\">                    897</td><td style=\"text-align: right;\">                             8</td><td style=\"text-align: right;\">       1</td><td style=\"text-align: right;\">          0</td><td style=\"text-align: right;\">      0</td><td style=\"text-align: right;\">      0</td><td style=\"text-align: right;\">         0</td><td style=\"text-align: right;\">     0</td><td style=\"text-align: right;\">       0</td><td style=\"text-align: right;\">       0</td><td style=\"text-align: right;\">          0</td><td style=\"text-align: right;\">              0</td><td style=\"text-align: right;\">       0</td><td style=\"text-align: right;\">        0</td><td style=\"text-align: right;\">             0</td><td style=\"text-align: right;\">      1</td><td style=\"text-align: right;\">                 0</td><td style=\"text-align: right;\">          0</td><td style=\"text-align: right;\">                       0</td><td style=\"text-align: right;\">        0</td><td style=\"text-align: right;\">      0</td><td style=\"text-align: right;\">           0</td><td style=\"text-align: right;\">     0</td><td style=\"text-align: right;\">              0</td><td style=\"text-align: right;\">             0</td><td style=\"text-align: right;\">       0</td><td style=\"text-align: right;\">       0</td><td style=\"text-align: right;\">          0</td><td style=\"text-align: right;\">             0</td><td style=\"text-align: right;\">           0</td><td style=\"text-align: right;\">                  0</td><td style=\"text-align: right;\">       0</td><td style=\"text-align: right;\">         1</td><td style=\"text-align: right;\">       0</td><td style=\"text-align: right;\">       0</td><td style=\"text-align: right;\">          0</td><td style=\"text-align: right;\">     0</td><td style=\"text-align: right;\">  0</td><td style=\"text-align: right;\">    0</td><td style=\"text-align: right;\">     1</td><td style=\"text-align: right;\">     0</td><td style=\"text-align: right;\">     1</td><td style=\"text-align: right;\">      0</td><td style=\"text-align: right;\">       0</td><td style=\"text-align: right;\">      1</td><td style=\"text-align: right;\">       0</td><td style=\"text-align: right;\">      0</td><td style=\"text-align: right;\">       0</td><td style=\"text-align: right;\">      0</td><td style=\"text-align: right;\">       0</td><td style=\"text-align: right;\">      0</td><td style=\"text-align: right;\">      0</td><td style=\"text-align: right;\">      0</td><td style=\"text-align: right;\">       0</td><td style=\"text-align: right;\">      0</td><td style=\"text-align: right;\">      0</td><td style=\"text-align: right;\">      0</td><td style=\"text-align: right;\">      1</td><td style=\"text-align: right;\">       0</td><td style=\"text-align: right;\">     0</td><td style=\"text-align: right;\">     0</td><td style=\"text-align: right;\">      0</td><td style=\"text-align: right;\">      0</td><td style=\"text-align: right;\">      0</td><td style=\"text-align: right;\">      0</td><td style=\"text-align: right;\">      0</td><td style=\"text-align: right;\">      0</td><td style=\"text-align: right;\">      0</td><td style=\"text-align: right;\">      0</td><td style=\"text-align: right;\">      0</td><td style=\"text-align: right;\">      0</td><td style=\"text-align: right;\">      0</td><td style=\"text-align: right;\">     0</td><td style=\"text-align: right;\">     0</td><td style=\"text-align: right;\">      0</td><td style=\"text-align: right;\">      0</td><td style=\"text-align: right;\">      0</td><td style=\"text-align: right;\">      0</td><td style=\"text-align: right;\">      0</td><td style=\"text-align: right;\">      0</td><td style=\"text-align: right;\">      0</td><td style=\"text-align: right;\">      0</td><td style=\"text-align: right;\">      0</td><td style=\"text-align: right;\">      0</td><td style=\"text-align: right;\">     0</td><td style=\"text-align: right;\">     1</td><td style=\"text-align: right;\">      0</td><td style=\"text-align: right;\">      0</td><td style=\"text-align: right;\">      0</td><td style=\"text-align: right;\">      0</td><td style=\"text-align: right;\">      0</td><td style=\"text-align: right;\">      0</td><td style=\"text-align: right;\">      0</td><td style=\"text-align: right;\">      0</td><td style=\"text-align: right;\">      0</td><td style=\"text-align: right;\">     0</td><td style=\"text-align: right;\">     0</td><td style=\"text-align: right;\">      0</td><td style=\"text-align: right;\">      0</td><td style=\"text-align: right;\">     0</td><td style=\"text-align: right;\">      0</td><td style=\"text-align: right;\">      0</td><td style=\"text-align: right;\">     0</td><td style=\"text-align: right;\">     0</td><td style=\"text-align: right;\">      0</td><td style=\"text-align: right;\">      0</td><td style=\"text-align: right;\">     0</td><td style=\"text-align: right;\">     0</td><td style=\"text-align: right;\">      0</td><td style=\"text-align: right;\">      0</td><td style=\"text-align: right;\">     0</td><td style=\"text-align: right;\">     1</td><td style=\"text-align: right;\">      0</td><td style=\"text-align: right;\">      0</td><td style=\"text-align: right;\">          3558</td><td style=\"text-align: right;\">                     889</td><td style=\"text-align: right;\">     4.5</td></tr>\n",
              "<tr><td style=\"text-align: right;\">                 19</td><td style=\"text-align: right;\">      0</td><td style=\"text-align: right;\">       1216</td><td style=\"text-align: right;\">           4</td><td style=\"text-align: right;\">1.15736e+07</td><td style=\"text-align: right;\">              5</td><td style=\"text-align: right;\">                   2661</td><td style=\"text-align: right;\">                          2545</td><td style=\"text-align: right;\">       0</td><td style=\"text-align: right;\">          0</td><td style=\"text-align: right;\">      1</td><td style=\"text-align: right;\">      0</td><td style=\"text-align: right;\">         0</td><td style=\"text-align: right;\">     0</td><td style=\"text-align: right;\">       0</td><td style=\"text-align: right;\">       0</td><td style=\"text-align: right;\">          0</td><td style=\"text-align: right;\">              1</td><td style=\"text-align: right;\">       0</td><td style=\"text-align: right;\">        0</td><td style=\"text-align: right;\">             0</td><td style=\"text-align: right;\">      1</td><td style=\"text-align: right;\">                 0</td><td style=\"text-align: right;\">          0</td><td style=\"text-align: right;\">                       0</td><td style=\"text-align: right;\">        0</td><td style=\"text-align: right;\">      0</td><td style=\"text-align: right;\">           0</td><td style=\"text-align: right;\">     0</td><td style=\"text-align: right;\">              0</td><td style=\"text-align: right;\">             0</td><td style=\"text-align: right;\">       0</td><td style=\"text-align: right;\">       0</td><td style=\"text-align: right;\">          0</td><td style=\"text-align: right;\">             0</td><td style=\"text-align: right;\">           0</td><td style=\"text-align: right;\">                  0</td><td style=\"text-align: right;\">       0</td><td style=\"text-align: right;\">         1</td><td style=\"text-align: right;\">       0</td><td style=\"text-align: right;\">       0</td><td style=\"text-align: right;\">          0</td><td style=\"text-align: right;\">     0</td><td style=\"text-align: right;\">  0</td><td style=\"text-align: right;\">    0</td><td style=\"text-align: right;\">     1</td><td style=\"text-align: right;\">     0</td><td style=\"text-align: right;\">     0</td><td style=\"text-align: right;\">      0</td><td style=\"text-align: right;\">       0</td><td style=\"text-align: right;\">      0</td><td style=\"text-align: right;\">       0</td><td style=\"text-align: right;\">      0</td><td style=\"text-align: right;\">       0</td><td style=\"text-align: right;\">      0</td><td style=\"text-align: right;\">       0</td><td style=\"text-align: right;\">      0</td><td style=\"text-align: right;\">      0</td><td style=\"text-align: right;\">      0</td><td style=\"text-align: right;\">       0</td><td style=\"text-align: right;\">      0</td><td style=\"text-align: right;\">      0</td><td style=\"text-align: right;\">      0</td><td style=\"text-align: right;\">      0</td><td style=\"text-align: right;\">       0</td><td style=\"text-align: right;\">     0</td><td style=\"text-align: right;\">     0</td><td style=\"text-align: right;\">      0</td><td style=\"text-align: right;\">      0</td><td style=\"text-align: right;\">      0</td><td style=\"text-align: right;\">      0</td><td style=\"text-align: right;\">      0</td><td style=\"text-align: right;\">      0</td><td style=\"text-align: right;\">      0</td><td style=\"text-align: right;\">      0</td><td style=\"text-align: right;\">      0</td><td style=\"text-align: right;\">      0</td><td style=\"text-align: right;\">      0</td><td style=\"text-align: right;\">     0</td><td style=\"text-align: right;\">     0</td><td style=\"text-align: right;\">      0</td><td style=\"text-align: right;\">      0</td><td style=\"text-align: right;\">      0</td><td style=\"text-align: right;\">      0</td><td style=\"text-align: right;\">      0</td><td style=\"text-align: right;\">      0</td><td style=\"text-align: right;\">      0</td><td style=\"text-align: right;\">      0</td><td style=\"text-align: right;\">      0</td><td style=\"text-align: right;\">      0</td><td style=\"text-align: right;\">     0</td><td style=\"text-align: right;\">     0</td><td style=\"text-align: right;\">      0</td><td style=\"text-align: right;\">      0</td><td style=\"text-align: right;\">      0</td><td style=\"text-align: right;\">      0</td><td style=\"text-align: right;\">      0</td><td style=\"text-align: right;\">      0</td><td style=\"text-align: right;\">      0</td><td style=\"text-align: right;\">      0</td><td style=\"text-align: right;\">      0</td><td style=\"text-align: right;\">     0</td><td style=\"text-align: right;\">     0</td><td style=\"text-align: right;\">      0</td><td style=\"text-align: right;\">      0</td><td style=\"text-align: right;\">     0</td><td style=\"text-align: right;\">      0</td><td style=\"text-align: right;\">      0</td><td style=\"text-align: right;\">     0</td><td style=\"text-align: right;\">     0</td><td style=\"text-align: right;\">      0</td><td style=\"text-align: right;\">      0</td><td style=\"text-align: right;\">     0</td><td style=\"text-align: right;\">     0</td><td style=\"text-align: right;\">      0</td><td style=\"text-align: right;\">      0</td><td style=\"text-align: right;\">     0</td><td style=\"text-align: right;\">     0</td><td style=\"text-align: right;\">      0</td><td style=\"text-align: right;\">      0</td><td style=\"text-align: right;\">           824</td><td style=\"text-align: right;\">                     116</td><td style=\"text-align: right;\">     3.5</td></tr>\n",
              "<tr><td style=\"text-align: right;\">                 64</td><td style=\"text-align: right;\">      0</td><td style=\"text-align: right;\">        636</td><td style=\"text-align: right;\">           4</td><td style=\"text-align: right;\">1.12996e+08</td><td style=\"text-align: right;\">              5</td><td style=\"text-align: right;\">                   2395</td><td style=\"text-align: right;\">                          1999</td><td style=\"text-align: right;\">       0</td><td style=\"text-align: right;\">          0</td><td style=\"text-align: right;\">      0</td><td style=\"text-align: right;\">      0</td><td style=\"text-align: right;\">         0</td><td style=\"text-align: right;\">     0</td><td style=\"text-align: right;\">       0</td><td style=\"text-align: right;\">       0</td><td style=\"text-align: right;\">          0</td><td style=\"text-align: right;\">              1</td><td style=\"text-align: right;\">       0</td><td style=\"text-align: right;\">        0</td><td style=\"text-align: right;\">             0</td><td style=\"text-align: right;\">      1</td><td style=\"text-align: right;\">                 0</td><td style=\"text-align: right;\">          0</td><td style=\"text-align: right;\">                       0</td><td style=\"text-align: right;\">        0</td><td style=\"text-align: right;\">      0</td><td style=\"text-align: right;\">           0</td><td style=\"text-align: right;\">     0</td><td style=\"text-align: right;\">              0</td><td style=\"text-align: right;\">             0</td><td style=\"text-align: right;\">       1</td><td style=\"text-align: right;\">       0</td><td style=\"text-align: right;\">          0</td><td style=\"text-align: right;\">             0</td><td style=\"text-align: right;\">           0</td><td style=\"text-align: right;\">                  0</td><td style=\"text-align: right;\">       0</td><td style=\"text-align: right;\">         1</td><td style=\"text-align: right;\">       0</td><td style=\"text-align: right;\">       0</td><td style=\"text-align: right;\">          0</td><td style=\"text-align: right;\">     0</td><td style=\"text-align: right;\">  0</td><td style=\"text-align: right;\">    0</td><td style=\"text-align: right;\">     1</td><td style=\"text-align: right;\">     0</td><td style=\"text-align: right;\">     0</td><td style=\"text-align: right;\">      0</td><td style=\"text-align: right;\">       0</td><td style=\"text-align: right;\">      0</td><td style=\"text-align: right;\">       0</td><td style=\"text-align: right;\">      0</td><td style=\"text-align: right;\">       0</td><td style=\"text-align: right;\">      0</td><td style=\"text-align: right;\">       0</td><td style=\"text-align: right;\">      0</td><td style=\"text-align: right;\">      0</td><td style=\"text-align: right;\">      0</td><td style=\"text-align: right;\">       0</td><td style=\"text-align: right;\">      0</td><td style=\"text-align: right;\">      0</td><td style=\"text-align: right;\">      0</td><td style=\"text-align: right;\">      0</td><td style=\"text-align: right;\">       0</td><td style=\"text-align: right;\">     0</td><td style=\"text-align: right;\">     1</td><td style=\"text-align: right;\">      0</td><td style=\"text-align: right;\">      0</td><td style=\"text-align: right;\">      0</td><td style=\"text-align: right;\">      0</td><td style=\"text-align: right;\">      0</td><td style=\"text-align: right;\">      0</td><td style=\"text-align: right;\">      0</td><td style=\"text-align: right;\">      0</td><td style=\"text-align: right;\">      0</td><td style=\"text-align: right;\">      0</td><td style=\"text-align: right;\">      0</td><td style=\"text-align: right;\">     0</td><td style=\"text-align: right;\">     0</td><td style=\"text-align: right;\">      0</td><td style=\"text-align: right;\">      0</td><td style=\"text-align: right;\">      0</td><td style=\"text-align: right;\">      0</td><td style=\"text-align: right;\">      0</td><td style=\"text-align: right;\">      0</td><td style=\"text-align: right;\">      0</td><td style=\"text-align: right;\">      0</td><td style=\"text-align: right;\">      0</td><td style=\"text-align: right;\">      0</td><td style=\"text-align: right;\">     0</td><td style=\"text-align: right;\">     0</td><td style=\"text-align: right;\">      0</td><td style=\"text-align: right;\">      0</td><td style=\"text-align: right;\">      0</td><td style=\"text-align: right;\">      0</td><td style=\"text-align: right;\">      0</td><td style=\"text-align: right;\">      0</td><td style=\"text-align: right;\">      0</td><td style=\"text-align: right;\">      0</td><td style=\"text-align: right;\">      0</td><td style=\"text-align: right;\">     0</td><td style=\"text-align: right;\">     0</td><td style=\"text-align: right;\">      0</td><td style=\"text-align: right;\">      0</td><td style=\"text-align: right;\">     0</td><td style=\"text-align: right;\">      0</td><td style=\"text-align: right;\">      0</td><td style=\"text-align: right;\">     0</td><td style=\"text-align: right;\">     0</td><td style=\"text-align: right;\">      0</td><td style=\"text-align: right;\">      0</td><td style=\"text-align: right;\">     0</td><td style=\"text-align: right;\">     0</td><td style=\"text-align: right;\">      0</td><td style=\"text-align: right;\">      0</td><td style=\"text-align: right;\">     0</td><td style=\"text-align: right;\">     1</td><td style=\"text-align: right;\">      0</td><td style=\"text-align: right;\">      0</td><td style=\"text-align: right;\">           726</td><td style=\"text-align: right;\">                     396</td><td style=\"text-align: right;\">     4.5</td></tr>\n",
              "<tr><td style=\"text-align: right;\">                  5</td><td style=\"text-align: right;\">      0</td><td style=\"text-align: right;\">        593</td><td style=\"text-align: right;\">           9</td><td style=\"text-align: right;\">1.98899e+08</td><td style=\"text-align: right;\">              5</td><td style=\"text-align: right;\">                    813</td><td style=\"text-align: right;\">                           813</td><td style=\"text-align: right;\">       1</td><td style=\"text-align: right;\">          0</td><td style=\"text-align: right;\">      0</td><td style=\"text-align: right;\">      0</td><td style=\"text-align: right;\">         0</td><td style=\"text-align: right;\">     0</td><td style=\"text-align: right;\">       0</td><td style=\"text-align: right;\">       0</td><td style=\"text-align: right;\">          0</td><td style=\"text-align: right;\">              0</td><td style=\"text-align: right;\">       0</td><td style=\"text-align: right;\">        0</td><td style=\"text-align: right;\">             0</td><td style=\"text-align: right;\">      1</td><td style=\"text-align: right;\">                 0</td><td style=\"text-align: right;\">          0</td><td style=\"text-align: right;\">                       0</td><td style=\"text-align: right;\">        0</td><td style=\"text-align: right;\">      0</td><td style=\"text-align: right;\">           0</td><td style=\"text-align: right;\">     0</td><td style=\"text-align: right;\">              0</td><td style=\"text-align: right;\">             0</td><td style=\"text-align: right;\">       0</td><td style=\"text-align: right;\">       0</td><td style=\"text-align: right;\">          0</td><td style=\"text-align: right;\">             0</td><td style=\"text-align: right;\">           0</td><td style=\"text-align: right;\">                  0</td><td style=\"text-align: right;\">       0</td><td style=\"text-align: right;\">         1</td><td style=\"text-align: right;\">       0</td><td style=\"text-align: right;\">       0</td><td style=\"text-align: right;\">          0</td><td style=\"text-align: right;\">     0</td><td style=\"text-align: right;\">  0</td><td style=\"text-align: right;\">    0</td><td style=\"text-align: right;\">     0</td><td style=\"text-align: right;\">     0</td><td style=\"text-align: right;\">     1</td><td style=\"text-align: right;\">      0</td><td style=\"text-align: right;\">       0</td><td style=\"text-align: right;\">      0</td><td style=\"text-align: right;\">       0</td><td style=\"text-align: right;\">      0</td><td style=\"text-align: right;\">       0</td><td style=\"text-align: right;\">      0</td><td style=\"text-align: right;\">       0</td><td style=\"text-align: right;\">      0</td><td style=\"text-align: right;\">      0</td><td style=\"text-align: right;\">      0</td><td style=\"text-align: right;\">       0</td><td style=\"text-align: right;\">      0</td><td style=\"text-align: right;\">      0</td><td style=\"text-align: right;\">      0</td><td style=\"text-align: right;\">      1</td><td style=\"text-align: right;\">       0</td><td style=\"text-align: right;\">     0</td><td style=\"text-align: right;\">     0</td><td style=\"text-align: right;\">      0</td><td style=\"text-align: right;\">      0</td><td style=\"text-align: right;\">      0</td><td style=\"text-align: right;\">      0</td><td style=\"text-align: right;\">      0</td><td style=\"text-align: right;\">      0</td><td style=\"text-align: right;\">      0</td><td style=\"text-align: right;\">      0</td><td style=\"text-align: right;\">      0</td><td style=\"text-align: right;\">      0</td><td style=\"text-align: right;\">      0</td><td style=\"text-align: right;\">     0</td><td style=\"text-align: right;\">     0</td><td style=\"text-align: right;\">      0</td><td style=\"text-align: right;\">      0</td><td style=\"text-align: right;\">      0</td><td style=\"text-align: right;\">      0</td><td style=\"text-align: right;\">      0</td><td style=\"text-align: right;\">      0</td><td style=\"text-align: right;\">      0</td><td style=\"text-align: right;\">      0</td><td style=\"text-align: right;\">      0</td><td style=\"text-align: right;\">      0</td><td style=\"text-align: right;\">     0</td><td style=\"text-align: right;\">     1</td><td style=\"text-align: right;\">      0</td><td style=\"text-align: right;\">      0</td><td style=\"text-align: right;\">      0</td><td style=\"text-align: right;\">      0</td><td style=\"text-align: right;\">      0</td><td style=\"text-align: right;\">      0</td><td style=\"text-align: right;\">      0</td><td style=\"text-align: right;\">      0</td><td style=\"text-align: right;\">      1</td><td style=\"text-align: right;\">     0</td><td style=\"text-align: right;\">     0</td><td style=\"text-align: right;\">      0</td><td style=\"text-align: right;\">      0</td><td style=\"text-align: right;\">     0</td><td style=\"text-align: right;\">      0</td><td style=\"text-align: right;\">      0</td><td style=\"text-align: right;\">     0</td><td style=\"text-align: right;\">     0</td><td style=\"text-align: right;\">      0</td><td style=\"text-align: right;\">      0</td><td style=\"text-align: right;\">     0</td><td style=\"text-align: right;\">     0</td><td style=\"text-align: right;\">      0</td><td style=\"text-align: right;\">      0</td><td style=\"text-align: right;\">     0</td><td style=\"text-align: right;\">     0</td><td style=\"text-align: right;\">      0</td><td style=\"text-align: right;\">      0</td><td style=\"text-align: right;\">          2690</td><td style=\"text-align: right;\">                       0</td><td style=\"text-align: right;\">     4  </td></tr>\n",
              "</tbody>\n",
              "</table>"
            ]
          },
          "metadata": {
            "tags": []
          }
        },
        {
          "output_type": "execute_result",
          "data": {
            "text/plain": [
              ""
            ]
          },
          "metadata": {
            "tags": []
          },
          "execution_count": 54
        }
      ]
    },
    {
      "cell_type": "markdown",
      "metadata": {
        "id": "T8XTZjb2jYxN",
        "colab_type": "text"
      },
      "source": [
        "Set up an H2OAutoML class and specify a max_runtime_secs. I've given it 1200 to make it comparable to the GridSearchCV() we did with XGBoost (that generally takes me about 20 minutes).\n",
        "\n",
        "Then we train and pass x = column names of features y = column name of the target (it's target here) training_frame = our h2o_train frame validation_frame = our h2o_test frame"
      ]
    },
    {
      "cell_type": "code",
      "metadata": {
        "id": "ks18FGfpjT1O",
        "colab_type": "code",
        "colab": {
          "base_uri": "https://localhost:8080/",
          "height": 34
        },
        "outputId": "2fce12c8-f859-4527-ebc7-5ff2939bd703"
      },
      "source": [
        "aml = H2OAutoML(max_runtime_secs=1200, seed=1)\n",
        "aml.train(x=list(X_train.columns), y=\"target\", training_frame=h2o_train, validation_frame=h2o_test)"
      ],
      "execution_count": 55,
      "outputs": [
        {
          "output_type": "stream",
          "text": [
            "AutoML progress: |████████████████████████████████████████████████████████| 100%\n"
          ],
          "name": "stdout"
        }
      ]
    },
    {
      "cell_type": "markdown",
      "metadata": {
        "id": "EDbQXtfPjs_J",
        "colab_type": "text"
      },
      "source": [
        "Let's look at how the models performed! The leaderboard shows you the best models, sorted from the best to the worst."
      ]
    },
    {
      "cell_type": "code",
      "metadata": {
        "id": "MxgS7HgXjhNb",
        "colab_type": "code",
        "colab": {
          "base_uri": "https://localhost:8080/",
          "height": 250
        },
        "outputId": "b96e7af7-01dd-49de-87cd-a7527543e944"
      },
      "source": [
        "lb = aml.leaderboard\n",
        "lb.head()"
      ],
      "execution_count": 56,
      "outputs": [
        {
          "output_type": "display_data",
          "data": {
            "text/html": [
              "<table>\n",
              "<thead>\n",
              "<tr><th>model_id                                           </th><th style=\"text-align: right;\">  mean_residual_deviance</th><th style=\"text-align: right;\">    rmse</th><th style=\"text-align: right;\">     mse</th><th style=\"text-align: right;\">     mae</th><th style=\"text-align: right;\">   rmsle</th></tr>\n",
              "</thead>\n",
              "<tbody>\n",
              "<tr><td>StackedEnsemble_BestOfFamily_AutoML_20191212_192024</td><td style=\"text-align: right;\">                0.336041</td><td style=\"text-align: right;\">0.579691</td><td style=\"text-align: right;\">0.336041</td><td style=\"text-align: right;\">0.417007</td><td style=\"text-align: right;\">0.128836</td></tr>\n",
              "<tr><td>StackedEnsemble_AllModels_AutoML_20191212_192024   </td><td style=\"text-align: right;\">                0.336549</td><td style=\"text-align: right;\">0.580129</td><td style=\"text-align: right;\">0.336549</td><td style=\"text-align: right;\">0.417645</td><td style=\"text-align: right;\">0.128876</td></tr>\n",
              "<tr><td>GBM_grid_1_AutoML_20191212_192024_model_8          </td><td style=\"text-align: right;\">                0.341609</td><td style=\"text-align: right;\">0.584474</td><td style=\"text-align: right;\">0.341609</td><td style=\"text-align: right;\">0.423087</td><td style=\"text-align: right;\">0.129856</td></tr>\n",
              "<tr><td>XGBoost_grid_1_AutoML_20191212_192024_model_7      </td><td style=\"text-align: right;\">                0.343279</td><td style=\"text-align: right;\">0.5859  </td><td style=\"text-align: right;\">0.343279</td><td style=\"text-align: right;\">0.423266</td><td style=\"text-align: right;\">0.129677</td></tr>\n",
              "<tr><td>XGBoost_grid_1_AutoML_20191212_192024_model_2      </td><td style=\"text-align: right;\">                0.344462</td><td style=\"text-align: right;\">0.586909</td><td style=\"text-align: right;\">0.344462</td><td style=\"text-align: right;\">0.425702</td><td style=\"text-align: right;\">0.130062</td></tr>\n",
              "<tr><td>XGBoost_grid_1_AutoML_20191212_192024_model_6      </td><td style=\"text-align: right;\">                0.344827</td><td style=\"text-align: right;\">0.58722 </td><td style=\"text-align: right;\">0.344827</td><td style=\"text-align: right;\">0.424036</td><td style=\"text-align: right;\">0.13017 </td></tr>\n",
              "<tr><td>XGBoost_grid_1_AutoML_20191212_192024_model_1      </td><td style=\"text-align: right;\">                0.345168</td><td style=\"text-align: right;\">0.58751 </td><td style=\"text-align: right;\">0.345168</td><td style=\"text-align: right;\">0.424503</td><td style=\"text-align: right;\">0.130213</td></tr>\n",
              "<tr><td>XGBoost_3_AutoML_20191212_192024                   </td><td style=\"text-align: right;\">                0.345386</td><td style=\"text-align: right;\">0.587696</td><td style=\"text-align: right;\">0.345386</td><td style=\"text-align: right;\">0.425939</td><td style=\"text-align: right;\">0.130238</td></tr>\n",
              "<tr><td>GBM_3_AutoML_20191212_192024                       </td><td style=\"text-align: right;\">                0.346713</td><td style=\"text-align: right;\">0.588823</td><td style=\"text-align: right;\">0.346713</td><td style=\"text-align: right;\">0.42631 </td><td style=\"text-align: right;\">0.130659</td></tr>\n",
              "<tr><td>XGBoost_grid_1_AutoML_20191212_192024_model_5      </td><td style=\"text-align: right;\">                0.34743 </td><td style=\"text-align: right;\">0.589432</td><td style=\"text-align: right;\">0.34743 </td><td style=\"text-align: right;\">0.423604</td><td style=\"text-align: right;\">0.130713</td></tr>\n",
              "</tbody>\n",
              "</table>"
            ]
          },
          "metadata": {
            "tags": []
          }
        },
        {
          "output_type": "execute_result",
          "data": {
            "text/plain": [
              ""
            ]
          },
          "metadata": {
            "tags": []
          },
          "execution_count": 56
        }
      ]
    },
    {
      "cell_type": "markdown",
      "metadata": {
        "id": "ZY8RlD9ikB2U",
        "colab_type": "text"
      },
      "source": [
        "So the best ensemble gave use a rmse of 0.579691, which is a further improvement. The longer you let it run, the better your chance of getting good models, so you can definitely try for longer than 22 minutes.\n",
        "\n",
        "Finally, we can use the model to predict."
      ]
    },
    {
      "cell_type": "code",
      "metadata": {
        "id": "Mc7haQitj_gT",
        "colab_type": "code",
        "colab": {
          "base_uri": "https://localhost:8080/",
          "height": 267
        },
        "outputId": "42d08e88-d556-4a1e-f032-ce64613a8cc6"
      },
      "source": [
        "aml.predict(h2o_test)"
      ],
      "execution_count": 57,
      "outputs": [
        {
          "output_type": "stream",
          "text": [
            "stackedensemble prediction progress: |████████████████████████████████████| 100%\n"
          ],
          "name": "stdout"
        },
        {
          "output_type": "display_data",
          "data": {
            "text/html": [
              "<table>\n",
              "<thead>\n",
              "<tr><th style=\"text-align: right;\">  predict</th></tr>\n",
              "</thead>\n",
              "<tbody>\n",
              "<tr><td style=\"text-align: right;\">  3.88053</td></tr>\n",
              "<tr><td style=\"text-align: right;\">  3.75177</td></tr>\n",
              "<tr><td style=\"text-align: right;\">  4.50791</td></tr>\n",
              "<tr><td style=\"text-align: right;\">  4.15738</td></tr>\n",
              "<tr><td style=\"text-align: right;\">  3.90072</td></tr>\n",
              "<tr><td style=\"text-align: right;\">  4.46506</td></tr>\n",
              "<tr><td style=\"text-align: right;\">  4.29696</td></tr>\n",
              "<tr><td style=\"text-align: right;\">  4.26057</td></tr>\n",
              "<tr><td style=\"text-align: right;\">  4.49809</td></tr>\n",
              "<tr><td style=\"text-align: right;\">  4.34824</td></tr>\n",
              "</tbody>\n",
              "</table>"
            ]
          },
          "metadata": {
            "tags": []
          }
        },
        {
          "output_type": "execute_result",
          "data": {
            "text/plain": [
              ""
            ]
          },
          "metadata": {
            "tags": []
          },
          "execution_count": 57
        }
      ]
    },
    {
      "cell_type": "markdown",
      "metadata": {
        "id": "qtvA_f4Po61h",
        "colab_type": "text"
      },
      "source": [
        "RMSE: 0.68 on linear regression, 0.61 on XGboost, 0.58 on H2O AutoML"
      ]
    },
    {
      "cell_type": "code",
      "metadata": {
        "id": "EoqoHrrhkFwz",
        "colab_type": "code",
        "colab": {}
      },
      "source": [
        ""
      ],
      "execution_count": 0,
      "outputs": []
    }
  ]
}